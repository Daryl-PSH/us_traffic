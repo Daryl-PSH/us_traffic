{
 "cells": [
  {
   "cell_type": "code",
   "execution_count": 1,
   "id": "fb09b54e",
   "metadata": {},
   "outputs": [],
   "source": [
    "import pandas as pd\n",
    "\n",
    "pd.set_option('display.max_rows', 500)\n",
    "pd.set_option('display.max_columns', 500)\n",
    "pd.set_option('display.width', 1000)"
   ]
  },
  {
   "cell_type": "code",
   "execution_count": 2,
   "id": "3d7d61ce",
   "metadata": {},
   "outputs": [],
   "source": [
    "station_path = \"../data/raw/dot_traffic_stations_2015.txt.gz\"\n",
    "traffic_df = \"../data/raw/dot_traffic_2015.txt.gz\""
   ]
  },
  {
   "cell_type": "code",
   "execution_count": 3,
   "id": "e1484bc9",
   "metadata": {},
   "outputs": [],
   "source": [
    "station_df = pd.read_csv(station_path, compression=\"gzip\")"
   ]
  },
  {
   "cell_type": "code",
   "execution_count": 4,
   "id": "cbd669f2",
   "metadata": {},
   "outputs": [],
   "source": [
    "traffic_df = pd.read_csv(traffic_df, compression=\"gzip\")"
   ]
  },
  {
   "cell_type": "markdown",
   "id": "f81cf661",
   "metadata": {},
   "source": [
    "# Data Cleaning\n",
    "\n",
    "We take a glimpse of the data and clean both of the dataset before conducting any EDA. We will do this methodically by first cleaning the station dataset followed by the traffic dataset. "
   ]
  },
  {
   "cell_type": "markdown",
   "id": "86141955",
   "metadata": {},
   "source": [
    "## Station Data"
   ]
  },
  {
   "cell_type": "code",
   "execution_count": 5,
   "id": "6125a43e",
   "metadata": {},
   "outputs": [
    {
     "name": "stdout",
     "output_type": "stream",
     "text": [
      "<class 'pandas.core.frame.DataFrame'>\n",
      "RangeIndex: 28466 entries, 0 to 28465\n",
      "Data columns (total 55 columns):\n",
      " #   Column                                            Non-Null Count  Dtype  \n",
      "---  ------                                            --------------  -----  \n",
      " 0   algorithm_of_vehicle_classification               18576 non-null  object \n",
      " 1   algorithm_of_vehicle_classification_name          17335 non-null  object \n",
      " 2   calibration_of_weighing_system                    8165 non-null   object \n",
      " 3   calibration_of_weighing_system_name               6681 non-null   object \n",
      " 4   classification_system_for_vehicle_classification  28466 non-null  int64  \n",
      " 5   concurrent_route_signing                          28466 non-null  int64  \n",
      " 6   concurrent_signed_route_number                    13592 non-null  object \n",
      " 7   direction_of_travel                               28466 non-null  int64  \n",
      " 8   direction_of_travel_name                          28466 non-null  object \n",
      " 9   fips_county_code                                  28466 non-null  int64  \n",
      " 10  fips_state_code                                   28466 non-null  int64  \n",
      " 11  functional_classification                         28466 non-null  object \n",
      " 12  functional_classification_name                    28466 non-null  object \n",
      " 13  hpms_sample_identifier                            13218 non-null  object \n",
      " 14  hpms_sample_type                                  28466 non-null  object \n",
      " 15  lane_of_travel                                    28466 non-null  int64  \n",
      " 16  lane_of_travel_name                               28466 non-null  object \n",
      " 17  latitude                                          28465 non-null  float64\n",
      " 18  longitude                                         28465 non-null  float64\n",
      " 19  lrs_identification                                22950 non-null  object \n",
      " 20  lrs_location_point                                19467 non-null  float64\n",
      " 21  method_of_data_retrieval                          28466 non-null  int64  \n",
      " 22  method_of_data_retrieval_name                     28026 non-null  object \n",
      " 23  method_of_traffic_volume_counting                 28466 non-null  int64  \n",
      " 24  method_of_traffic_volume_counting_name            27586 non-null  object \n",
      " 25  method_of_truck_weighing                          28466 non-null  int64  \n",
      " 26  method_of_truck_weighing_name                     5886 non-null   object \n",
      " 27  method_of_vehicle_classification                  28466 non-null  int64  \n",
      " 28  method_of_vehicle_classification_name             17286 non-null  object \n",
      " 29  national_highway_system                           28466 non-null  object \n",
      " 30  number_of_lanes_in_direction_indicated            28466 non-null  int64  \n",
      " 31  number_of_lanes_monitored_for_traffic_volume      28466 non-null  int64  \n",
      " 32  number_of_lanes_monitored_for_truck_weight        28466 non-null  int64  \n",
      " 33  number_of_lanes_monitored_for_vehicle_class       28466 non-null  int64  \n",
      " 34  posted_route_signing                              28466 non-null  int64  \n",
      " 35  posted_signed_route_number                        27672 non-null  object \n",
      " 36  previous_station_id                               5955 non-null   object \n",
      " 37  primary_purpose                                   28256 non-null  object \n",
      " 38  primary_purpose_name                              27818 non-null  object \n",
      " 39  record_type                                       28466 non-null  object \n",
      " 40  sample_type_for_traffic_volume                    27654 non-null  object \n",
      " 41  sample_type_for_traffic_volume_name               27416 non-null  object \n",
      " 42  sample_type_for_truck_weight                      16404 non-null  object \n",
      " 43  sample_type_for_truck_weight_name                 15654 non-null  object \n",
      " 44  sample_type_for_vehicle_classification            24979 non-null  object \n",
      " 45  sample_type_for_vehicle_classification_name       24052 non-null  object \n",
      " 46  second_type_of_sensor                             22730 non-null  object \n",
      " 47  shrp_site_identification                          4053 non-null   object \n",
      " 48  station_id                                        28466 non-null  object \n",
      " 49  station_location                                  28429 non-null  object \n",
      " 50  type_of_sensor                                    28114 non-null  object \n",
      " 51  type_of_sensor_name                               28114 non-null  object \n",
      " 52  year_of_data                                      28466 non-null  int64  \n",
      " 53  year_station_discontinued                         28466 non-null  int64  \n",
      " 54  year_station_established                          28466 non-null  int64  \n",
      "dtypes: float64(3), int64(18), object(34)\n",
      "memory usage: 11.9+ MB\n"
     ]
    }
   ],
   "source": [
    "station_df.info()"
   ]
  },
  {
   "cell_type": "code",
   "execution_count": 6,
   "id": "903d72a6",
   "metadata": {},
   "outputs": [
    {
     "data": {
      "text/plain": [
       "algorithm_of_vehicle_classification                  9890\n",
       "algorithm_of_vehicle_classification_name            11131\n",
       "calibration_of_weighing_system                      20301\n",
       "calibration_of_weighing_system_name                 21785\n",
       "classification_system_for_vehicle_classification        0\n",
       "concurrent_route_signing                                0\n",
       "concurrent_signed_route_number                      14874\n",
       "direction_of_travel                                     0\n",
       "direction_of_travel_name                                0\n",
       "fips_county_code                                        0\n",
       "fips_state_code                                         0\n",
       "functional_classification                               0\n",
       "functional_classification_name                          0\n",
       "hpms_sample_identifier                              15248\n",
       "hpms_sample_type                                        0\n",
       "lane_of_travel                                          0\n",
       "lane_of_travel_name                                     0\n",
       "latitude                                                1\n",
       "longitude                                               1\n",
       "lrs_identification                                   5516\n",
       "lrs_location_point                                   8999\n",
       "method_of_data_retrieval                                0\n",
       "method_of_data_retrieval_name                         440\n",
       "method_of_traffic_volume_counting                       0\n",
       "method_of_traffic_volume_counting_name                880\n",
       "method_of_truck_weighing                                0\n",
       "method_of_truck_weighing_name                       22580\n",
       "method_of_vehicle_classification                        0\n",
       "method_of_vehicle_classification_name               11180\n",
       "national_highway_system                                 0\n",
       "number_of_lanes_in_direction_indicated                  0\n",
       "number_of_lanes_monitored_for_traffic_volume            0\n",
       "number_of_lanes_monitored_for_truck_weight              0\n",
       "number_of_lanes_monitored_for_vehicle_class             0\n",
       "posted_route_signing                                    0\n",
       "posted_signed_route_number                            794\n",
       "previous_station_id                                 22511\n",
       "primary_purpose                                       210\n",
       "primary_purpose_name                                  648\n",
       "record_type                                             0\n",
       "sample_type_for_traffic_volume                        812\n",
       "sample_type_for_traffic_volume_name                  1050\n",
       "sample_type_for_truck_weight                        12062\n",
       "sample_type_for_truck_weight_name                   12812\n",
       "sample_type_for_vehicle_classification               3487\n",
       "sample_type_for_vehicle_classification_name          4414\n",
       "second_type_of_sensor                                5736\n",
       "shrp_site_identification                            24413\n",
       "station_id                                              0\n",
       "station_location                                       37\n",
       "type_of_sensor                                        352\n",
       "type_of_sensor_name                                   352\n",
       "year_of_data                                            0\n",
       "year_station_discontinued                               0\n",
       "year_station_established                                0\n",
       "dtype: int64"
      ]
     },
     "execution_count": 6,
     "metadata": {},
     "output_type": "execute_result"
    }
   ],
   "source": [
    "station_df.isnull().sum()"
   ]
  },
  {
   "cell_type": "code",
   "execution_count": 7,
   "id": "511c4d32",
   "metadata": {},
   "outputs": [
    {
     "data": {
      "text/html": [
       "<div>\n",
       "<style scoped>\n",
       "    .dataframe tbody tr th:only-of-type {\n",
       "        vertical-align: middle;\n",
       "    }\n",
       "\n",
       "    .dataframe tbody tr th {\n",
       "        vertical-align: top;\n",
       "    }\n",
       "\n",
       "    .dataframe thead th {\n",
       "        text-align: right;\n",
       "    }\n",
       "</style>\n",
       "<table border=\"1\" class=\"dataframe\">\n",
       "  <thead>\n",
       "    <tr style=\"text-align: right;\">\n",
       "      <th></th>\n",
       "      <th>algorithm_of_vehicle_classification</th>\n",
       "      <th>algorithm_of_vehicle_classification_name</th>\n",
       "      <th>calibration_of_weighing_system</th>\n",
       "      <th>calibration_of_weighing_system_name</th>\n",
       "      <th>classification_system_for_vehicle_classification</th>\n",
       "      <th>concurrent_route_signing</th>\n",
       "      <th>concurrent_signed_route_number</th>\n",
       "      <th>direction_of_travel</th>\n",
       "      <th>direction_of_travel_name</th>\n",
       "      <th>fips_county_code</th>\n",
       "      <th>fips_state_code</th>\n",
       "      <th>functional_classification</th>\n",
       "      <th>functional_classification_name</th>\n",
       "      <th>hpms_sample_identifier</th>\n",
       "      <th>hpms_sample_type</th>\n",
       "      <th>lane_of_travel</th>\n",
       "      <th>lane_of_travel_name</th>\n",
       "      <th>latitude</th>\n",
       "      <th>longitude</th>\n",
       "      <th>lrs_identification</th>\n",
       "      <th>lrs_location_point</th>\n",
       "      <th>method_of_data_retrieval</th>\n",
       "      <th>method_of_data_retrieval_name</th>\n",
       "      <th>method_of_traffic_volume_counting</th>\n",
       "      <th>method_of_traffic_volume_counting_name</th>\n",
       "      <th>method_of_truck_weighing</th>\n",
       "      <th>method_of_truck_weighing_name</th>\n",
       "      <th>method_of_vehicle_classification</th>\n",
       "      <th>method_of_vehicle_classification_name</th>\n",
       "      <th>national_highway_system</th>\n",
       "      <th>number_of_lanes_in_direction_indicated</th>\n",
       "      <th>number_of_lanes_monitored_for_traffic_volume</th>\n",
       "      <th>number_of_lanes_monitored_for_truck_weight</th>\n",
       "      <th>number_of_lanes_monitored_for_vehicle_class</th>\n",
       "      <th>posted_route_signing</th>\n",
       "      <th>posted_signed_route_number</th>\n",
       "      <th>previous_station_id</th>\n",
       "      <th>primary_purpose</th>\n",
       "      <th>primary_purpose_name</th>\n",
       "      <th>record_type</th>\n",
       "      <th>sample_type_for_traffic_volume</th>\n",
       "      <th>sample_type_for_traffic_volume_name</th>\n",
       "      <th>sample_type_for_truck_weight</th>\n",
       "      <th>sample_type_for_truck_weight_name</th>\n",
       "      <th>sample_type_for_vehicle_classification</th>\n",
       "      <th>sample_type_for_vehicle_classification_name</th>\n",
       "      <th>second_type_of_sensor</th>\n",
       "      <th>shrp_site_identification</th>\n",
       "      <th>station_id</th>\n",
       "      <th>station_location</th>\n",
       "      <th>type_of_sensor</th>\n",
       "      <th>type_of_sensor_name</th>\n",
       "      <th>year_of_data</th>\n",
       "      <th>year_station_discontinued</th>\n",
       "      <th>year_station_established</th>\n",
       "    </tr>\n",
       "  </thead>\n",
       "  <tbody>\n",
       "    <tr>\n",
       "      <th>0</th>\n",
       "      <td>NaN</td>\n",
       "      <td>NaN</td>\n",
       "      <td>NaN</td>\n",
       "      <td>NaN</td>\n",
       "      <td>13</td>\n",
       "      <td>3</td>\n",
       "      <td>091</td>\n",
       "      <td>7</td>\n",
       "      <td>West</td>\n",
       "      <td>59</td>\n",
       "      <td>6</td>\n",
       "      <td>2U</td>\n",
       "      <td>Urban: Principal Arterial - Other Freeways or ...</td>\n",
       "      <td>NaN</td>\n",
       "      <td>N</td>\n",
       "      <td>4</td>\n",
       "      <td>Other lanes</td>\n",
       "      <td>33.850898</td>\n",
       "      <td>117.814391</td>\n",
       "      <td>00000000091R</td>\n",
       "      <td>NaN</td>\n",
       "      <td>2</td>\n",
       "      <td>Automated (telemetry)</td>\n",
       "      <td>3</td>\n",
       "      <td>Permanent automatic traffic recorder (ATR)</td>\n",
       "      <td>0</td>\n",
       "      <td>NaN</td>\n",
       "      <td>0</td>\n",
       "      <td>NaN</td>\n",
       "      <td>Y</td>\n",
       "      <td>5</td>\n",
       "      <td>5</td>\n",
       "      <td>0</td>\n",
       "      <td>0</td>\n",
       "      <td>3</td>\n",
       "      <td>091</td>\n",
       "      <td>NaN</td>\n",
       "      <td>P</td>\n",
       "      <td>Planning or traffic statistics purposes</td>\n",
       "      <td>S</td>\n",
       "      <td>T</td>\n",
       "      <td>Station used for Traffic Volume Trends</td>\n",
       "      <td>NaN</td>\n",
       "      <td>NaN</td>\n",
       "      <td>N</td>\n",
       "      <td>Station not used for Heavy Vehicle Travel Info...</td>\n",
       "      <td>N</td>\n",
       "      <td>NaN</td>\n",
       "      <td>129130</td>\n",
       "      <td>LAKEVIEW AVENUE ORA91R10.091</td>\n",
       "      <td>L</td>\n",
       "      <td>Inductance loop</td>\n",
       "      <td>15</td>\n",
       "      <td>0</td>\n",
       "      <td>97</td>\n",
       "    </tr>\n",
       "    <tr>\n",
       "      <th>1</th>\n",
       "      <td>NaN</td>\n",
       "      <td>NaN</td>\n",
       "      <td>NaN</td>\n",
       "      <td>NaN</td>\n",
       "      <td>13</td>\n",
       "      <td>3</td>\n",
       "      <td>099</td>\n",
       "      <td>5</td>\n",
       "      <td>South</td>\n",
       "      <td>77</td>\n",
       "      <td>6</td>\n",
       "      <td>3R</td>\n",
       "      <td>Rural: Principal Arterial - Other</td>\n",
       "      <td>NaN</td>\n",
       "      <td>N</td>\n",
       "      <td>1</td>\n",
       "      <td>Outside (rightmost) lane</td>\n",
       "      <td>37.874697</td>\n",
       "      <td>121.219590</td>\n",
       "      <td>00000000099R</td>\n",
       "      <td>248336.0</td>\n",
       "      <td>2</td>\n",
       "      <td>Automated (telemetry)</td>\n",
       "      <td>3</td>\n",
       "      <td>Permanent automatic traffic recorder (ATR)</td>\n",
       "      <td>0</td>\n",
       "      <td>NaN</td>\n",
       "      <td>0</td>\n",
       "      <td>NaN</td>\n",
       "      <td>Y</td>\n",
       "      <td>2</td>\n",
       "      <td>2</td>\n",
       "      <td>0</td>\n",
       "      <td>0</td>\n",
       "      <td>3</td>\n",
       "      <td>099</td>\n",
       "      <td>NaN</td>\n",
       "      <td>P</td>\n",
       "      <td>Planning or traffic statistics purposes</td>\n",
       "      <td>S</td>\n",
       "      <td>T</td>\n",
       "      <td>Station used for Traffic Volume Trends</td>\n",
       "      <td>NaN</td>\n",
       "      <td>NaN</td>\n",
       "      <td>N</td>\n",
       "      <td>Station not used for Heavy Vehicle Travel Info...</td>\n",
       "      <td>N</td>\n",
       "      <td>NaN</td>\n",
       "      <td>100190</td>\n",
       "      <td>LITTLE JOHN CREEK SJ9912.526</td>\n",
       "      <td>L</td>\n",
       "      <td>Inductance loop</td>\n",
       "      <td>15</td>\n",
       "      <td>0</td>\n",
       "      <td>97</td>\n",
       "    </tr>\n",
       "    <tr>\n",
       "      <th>2</th>\n",
       "      <td>G</td>\n",
       "      <td>Axle spacing with Scheme F modified</td>\n",
       "      <td>NaN</td>\n",
       "      <td>NaN</td>\n",
       "      <td>15</td>\n",
       "      <td>1</td>\n",
       "      <td>005</td>\n",
       "      <td>1</td>\n",
       "      <td>North</td>\n",
       "      <td>93</td>\n",
       "      <td>6</td>\n",
       "      <td>1R</td>\n",
       "      <td>Rural: Principal Arterial - Interstate</td>\n",
       "      <td>NaN</td>\n",
       "      <td>N</td>\n",
       "      <td>2</td>\n",
       "      <td>Other lanes</td>\n",
       "      <td>41.441777</td>\n",
       "      <td>122.435010</td>\n",
       "      <td>00000000005R</td>\n",
       "      <td>750293.0</td>\n",
       "      <td>2</td>\n",
       "      <td>Automated (telemetry)</td>\n",
       "      <td>3</td>\n",
       "      <td>Permanent automatic traffic recorder (ATR)</td>\n",
       "      <td>0</td>\n",
       "      <td>NaN</td>\n",
       "      <td>3</td>\n",
       "      <td>Permanent vehicle classification device</td>\n",
       "      <td>Y</td>\n",
       "      <td>2</td>\n",
       "      <td>2</td>\n",
       "      <td>0</td>\n",
       "      <td>2</td>\n",
       "      <td>1</td>\n",
       "      <td>005</td>\n",
       "      <td>NaN</td>\n",
       "      <td>P</td>\n",
       "      <td>Planning or traffic statistics purposes</td>\n",
       "      <td>S</td>\n",
       "      <td>T</td>\n",
       "      <td>Station used for Traffic Volume Trends</td>\n",
       "      <td>NaN</td>\n",
       "      <td>NaN</td>\n",
       "      <td>H</td>\n",
       "      <td>Station used for Heavy Vehicle Travel Informat...</td>\n",
       "      <td>N</td>\n",
       "      <td>NaN</td>\n",
       "      <td>022940</td>\n",
       "      <td>EDGEWOOD SIS5R22.999</td>\n",
       "      <td>P</td>\n",
       "      <td>Piezoelectric</td>\n",
       "      <td>15</td>\n",
       "      <td>0</td>\n",
       "      <td>69</td>\n",
       "    </tr>\n",
       "    <tr>\n",
       "      <th>3</th>\n",
       "      <td>D</td>\n",
       "      <td>Vehicle length classification</td>\n",
       "      <td>M</td>\n",
       "      <td>Moving average of the steering axle of 3S2s</td>\n",
       "      <td>13</td>\n",
       "      <td>0</td>\n",
       "      <td>NaN</td>\n",
       "      <td>5</td>\n",
       "      <td>South</td>\n",
       "      <td>35</td>\n",
       "      <td>49</td>\n",
       "      <td>1U</td>\n",
       "      <td>Urban: Principal Arterial - Interstate</td>\n",
       "      <td>A00015293910</td>\n",
       "      <td>Y</td>\n",
       "      <td>1</td>\n",
       "      <td>Outside (rightmost) lane</td>\n",
       "      <td>40.516500</td>\n",
       "      <td>111.891520</td>\n",
       "      <td>000000001500</td>\n",
       "      <td>290600.0</td>\n",
       "      <td>2</td>\n",
       "      <td>Automated (telemetry)</td>\n",
       "      <td>3</td>\n",
       "      <td>Permanent automatic traffic recorder (ATR)</td>\n",
       "      <td>4</td>\n",
       "      <td>Portable weigh-in-motion system</td>\n",
       "      <td>3</td>\n",
       "      <td>Permanent vehicle classification device</td>\n",
       "      <td>Y</td>\n",
       "      <td>5</td>\n",
       "      <td>5</td>\n",
       "      <td>5</td>\n",
       "      <td>5</td>\n",
       "      <td>1</td>\n",
       "      <td>15</td>\n",
       "      <td>NaN</td>\n",
       "      <td>P</td>\n",
       "      <td>Planning or traffic statistics purposes</td>\n",
       "      <td>S</td>\n",
       "      <td>T</td>\n",
       "      <td>Station used for Traffic Volume Trends</td>\n",
       "      <td>B</td>\n",
       "      <td>Station used for TMG sample and Strategic High...</td>\n",
       "      <td>N</td>\n",
       "      <td>Station not used for Heavy Vehicle Travel Info...</td>\n",
       "      <td>NaN</td>\n",
       "      <td>NaN</td>\n",
       "      <td>000302</td>\n",
       "      <td>I 15  12900 South  M.P.  290.6</td>\n",
       "      <td>X</td>\n",
       "      <td>Radio wave</td>\n",
       "      <td>15</td>\n",
       "      <td>0</td>\n",
       "      <td>11</td>\n",
       "    </tr>\n",
       "    <tr>\n",
       "      <th>4</th>\n",
       "      <td>G</td>\n",
       "      <td>Axle spacing with Scheme F modified</td>\n",
       "      <td>0</td>\n",
       "      <td>NaN</td>\n",
       "      <td>14</td>\n",
       "      <td>1</td>\n",
       "      <td>000000</td>\n",
       "      <td>7</td>\n",
       "      <td>West</td>\n",
       "      <td>27</td>\n",
       "      <td>34</td>\n",
       "      <td>1U</td>\n",
       "      <td>Urban: Principal Arterial - Interstate</td>\n",
       "      <td>NaN</td>\n",
       "      <td>N</td>\n",
       "      <td>4</td>\n",
       "      <td>Other lanes</td>\n",
       "      <td>40.892373</td>\n",
       "      <td>74.484206</td>\n",
       "      <td>NaN</td>\n",
       "      <td>NaN</td>\n",
       "      <td>2</td>\n",
       "      <td>Automated (telemetry)</td>\n",
       "      <td>2</td>\n",
       "      <td>Portable traffic recording device</td>\n",
       "      <td>0</td>\n",
       "      <td>NaN</td>\n",
       "      <td>3</td>\n",
       "      <td>Permanent vehicle classification device</td>\n",
       "      <td>Y</td>\n",
       "      <td>4</td>\n",
       "      <td>4</td>\n",
       "      <td>4</td>\n",
       "      <td>4</td>\n",
       "      <td>1</td>\n",
       "      <td>000080</td>\n",
       "      <td>NaN</td>\n",
       "      <td>P</td>\n",
       "      <td>Planning or traffic statistics purposes</td>\n",
       "      <td>S</td>\n",
       "      <td>T</td>\n",
       "      <td>Station used for Traffic Volume Trends</td>\n",
       "      <td>N</td>\n",
       "      <td>Station not used for any of the above</td>\n",
       "      <td>N</td>\n",
       "      <td>Station not used for Heavy Vehicle Travel Info...</td>\n",
       "      <td>NaN</td>\n",
       "      <td>NaN</td>\n",
       "      <td>W01136</td>\n",
       "      <td>E. of Franklin Rd Underpass</td>\n",
       "      <td>L</td>\n",
       "      <td>Inductance loop</td>\n",
       "      <td>15</td>\n",
       "      <td>0</td>\n",
       "      <td>95</td>\n",
       "    </tr>\n",
       "    <tr>\n",
       "      <th>5</th>\n",
       "      <td>NaN</td>\n",
       "      <td>NaN</td>\n",
       "      <td>NaN</td>\n",
       "      <td>NaN</td>\n",
       "      <td>13</td>\n",
       "      <td>0</td>\n",
       "      <td>NaN</td>\n",
       "      <td>3</td>\n",
       "      <td>East</td>\n",
       "      <td>27</td>\n",
       "      <td>16</td>\n",
       "      <td>1U</td>\n",
       "      <td>Urban: Principal Arterial - Interstate</td>\n",
       "      <td>EHUBBWQBVKPC</td>\n",
       "      <td>Y</td>\n",
       "      <td>1</td>\n",
       "      <td>Outside (rightmost) lane</td>\n",
       "      <td>43.599300</td>\n",
       "      <td>116.558919</td>\n",
       "      <td>001010</td>\n",
       "      <td>35701.0</td>\n",
       "      <td>2</td>\n",
       "      <td>Automated (telemetry)</td>\n",
       "      <td>3</td>\n",
       "      <td>Permanent automatic traffic recorder (ATR)</td>\n",
       "      <td>0</td>\n",
       "      <td>NaN</td>\n",
       "      <td>0</td>\n",
       "      <td>NaN</td>\n",
       "      <td>Y</td>\n",
       "      <td>2</td>\n",
       "      <td>2</td>\n",
       "      <td>0</td>\n",
       "      <td>0</td>\n",
       "      <td>1</td>\n",
       "      <td>84</td>\n",
       "      <td>NaN</td>\n",
       "      <td>P</td>\n",
       "      <td>Planning or traffic statistics purposes</td>\n",
       "      <td>S</td>\n",
       "      <td>T</td>\n",
       "      <td>Station used for Traffic Volume Trends</td>\n",
       "      <td>NaN</td>\n",
       "      <td>NaN</td>\n",
       "      <td>N</td>\n",
       "      <td>Station not used for Heavy Vehicle Travel Info...</td>\n",
       "      <td>NaN</td>\n",
       "      <td>NaN</td>\n",
       "      <td>000276</td>\n",
       "      <td>I-84  300 Ft. W of Beg EB Off</td>\n",
       "      <td>L</td>\n",
       "      <td>Inductance loop</td>\n",
       "      <td>15</td>\n",
       "      <td>0</td>\n",
       "      <td>13</td>\n",
       "    </tr>\n",
       "    <tr>\n",
       "      <th>6</th>\n",
       "      <td>F</td>\n",
       "      <td>Axle spacing with Scheme F</td>\n",
       "      <td>NaN</td>\n",
       "      <td>NaN</td>\n",
       "      <td>13</td>\n",
       "      <td>0</td>\n",
       "      <td>NaN</td>\n",
       "      <td>5</td>\n",
       "      <td>South</td>\n",
       "      <td>49</td>\n",
       "      <td>28</td>\n",
       "      <td>1U</td>\n",
       "      <td>Urban: Principal Arterial - Interstate</td>\n",
       "      <td>NaN</td>\n",
       "      <td>N</td>\n",
       "      <td>1</td>\n",
       "      <td>Outside (rightmost) lane</td>\n",
       "      <td>32.348988</td>\n",
       "      <td>90.245834</td>\n",
       "      <td>25_0220P1</td>\n",
       "      <td>NaN</td>\n",
       "      <td>2</td>\n",
       "      <td>Automated (telemetry)</td>\n",
       "      <td>3</td>\n",
       "      <td>Permanent automatic traffic recorder (ATR)</td>\n",
       "      <td>0</td>\n",
       "      <td>NaN</td>\n",
       "      <td>3</td>\n",
       "      <td>Permanent vehicle classification device</td>\n",
       "      <td>Y</td>\n",
       "      <td>2</td>\n",
       "      <td>2</td>\n",
       "      <td>0</td>\n",
       "      <td>2</td>\n",
       "      <td>1</td>\n",
       "      <td>220</td>\n",
       "      <td>NaN</td>\n",
       "      <td>P</td>\n",
       "      <td>Planning or traffic statistics purposes</td>\n",
       "      <td>S</td>\n",
       "      <td>T</td>\n",
       "      <td>Station used for Traffic Volume Trends</td>\n",
       "      <td>NaN</td>\n",
       "      <td>NaN</td>\n",
       "      <td>H</td>\n",
       "      <td>Station used for Heavy Vehicle Travel Informat...</td>\n",
       "      <td>L</td>\n",
       "      <td>NaN</td>\n",
       "      <td>252560</td>\n",
       "      <td>AVC 222 - 0.5 mi N of Industri</td>\n",
       "      <td>P</td>\n",
       "      <td>Piezoelectric</td>\n",
       "      <td>15</td>\n",
       "      <td>0</td>\n",
       "      <td>8</td>\n",
       "    </tr>\n",
       "    <tr>\n",
       "      <th>7</th>\n",
       "      <td>G</td>\n",
       "      <td>Axle spacing with Scheme F modified</td>\n",
       "      <td>Z</td>\n",
       "      <td>Other method</td>\n",
       "      <td>15</td>\n",
       "      <td>2</td>\n",
       "      <td>00000002</td>\n",
       "      <td>7</td>\n",
       "      <td>West</td>\n",
       "      <td>63</td>\n",
       "      <td>53</td>\n",
       "      <td>3R</td>\n",
       "      <td>Rural: Principal Arterial - Other</td>\n",
       "      <td>500232110754</td>\n",
       "      <td>Y</td>\n",
       "      <td>2</td>\n",
       "      <td>Other lanes</td>\n",
       "      <td>47.845357</td>\n",
       "      <td>117.354419</td>\n",
       "      <td>000000000200</td>\n",
       "      <td>301400.0</td>\n",
       "      <td>2</td>\n",
       "      <td>Automated (telemetry)</td>\n",
       "      <td>3</td>\n",
       "      <td>Permanent automatic traffic recorder (ATR)</td>\n",
       "      <td>5</td>\n",
       "      <td>Permanent weigh-in-motion system</td>\n",
       "      <td>3</td>\n",
       "      <td>Permanent vehicle classification device</td>\n",
       "      <td>Y</td>\n",
       "      <td>2</td>\n",
       "      <td>2</td>\n",
       "      <td>2</td>\n",
       "      <td>2</td>\n",
       "      <td>2</td>\n",
       "      <td>00000002</td>\n",
       "      <td>NaN</td>\n",
       "      <td>R</td>\n",
       "      <td>Research purposes (e.g. LTPP)</td>\n",
       "      <td>S</td>\n",
       "      <td>T</td>\n",
       "      <td>Station used for Traffic Volume Trends</td>\n",
       "      <td>T</td>\n",
       "      <td>Station used for TMG sample (but not SHRP/LTPP...</td>\n",
       "      <td>H</td>\n",
       "      <td>Station used for Heavy Vehicle Travel Informat...</td>\n",
       "      <td>P</td>\n",
       "      <td>NaN</td>\n",
       "      <td>P28AAA</td>\n",
       "      <td>4.15_MI._N._OF_SR_206</td>\n",
       "      <td>P</td>\n",
       "      <td>Piezoelectric</td>\n",
       "      <td>15</td>\n",
       "      <td>0</td>\n",
       "      <td>93</td>\n",
       "    </tr>\n",
       "    <tr>\n",
       "      <th>8</th>\n",
       "      <td>F</td>\n",
       "      <td>Axle spacing with Scheme F</td>\n",
       "      <td>T</td>\n",
       "      <td>Test trucks only</td>\n",
       "      <td>13</td>\n",
       "      <td>0</td>\n",
       "      <td>NaN</td>\n",
       "      <td>7</td>\n",
       "      <td>West</td>\n",
       "      <td>141</td>\n",
       "      <td>28</td>\n",
       "      <td>3R</td>\n",
       "      <td>Rural: Principal Arterial - Other</td>\n",
       "      <td>711000010000</td>\n",
       "      <td>Y</td>\n",
       "      <td>1</td>\n",
       "      <td>Outside (rightmost) lane</td>\n",
       "      <td>34.774200</td>\n",
       "      <td>88.147575</td>\n",
       "      <td>71_0072P1</td>\n",
       "      <td>NaN</td>\n",
       "      <td>2</td>\n",
       "      <td>Automated (telemetry)</td>\n",
       "      <td>3</td>\n",
       "      <td>Permanent automatic traffic recorder (ATR)</td>\n",
       "      <td>5</td>\n",
       "      <td>Permanent weigh-in-motion system</td>\n",
       "      <td>3</td>\n",
       "      <td>Permanent vehicle classification device</td>\n",
       "      <td>Y</td>\n",
       "      <td>2</td>\n",
       "      <td>2</td>\n",
       "      <td>2</td>\n",
       "      <td>2</td>\n",
       "      <td>2</td>\n",
       "      <td>72</td>\n",
       "      <td>NaN</td>\n",
       "      <td>L</td>\n",
       "      <td>Load data for pavement design or pavement mana...</td>\n",
       "      <td>S</td>\n",
       "      <td>T</td>\n",
       "      <td>Station used for Traffic Volume Trends</td>\n",
       "      <td>B</td>\n",
       "      <td>Station used for TMG sample and Strategic High...</td>\n",
       "      <td>H</td>\n",
       "      <td>Station used for Heavy Vehicle Travel Informat...</td>\n",
       "      <td>L</td>\n",
       "      <td>3019</td>\n",
       "      <td>710107</td>\n",
       "      <td>WIM 118 - 2.0 mi W of AL State</td>\n",
       "      <td>Q</td>\n",
       "      <td>Quartz piezoelectric - NEW</td>\n",
       "      <td>15</td>\n",
       "      <td>0</td>\n",
       "      <td>80</td>\n",
       "    </tr>\n",
       "    <tr>\n",
       "      <th>9</th>\n",
       "      <td>NaN</td>\n",
       "      <td>NaN</td>\n",
       "      <td>NaN</td>\n",
       "      <td>NaN</td>\n",
       "      <td>13</td>\n",
       "      <td>2</td>\n",
       "      <td>00000017</td>\n",
       "      <td>5</td>\n",
       "      <td>South</td>\n",
       "      <td>177</td>\n",
       "      <td>51</td>\n",
       "      <td>1U</td>\n",
       "      <td>Urban: Principal Arterial - Interstate</td>\n",
       "      <td>NaN</td>\n",
       "      <td>N</td>\n",
       "      <td>0</td>\n",
       "      <td>Data with lanes combined</td>\n",
       "      <td>38.247320</td>\n",
       "      <td>77.507210</td>\n",
       "      <td>000000000000</td>\n",
       "      <td>0.0</td>\n",
       "      <td>2</td>\n",
       "      <td>Automated (telemetry)</td>\n",
       "      <td>3</td>\n",
       "      <td>Permanent automatic traffic recorder (ATR)</td>\n",
       "      <td>0</td>\n",
       "      <td>NaN</td>\n",
       "      <td>0</td>\n",
       "      <td>NaN</td>\n",
       "      <td>Y</td>\n",
       "      <td>3</td>\n",
       "      <td>3</td>\n",
       "      <td>0</td>\n",
       "      <td>0</td>\n",
       "      <td>1</td>\n",
       "      <td>00000095</td>\n",
       "      <td>000000</td>\n",
       "      <td>O</td>\n",
       "      <td>Operations purposes but not ITS</td>\n",
       "      <td>S</td>\n",
       "      <td>T</td>\n",
       "      <td>Station used for Traffic Volume Trends</td>\n",
       "      <td>N</td>\n",
       "      <td>Station not used for any of the above</td>\n",
       "      <td>N</td>\n",
       "      <td>Station not used for Heavy Vehicle Travel Info...</td>\n",
       "      <td>X</td>\n",
       "      <td>NaN</td>\n",
       "      <td>160004</td>\n",
       "      <td>I-95 SOUTH SHOULDER @ MM 126.8</td>\n",
       "      <td>X</td>\n",
       "      <td>Radio wave</td>\n",
       "      <td>15</td>\n",
       "      <td>0</td>\n",
       "      <td>9</td>\n",
       "    </tr>\n",
       "  </tbody>\n",
       "</table>\n",
       "</div>"
      ],
      "text/plain": [
       "  algorithm_of_vehicle_classification algorithm_of_vehicle_classification_name calibration_of_weighing_system          calibration_of_weighing_system_name  classification_system_for_vehicle_classification  concurrent_route_signing concurrent_signed_route_number  direction_of_travel direction_of_travel_name  fips_county_code  fips_state_code functional_classification                     functional_classification_name hpms_sample_identifier hpms_sample_type  lane_of_travel       lane_of_travel_name   latitude   longitude lrs_identification  lrs_location_point  method_of_data_retrieval method_of_data_retrieval_name  method_of_traffic_volume_counting      method_of_traffic_volume_counting_name  method_of_truck_weighing     method_of_truck_weighing_name  method_of_vehicle_classification    method_of_vehicle_classification_name national_highway_system  number_of_lanes_in_direction_indicated  number_of_lanes_monitored_for_traffic_volume  number_of_lanes_monitored_for_truck_weight  \\\n",
       "0                                 NaN                                      NaN                            NaN                                          NaN                                                13                         3                            091                    7                     West                59                6                        2U  Urban: Principal Arterial - Other Freeways or ...                    NaN                N               4               Other lanes  33.850898  117.814391       00000000091R                 NaN                         2         Automated (telemetry)                                  3  Permanent automatic traffic recorder (ATR)                         0                               NaN                                 0                                      NaN                       Y                                       5                                             5                                           0   \n",
       "1                                 NaN                                      NaN                            NaN                                          NaN                                                13                         3                            099                    5                    South                77                6                        3R                  Rural: Principal Arterial - Other                    NaN                N               1  Outside (rightmost) lane  37.874697  121.219590       00000000099R            248336.0                         2         Automated (telemetry)                                  3  Permanent automatic traffic recorder (ATR)                         0                               NaN                                 0                                      NaN                       Y                                       2                                             2                                           0   \n",
       "2                                   G      Axle spacing with Scheme F modified                            NaN                                          NaN                                                15                         1                            005                    1                    North                93                6                        1R             Rural: Principal Arterial - Interstate                    NaN                N               2               Other lanes  41.441777  122.435010       00000000005R            750293.0                         2         Automated (telemetry)                                  3  Permanent automatic traffic recorder (ATR)                         0                               NaN                                 3  Permanent vehicle classification device                       Y                                       2                                             2                                           0   \n",
       "3                                   D            Vehicle length classification                              M  Moving average of the steering axle of 3S2s                                                13                         0                            NaN                    5                    South                35               49                        1U             Urban: Principal Arterial - Interstate           A00015293910                Y               1  Outside (rightmost) lane  40.516500  111.891520       000000001500            290600.0                         2         Automated (telemetry)                                  3  Permanent automatic traffic recorder (ATR)                         4   Portable weigh-in-motion system                                 3  Permanent vehicle classification device                       Y                                       5                                             5                                           5   \n",
       "4                                   G      Axle spacing with Scheme F modified                              0                                          NaN                                                14                         1                         000000                    7                     West                27               34                        1U             Urban: Principal Arterial - Interstate                    NaN                N               4               Other lanes  40.892373   74.484206                NaN                 NaN                         2         Automated (telemetry)                                  2           Portable traffic recording device                         0                               NaN                                 3  Permanent vehicle classification device                       Y                                       4                                             4                                           4   \n",
       "5                                 NaN                                      NaN                            NaN                                          NaN                                                13                         0                            NaN                    3                     East                27               16                        1U             Urban: Principal Arterial - Interstate           EHUBBWQBVKPC                Y               1  Outside (rightmost) lane  43.599300  116.558919             001010             35701.0                         2         Automated (telemetry)                                  3  Permanent automatic traffic recorder (ATR)                         0                               NaN                                 0                                      NaN                       Y                                       2                                             2                                           0   \n",
       "6                                   F               Axle spacing with Scheme F                            NaN                                          NaN                                                13                         0                            NaN                    5                    South                49               28                        1U             Urban: Principal Arterial - Interstate                    NaN                N               1  Outside (rightmost) lane  32.348988   90.245834          25_0220P1                 NaN                         2         Automated (telemetry)                                  3  Permanent automatic traffic recorder (ATR)                         0                               NaN                                 3  Permanent vehicle classification device                       Y                                       2                                             2                                           0   \n",
       "7                                   G      Axle spacing with Scheme F modified                              Z                                 Other method                                                15                         2                       00000002                    7                     West                63               53                        3R                  Rural: Principal Arterial - Other           500232110754                Y               2               Other lanes  47.845357  117.354419       000000000200            301400.0                         2         Automated (telemetry)                                  3  Permanent automatic traffic recorder (ATR)                         5  Permanent weigh-in-motion system                                 3  Permanent vehicle classification device                       Y                                       2                                             2                                           2   \n",
       "8                                   F               Axle spacing with Scheme F                              T                             Test trucks only                                                13                         0                            NaN                    7                     West               141               28                        3R                  Rural: Principal Arterial - Other           711000010000                Y               1  Outside (rightmost) lane  34.774200   88.147575          71_0072P1                 NaN                         2         Automated (telemetry)                                  3  Permanent automatic traffic recorder (ATR)                         5  Permanent weigh-in-motion system                                 3  Permanent vehicle classification device                       Y                                       2                                             2                                           2   \n",
       "9                                 NaN                                      NaN                            NaN                                          NaN                                                13                         2                       00000017                    5                    South               177               51                        1U             Urban: Principal Arterial - Interstate                    NaN                N               0  Data with lanes combined  38.247320   77.507210       000000000000                 0.0                         2         Automated (telemetry)                                  3  Permanent automatic traffic recorder (ATR)                         0                               NaN                                 0                                      NaN                       Y                                       3                                             3                                           0   \n",
       "\n",
       "   number_of_lanes_monitored_for_vehicle_class  posted_route_signing posted_signed_route_number previous_station_id primary_purpose                               primary_purpose_name record_type sample_type_for_traffic_volume     sample_type_for_traffic_volume_name sample_type_for_truck_weight                  sample_type_for_truck_weight_name sample_type_for_vehicle_classification        sample_type_for_vehicle_classification_name second_type_of_sensor shrp_site_identification station_id                station_location type_of_sensor         type_of_sensor_name  year_of_data  year_station_discontinued  year_station_established  \n",
       "0                                            0                     3                        091                 NaN               P            Planning or traffic statistics purposes           S                              T  Station used for Traffic Volume Trends                          NaN                                                NaN                                      N  Station not used for Heavy Vehicle Travel Info...                     N                      NaN     129130    LAKEVIEW AVENUE ORA91R10.091              L             Inductance loop            15                          0                        97  \n",
       "1                                            0                     3                        099                 NaN               P            Planning or traffic statistics purposes           S                              T  Station used for Traffic Volume Trends                          NaN                                                NaN                                      N  Station not used for Heavy Vehicle Travel Info...                     N                      NaN     100190    LITTLE JOHN CREEK SJ9912.526              L             Inductance loop            15                          0                        97  \n",
       "2                                            2                     1                        005                 NaN               P            Planning or traffic statistics purposes           S                              T  Station used for Traffic Volume Trends                          NaN                                                NaN                                      H  Station used for Heavy Vehicle Travel Informat...                     N                      NaN     022940            EDGEWOOD SIS5R22.999              P               Piezoelectric            15                          0                        69  \n",
       "3                                            5                     1                         15                 NaN               P            Planning or traffic statistics purposes           S                              T  Station used for Traffic Volume Trends                            B  Station used for TMG sample and Strategic High...                                      N  Station not used for Heavy Vehicle Travel Info...                   NaN                      NaN     000302  I 15  12900 South  M.P.  290.6              X                  Radio wave            15                          0                        11  \n",
       "4                                            4                     1                     000080                 NaN               P            Planning or traffic statistics purposes           S                              T  Station used for Traffic Volume Trends                            N              Station not used for any of the above                                      N  Station not used for Heavy Vehicle Travel Info...                   NaN                      NaN     W01136     E. of Franklin Rd Underpass              L             Inductance loop            15                          0                        95  \n",
       "5                                            0                     1                         84                 NaN               P            Planning or traffic statistics purposes           S                              T  Station used for Traffic Volume Trends                          NaN                                                NaN                                      N  Station not used for Heavy Vehicle Travel Info...                   NaN                      NaN     000276   I-84  300 Ft. W of Beg EB Off              L             Inductance loop            15                          0                        13  \n",
       "6                                            2                     1                        220                 NaN               P            Planning or traffic statistics purposes           S                              T  Station used for Traffic Volume Trends                          NaN                                                NaN                                      H  Station used for Heavy Vehicle Travel Informat...                     L                      NaN     252560  AVC 222 - 0.5 mi N of Industri              P               Piezoelectric            15                          0                         8  \n",
       "7                                            2                     2                   00000002                 NaN               R                      Research purposes (e.g. LTPP)           S                              T  Station used for Traffic Volume Trends                            T  Station used for TMG sample (but not SHRP/LTPP...                                      H  Station used for Heavy Vehicle Travel Informat...                     P                      NaN     P28AAA           4.15_MI._N._OF_SR_206              P               Piezoelectric            15                          0                        93  \n",
       "8                                            2                     2                         72                 NaN               L  Load data for pavement design or pavement mana...           S                              T  Station used for Traffic Volume Trends                            B  Station used for TMG sample and Strategic High...                                      H  Station used for Heavy Vehicle Travel Informat...                     L                     3019     710107  WIM 118 - 2.0 mi W of AL State              Q  Quartz piezoelectric - NEW            15                          0                        80  \n",
       "9                                            0                     1                   00000095              000000               O                    Operations purposes but not ITS           S                              T  Station used for Traffic Volume Trends                            N              Station not used for any of the above                                      N  Station not used for Heavy Vehicle Travel Info...                     X                      NaN     160004  I-95 SOUTH SHOULDER @ MM 126.8              X                  Radio wave            15                          0                         9  "
      ]
     },
     "execution_count": 7,
     "metadata": {},
     "output_type": "execute_result"
    }
   ],
   "source": [
    "station_df.head(10)"
   ]
  },
  {
   "cell_type": "markdown",
   "id": "e7f2509f",
   "metadata": {},
   "source": [
    "Based on the first 5 values of the dataset, we can already conclude that there will be missing values in some of the columns, how we deal with these missing values and columns will be based on further analysis.\n",
    "\n",
    "One thing to also note is that there is around 55 columns of data in this particular station data."
   ]
  },
  {
   "cell_type": "code",
   "execution_count": 8,
   "id": "25ae73eb",
   "metadata": {
    "scrolled": false
   },
   "outputs": [
    {
     "data": {
      "text/plain": [
       "algorithm_of_vehicle_classification                  object\n",
       "algorithm_of_vehicle_classification_name             object\n",
       "calibration_of_weighing_system                       object\n",
       "calibration_of_weighing_system_name                  object\n",
       "classification_system_for_vehicle_classification      int64\n",
       "concurrent_route_signing                              int64\n",
       "concurrent_signed_route_number                       object\n",
       "direction_of_travel                                   int64\n",
       "direction_of_travel_name                             object\n",
       "fips_county_code                                      int64\n",
       "fips_state_code                                       int64\n",
       "functional_classification                            object\n",
       "functional_classification_name                       object\n",
       "hpms_sample_identifier                               object\n",
       "hpms_sample_type                                     object\n",
       "lane_of_travel                                        int64\n",
       "lane_of_travel_name                                  object\n",
       "latitude                                            float64\n",
       "longitude                                           float64\n",
       "lrs_identification                                   object\n",
       "lrs_location_point                                  float64\n",
       "method_of_data_retrieval                              int64\n",
       "method_of_data_retrieval_name                        object\n",
       "method_of_traffic_volume_counting                     int64\n",
       "method_of_traffic_volume_counting_name               object\n",
       "method_of_truck_weighing                              int64\n",
       "method_of_truck_weighing_name                        object\n",
       "method_of_vehicle_classification                      int64\n",
       "method_of_vehicle_classification_name                object\n",
       "national_highway_system                              object\n",
       "number_of_lanes_in_direction_indicated                int64\n",
       "number_of_lanes_monitored_for_traffic_volume          int64\n",
       "number_of_lanes_monitored_for_truck_weight            int64\n",
       "number_of_lanes_monitored_for_vehicle_class           int64\n",
       "posted_route_signing                                  int64\n",
       "posted_signed_route_number                           object\n",
       "previous_station_id                                  object\n",
       "primary_purpose                                      object\n",
       "primary_purpose_name                                 object\n",
       "record_type                                          object\n",
       "sample_type_for_traffic_volume                       object\n",
       "sample_type_for_traffic_volume_name                  object\n",
       "sample_type_for_truck_weight                         object\n",
       "sample_type_for_truck_weight_name                    object\n",
       "sample_type_for_vehicle_classification               object\n",
       "sample_type_for_vehicle_classification_name          object\n",
       "second_type_of_sensor                                object\n",
       "shrp_site_identification                             object\n",
       "station_id                                           object\n",
       "station_location                                     object\n",
       "type_of_sensor                                       object\n",
       "type_of_sensor_name                                  object\n",
       "year_of_data                                          int64\n",
       "year_station_discontinued                             int64\n",
       "year_station_established                              int64\n",
       "dtype: object"
      ]
     },
     "execution_count": 8,
     "metadata": {},
     "output_type": "execute_result"
    }
   ],
   "source": [
    "station_df.dtypes"
   ]
  },
  {
   "cell_type": "markdown",
   "id": "cd9e726b",
   "metadata": {},
   "source": [
    "I noticed that there are many columns that might be functionally the same and hence can be mapped to one another. For instance, direction_of_travel and direction_of_travel_name, will be creating some helper functions to help in obtaining mapping information."
   ]
  },
  {
   "cell_type": "code",
   "execution_count": 9,
   "id": "7c976517",
   "metadata": {},
   "outputs": [],
   "source": [
    "def print_mapped_value(df: pd.DataFrame, column1: str, column2: str) -> None:\n",
    "    \"\"\"\n",
    "    Print mapped values from one column to another\n",
    "    \n",
    "    Args:\n",
    "        df (DataFrame): DataFrame that contains colum1 and column2\n",
    "        column1 (str): Column of the dataframe that can be mapped to column 2\n",
    "        column2 (str): Column of the dataframe that can be mapped to column1\n",
    "        \n",
    "    Returns:\n",
    "        None\n",
    "    \"\"\"\n",
    "    column1_unique_values = df[column1].unique()\n",
    "    for value in column1_unique_values:\n",
    "        mapped_name = df.loc[\n",
    "            station_df[column1] == value][column2].unique()\n",
    "\n",
    "        if len(mapped_name) > 1:\n",
    "            print(f\"{value} maps to more than 1 value! they are {mapped_name}\")\n",
    "        else:\n",
    "            print(f\"{value} maps to {mapped_name}\")"
   ]
  },
  {
   "cell_type": "markdown",
   "id": "2d0cea7f",
   "metadata": {},
   "source": [
    "For this initial round of cleaning, we will be mainly focusing on remapping columns that are functionally the same and dropping one of them. We will then do EDA and try to make sense of missing values to see if there is any pattern to these missing values. Dropping any columns or rows will be our **last resort**."
   ]
  },
  {
   "cell_type": "markdown",
   "id": "d6f4bf16",
   "metadata": {},
   "source": [
    "### Algorithm of vehicle classification & Algorithm of vehicle classification name"
   ]
  },
  {
   "cell_type": "code",
   "execution_count": 10,
   "id": "30e10fc5",
   "metadata": {},
   "outputs": [
    {
     "data": {
      "text/plain": [
       "9890"
      ]
     },
     "execution_count": 10,
     "metadata": {},
     "output_type": "execute_result"
    }
   ],
   "source": [
    "station_df[\"algorithm_of_vehicle_classification\"].isnull().sum()"
   ]
  },
  {
   "cell_type": "code",
   "execution_count": 11,
   "id": "78cbb527",
   "metadata": {
    "scrolled": true
   },
   "outputs": [
    {
     "data": {
      "text/plain": [
       "11131"
      ]
     },
     "execution_count": 11,
     "metadata": {},
     "output_type": "execute_result"
    }
   ],
   "source": [
    "station_df[\"algorithm_of_vehicle_classification_name\"].isnull().sum()"
   ]
  },
  {
   "cell_type": "markdown",
   "id": "0195f040",
   "metadata": {},
   "source": [
    "Both of these columns have null value, although something seems a bit off. Intuitively if both of these columns are similar, the missing values of these two columns should be identical. We will have to delve into this relationship deeper."
   ]
  },
  {
   "cell_type": "code",
   "execution_count": 12,
   "id": "dfebc9ec",
   "metadata": {},
   "outputs": [
    {
     "data": {
      "text/plain": [
       "array([nan, 'G', 'D', 'F', '0', 'N', 'K', 'L', 'Z', 'M', 'H', 'A', '1',\n",
       "       'C', 'E'], dtype=object)"
      ]
     },
     "execution_count": 12,
     "metadata": {},
     "output_type": "execute_result"
    }
   ],
   "source": [
    "station_df[\"algorithm_of_vehicle_classification\"].unique()"
   ]
  },
  {
   "cell_type": "code",
   "execution_count": 13,
   "id": "12d777d8",
   "metadata": {},
   "outputs": [
    {
     "data": {
      "text/plain": [
       "array([nan, 'Axle spacing with Scheme F modified',\n",
       "       'Vehicle length classification', 'Axle spacing with Scheme F',\n",
       "       'Axle spacing and other input(s) not specified above',\n",
       "       'Axle spacing and weight algorithm',\n",
       "       'Axle spacing and vehicle length algorithm',\n",
       "       'Other means not specified above',\n",
       "       'Axle spacing weight and vehicle length algorithm',\n",
       "       'Other axle spacing algorithm',\n",
       "       'Human observation on site (manual)',\n",
       "       'Automated interpretation of vehicle image or signature (e.g. video microwave sonic)',\n",
       "       'Axle spacing with ASTM Standard E1572'], dtype=object)"
      ]
     },
     "execution_count": 13,
     "metadata": {},
     "output_type": "execute_result"
    }
   ],
   "source": [
    "station_df[\"algorithm_of_vehicle_classification_name\"].unique()"
   ]
  },
  {
   "cell_type": "code",
   "execution_count": 14,
   "id": "c6cf4756",
   "metadata": {},
   "outputs": [
    {
     "data": {
      "text/plain": [
       "2"
      ]
     },
     "execution_count": 14,
     "metadata": {},
     "output_type": "execute_result"
    }
   ],
   "source": [
    "len(station_df[\"algorithm_of_vehicle_classification\"].unique()) - len(station_df[\"algorithm_of_vehicle_classification_name\"].unique())"
   ]
  },
  {
   "cell_type": "markdown",
   "id": "71c85d5c",
   "metadata": {},
   "source": [
    "Both the length of these two columns are different, which could explain why there is more missing values from one of the column"
   ]
  },
  {
   "cell_type": "code",
   "execution_count": 15,
   "id": "9aa4614c",
   "metadata": {},
   "outputs": [
    {
     "data": {
      "text/plain": [
       "15"
      ]
     },
     "execution_count": 15,
     "metadata": {},
     "output_type": "execute_result"
    }
   ],
   "source": [
    "len(station_df[\"algorithm_of_vehicle_classification\"].unique())"
   ]
  },
  {
   "cell_type": "code",
   "execution_count": 16,
   "id": "303ff521",
   "metadata": {},
   "outputs": [
    {
     "data": {
      "text/plain": [
       "13"
      ]
     },
     "execution_count": 16,
     "metadata": {},
     "output_type": "execute_result"
    }
   ],
   "source": [
    "len(station_df[\"algorithm_of_vehicle_classification_name\"].unique())"
   ]
  },
  {
   "cell_type": "markdown",
   "id": "23a96660",
   "metadata": {},
   "source": [
    "The algorithm_of_vehicle_classification column have two more unique values compared to the algorithm_of_vehicle_classification_name column"
   ]
  },
  {
   "cell_type": "code",
   "execution_count": 17,
   "id": "4b2fc533",
   "metadata": {},
   "outputs": [],
   "source": [
    "unique_classification_value = station_df[\"algorithm_of_vehicle_classification\"].unique()"
   ]
  },
  {
   "cell_type": "code",
   "execution_count": 18,
   "id": "b3dd1408",
   "metadata": {},
   "outputs": [
    {
     "name": "stdout",
     "output_type": "stream",
     "text": [
      "nan maps to []\n",
      "G maps to ['Axle spacing with Scheme F modified']\n",
      "D maps to ['Vehicle length classification']\n",
      "F maps to ['Axle spacing with Scheme F']\n",
      "0 maps to [nan]\n",
      "N maps to ['Axle spacing and other input(s) not specified above']\n",
      "K maps to ['Axle spacing and weight algorithm']\n",
      "L maps to ['Axle spacing and vehicle length algorithm']\n",
      "Z maps to ['Other means not specified above']\n",
      "M maps to ['Axle spacing weight and vehicle length algorithm']\n",
      "H maps to ['Other axle spacing algorithm']\n",
      "A maps to ['Human observation on site (manual)']\n",
      "1 maps to [nan]\n",
      "C maps to ['Automated interpretation of vehicle image or signature (e.g. video microwave sonic)']\n",
      "E maps to ['Axle spacing with ASTM Standard E1572']\n"
     ]
    }
   ],
   "source": [
    "print_mapped_value(station_df, \"algorithm_of_vehicle_classification\", \"algorithm_of_vehicle_classification_name\")"
   ]
  },
  {
   "cell_type": "markdown",
   "id": "f21b5baa",
   "metadata": {},
   "source": [
    "We notice that the value 0, 1 maps directly to the nan value in the algorithm_of_vehicle_classification_name column. This recouncils the difference in unique value.\n",
    "\n",
    "Since the algorithm_of_vehicle_classification column and the algorithm_of_vehicle_classification_name column are functionally the same, we will drop the algorithm_of_vehicle_classification_name column as it has more missing values and therefore less information."
   ]
  },
  {
   "cell_type": "code",
   "execution_count": 19,
   "id": "edcad803",
   "metadata": {},
   "outputs": [],
   "source": [
    "station_df.drop(\"algorithm_of_vehicle_classification_name\", axis=1, inplace=True)"
   ]
  },
  {
   "cell_type": "markdown",
   "id": "456574dd",
   "metadata": {},
   "source": [
    "### Calibration of weighing system & Calibration of weighing system name"
   ]
  },
  {
   "cell_type": "code",
   "execution_count": 20,
   "id": "7853984a",
   "metadata": {},
   "outputs": [
    {
     "data": {
      "text/plain": [
       "20301"
      ]
     },
     "execution_count": 20,
     "metadata": {},
     "output_type": "execute_result"
    }
   ],
   "source": [
    "station_df[\"calibration_of_weighing_system\"].isnull().sum()"
   ]
  },
  {
   "cell_type": "code",
   "execution_count": 21,
   "id": "b201668e",
   "metadata": {},
   "outputs": [
    {
     "data": {
      "text/plain": [
       "21785"
      ]
     },
     "execution_count": 21,
     "metadata": {},
     "output_type": "execute_result"
    }
   ],
   "source": [
    "station_df[\"calibration_of_weighing_system_name\"].isnull().sum()"
   ]
  },
  {
   "cell_type": "code",
   "execution_count": 22,
   "id": "188dd600",
   "metadata": {},
   "outputs": [
    {
     "data": {
      "text/plain": [
       "28466"
      ]
     },
     "execution_count": 22,
     "metadata": {},
     "output_type": "execute_result"
    }
   ],
   "source": [
    "len(station_df)"
   ]
  },
  {
   "cell_type": "markdown",
   "id": "3760dea0",
   "metadata": {},
   "source": [
    "Both of these columns have null value, although something seems a bit off. similar to the algorithm_of_vehicle_column, if both of these columns are similar, the missing values of these two columns should be identical. We will have to delve into this relationship deeper.\n",
    "\n",
    "The length of this dataset is only 28466. Having approximately 71% missing data might be too much missing information to work with. We might ultimately drop these two columns but let's explore this data further first."
   ]
  },
  {
   "cell_type": "code",
   "execution_count": 23,
   "id": "227229e9",
   "metadata": {},
   "outputs": [
    {
     "data": {
      "text/plain": [
       "array([nan, 'M', '0', 'Z', 'T', 'C', 'A', 'U', 'D', 'P', '2', 'B', 'S'],\n",
       "      dtype=object)"
      ]
     },
     "execution_count": 23,
     "metadata": {},
     "output_type": "execute_result"
    }
   ],
   "source": [
    "station_df[\"calibration_of_weighing_system\"].unique()"
   ]
  },
  {
   "cell_type": "code",
   "execution_count": 24,
   "id": "a1f5dddc",
   "metadata": {},
   "outputs": [
    {
     "data": {
      "text/plain": [
       "array([nan, 'Moving average of the steering axle of 3S2s', 'Other method',\n",
       "       'Test trucks only',\n",
       "       'Combination of test trucks and trucks from the traffic stream (but not ASTM E1318)',\n",
       "       'ASTM Standard E1318', 'Uncalibrated',\n",
       "       'Other sample of trucks from the traffic stream',\n",
       "       'Subset of ASTM Standard E1318', 'Static calibration'],\n",
       "      dtype=object)"
      ]
     },
     "execution_count": 24,
     "metadata": {},
     "output_type": "execute_result"
    }
   ],
   "source": [
    "station_df[\"calibration_of_weighing_system_name\"].unique()"
   ]
  },
  {
   "cell_type": "code",
   "execution_count": 25,
   "id": "038947ac",
   "metadata": {},
   "outputs": [
    {
     "data": {
      "text/plain": [
       "-3"
      ]
     },
     "execution_count": 25,
     "metadata": {},
     "output_type": "execute_result"
    }
   ],
   "source": [
    "len(station_df[\"calibration_of_weighing_system_name\"].unique()) - len(station_df[\"calibration_of_weighing_system\"].unique())"
   ]
  },
  {
   "cell_type": "markdown",
   "id": "7c3fb9cd",
   "metadata": {},
   "source": [
    "The calibration_of_weighing_system column has 3 additional values compared to the calibration_of_weighing_system_name column which could explain why it has no null values. We would have to recouncil these difference and we can use the same process as the algorithm_of_weigh_classification column"
   ]
  },
  {
   "cell_type": "code",
   "execution_count": 26,
   "id": "d5196279",
   "metadata": {},
   "outputs": [
    {
     "name": "stdout",
     "output_type": "stream",
     "text": [
      "nan maps to []\n",
      "M maps to ['Moving average of the steering axle of 3S2s']\n",
      "0 maps to [nan]\n",
      "Z maps to ['Other method']\n",
      "T maps to ['Test trucks only']\n",
      "C maps to ['Combination of test trucks and trucks from the traffic stream (but not ASTM E1318)']\n",
      "A maps to ['ASTM Standard E1318']\n",
      "U maps to ['Uncalibrated']\n",
      "D maps to ['Other sample of trucks from the traffic stream']\n",
      "P maps to [nan]\n",
      "2 maps to [nan]\n",
      "B maps to ['Subset of ASTM Standard E1318']\n",
      "S maps to ['Static calibration']\n"
     ]
    }
   ],
   "source": [
    "print_mapped_value(station_df, \"calibration_of_weighing_system\", \"calibration_of_weighing_system_name\")"
   ]
  },
  {
   "cell_type": "markdown",
   "id": "720322cb",
   "metadata": {},
   "source": [
    "The value 0, P and 2 maps to NaN in the calibration_of_weighing_system_name column, this reconcils the difference in unique values between the two columns and we will proceed to drop the calibration_of_weighing_system_name column as it has more null values. (Although we might still drop this column in the future as mentioned earlier).\n",
    "\n",
    "Normally in situations like these, it will be important to ask the data provider for the cause of the difference but since it is not possible in this scenario, we will exercise some judgement and deal with the data in the most appropriate manner."
   ]
  },
  {
   "cell_type": "code",
   "execution_count": 27,
   "id": "6f73a1de",
   "metadata": {},
   "outputs": [],
   "source": [
    "station_df.drop(\"calibration_of_weighing_system_name\", axis=1, inplace=True)"
   ]
  },
  {
   "cell_type": "markdown",
   "id": "d708e9e0",
   "metadata": {},
   "source": [
    "### Direction of Travel & Direction of Travel Name"
   ]
  },
  {
   "cell_type": "code",
   "execution_count": 28,
   "id": "6f54ca86",
   "metadata": {},
   "outputs": [
    {
     "data": {
      "text/plain": [
       "0"
      ]
     },
     "execution_count": 28,
     "metadata": {},
     "output_type": "execute_result"
    }
   ],
   "source": [
    "station_df[\"direction_of_travel\"].isnull().sum()"
   ]
  },
  {
   "cell_type": "code",
   "execution_count": 29,
   "id": "17a1c4d3",
   "metadata": {},
   "outputs": [
    {
     "data": {
      "text/plain": [
       "0"
      ]
     },
     "execution_count": 29,
     "metadata": {},
     "output_type": "execute_result"
    }
   ],
   "source": [
    "station_df[\"direction_of_travel_name\"].isnull().sum()"
   ]
  },
  {
   "cell_type": "markdown",
   "id": "07348848",
   "metadata": {},
   "source": [
    "Both of these columns have no null values, awesome!"
   ]
  },
  {
   "cell_type": "code",
   "execution_count": 30,
   "id": "b68b514a",
   "metadata": {},
   "outputs": [
    {
     "data": {
      "text/plain": [
       "array([7, 5, 1, 3, 9, 0, 2, 6, 8, 4], dtype=int64)"
      ]
     },
     "execution_count": 30,
     "metadata": {},
     "output_type": "execute_result"
    }
   ],
   "source": [
    "station_df[\"direction_of_travel\"].unique()"
   ]
  },
  {
   "cell_type": "code",
   "execution_count": 31,
   "id": "468466b4",
   "metadata": {},
   "outputs": [
    {
     "data": {
      "text/plain": [
       "array(['West', 'South', 'North', 'East',\n",
       "       'North-South or Northeast-Southwest combined (ATR stations only)',\n",
       "       'East-West or Southeast-Northwest combined (ATR stations only)',\n",
       "       'Northeast', 'Southwest', 'Northwest', 'Southeast'], dtype=object)"
      ]
     },
     "execution_count": 31,
     "metadata": {},
     "output_type": "execute_result"
    }
   ],
   "source": [
    "station_df[\"direction_of_travel_name\"].unique()"
   ]
  },
  {
   "cell_type": "code",
   "execution_count": 32,
   "id": "56aca375",
   "metadata": {},
   "outputs": [
    {
     "data": {
      "text/plain": [
       "0"
      ]
     },
     "execution_count": 32,
     "metadata": {},
     "output_type": "execute_result"
    }
   ],
   "source": [
    "len(station_df[\"direction_of_travel\"].unique()) - len(station_df[\"direction_of_travel_name\"].unique())"
   ]
  },
  {
   "cell_type": "code",
   "execution_count": 33,
   "id": "e47293f7",
   "metadata": {},
   "outputs": [
    {
     "name": "stdout",
     "output_type": "stream",
     "text": [
      "7 maps to ['West']\n",
      "5 maps to ['South']\n",
      "1 maps to ['North']\n",
      "3 maps to ['East']\n",
      "9 maps to ['North-South or Northeast-Southwest combined (ATR stations only)']\n",
      "0 maps to ['East-West or Southeast-Northwest combined (ATR stations only)']\n",
      "2 maps to ['Northeast']\n",
      "6 maps to ['Southwest']\n",
      "8 maps to ['Northwest']\n",
      "4 maps to ['Southeast']\n"
     ]
    }
   ],
   "source": [
    "print_mapped_value(station_df, \"direction_of_travel\", \"direction_of_travel_name\")"
   ]
  },
  {
   "cell_type": "code",
   "execution_count": 34,
   "id": "ac1ae005",
   "metadata": {},
   "outputs": [],
   "source": [
    "station_df.drop(\"direction_of_travel\", inplace=True, axis=1)"
   ]
  },
  {
   "cell_type": "markdown",
   "id": "126365d9",
   "metadata": {},
   "source": [
    "### functional_classification & functional_classification_name"
   ]
  },
  {
   "cell_type": "code",
   "execution_count": 35,
   "id": "005e58e5",
   "metadata": {},
   "outputs": [
    {
     "data": {
      "text/plain": [
       "0"
      ]
     },
     "execution_count": 35,
     "metadata": {},
     "output_type": "execute_result"
    }
   ],
   "source": [
    "len(station_df[\"functional_classification\"].unique()) - len(station_df[\"functional_classification_name\"].unique())"
   ]
  },
  {
   "cell_type": "markdown",
   "id": "bd658639",
   "metadata": {},
   "source": [
    "Both of these columns have the same number of unique values"
   ]
  },
  {
   "cell_type": "code",
   "execution_count": 36,
   "id": "e6ed285d",
   "metadata": {},
   "outputs": [
    {
     "name": "stdout",
     "output_type": "stream",
     "text": [
      "2U maps to ['Urban: Principal Arterial - Other Freeways or Expressways']\n",
      "3R maps to ['Rural: Principal Arterial - Other']\n",
      "1R maps to ['Rural: Principal Arterial - Interstate']\n",
      "1U maps to ['Urban: Principal Arterial - Interstate']\n",
      "3U maps to ['Urban: Principal Arterial - Other']\n",
      "4R maps to ['Rural: Minor Arterial']\n",
      "4U maps to ['Urban: Minor Arterial']\n",
      "5U maps to ['Urban: Collector']\n",
      "5R maps to ['Rural: Major Collector']\n",
      "6R maps to ['Rural: Minor Collector']\n",
      "7U maps to ['Urban: Local System']\n",
      "7R maps to ['Rural: Local System']\n"
     ]
    }
   ],
   "source": [
    "print_mapped_value(station_df, \"functional_classification\", \"functional_classification_name\")"
   ]
  },
  {
   "cell_type": "markdown",
   "id": "ac7862a0",
   "metadata": {},
   "source": [
    "This shows that there is a perfect mapping of the two columns and we should probably drop one of the columns to reduce dimensionality. We will be keeping functional_classification_name as it is more informative."
   ]
  },
  {
   "cell_type": "code",
   "execution_count": 37,
   "id": "da7ff3be",
   "metadata": {},
   "outputs": [],
   "source": [
    "station_df.drop(\"functional_classification\", axis=1, inplace=True)"
   ]
  },
  {
   "cell_type": "markdown",
   "id": "6017a305",
   "metadata": {},
   "source": [
    "### lane_of_travel & lane_of_travel_name"
   ]
  },
  {
   "cell_type": "code",
   "execution_count": 38,
   "id": "c1e9e60c",
   "metadata": {},
   "outputs": [
    {
     "data": {
      "text/plain": [
       "0"
      ]
     },
     "execution_count": 38,
     "metadata": {},
     "output_type": "execute_result"
    }
   ],
   "source": [
    "station_df[\"lane_of_travel\"].isnull().sum()"
   ]
  },
  {
   "cell_type": "code",
   "execution_count": 39,
   "id": "44739b8b",
   "metadata": {},
   "outputs": [
    {
     "data": {
      "text/plain": [
       "0"
      ]
     },
     "execution_count": 39,
     "metadata": {},
     "output_type": "execute_result"
    }
   ],
   "source": [
    "station_df[\"lane_of_travel_name\"].isnull().sum()"
   ]
  },
  {
   "cell_type": "code",
   "execution_count": 40,
   "id": "a1d21a73",
   "metadata": {},
   "outputs": [
    {
     "data": {
      "text/plain": [
       "7"
      ]
     },
     "execution_count": 40,
     "metadata": {},
     "output_type": "execute_result"
    }
   ],
   "source": [
    "len(station_df[\"lane_of_travel\"].unique()) - len(station_df[\"lane_of_travel_name\"].unique())"
   ]
  },
  {
   "cell_type": "markdown",
   "id": "5b235da2",
   "metadata": {},
   "source": [
    "Even though lane_of_travel and lane_of_travel_name have no null values, they have different cardinalities, this would mean that there might be a 1 to many mapping."
   ]
  },
  {
   "cell_type": "code",
   "execution_count": 41,
   "id": "c35d3590",
   "metadata": {
    "scrolled": true
   },
   "outputs": [
    {
     "name": "stdout",
     "output_type": "stream",
     "text": [
      "4 maps to ['Other lanes']\n",
      "1 maps to ['Outside (rightmost) lane']\n",
      "2 maps to ['Other lanes']\n",
      "0 maps to ['Data with lanes combined']\n",
      "3 maps to ['Other lanes']\n",
      "6 maps to ['Other lanes']\n",
      "5 maps to ['Other lanes']\n",
      "7 maps to ['Other lanes']\n",
      "8 maps to ['Other lanes']\n",
      "9 maps to ['Other lanes']\n"
     ]
    }
   ],
   "source": [
    "print_mapped_value(station_df, \"lane_of_travel\", \"lane_of_travel_name\")"
   ]
  },
  {
   "cell_type": "markdown",
   "id": "1a68bc71",
   "metadata": {},
   "source": [
    "The relationship between lane_of_travel and lane_of_travel_name is one to many, to preserve as much information as possible, we will keep the lane_of_travel column over lane_of_travel_name."
   ]
  },
  {
   "cell_type": "code",
   "execution_count": 42,
   "id": "0c6cd0ea",
   "metadata": {},
   "outputs": [],
   "source": [
    "station_df.drop(\"lane_of_travel_name\", axis=1, inplace=True)"
   ]
  },
  {
   "cell_type": "markdown",
   "id": "5ad6679b",
   "metadata": {},
   "source": [
    "### method_of_data_retrieval & method_of_data_retrieval_name"
   ]
  },
  {
   "cell_type": "code",
   "execution_count": 43,
   "id": "20c15866",
   "metadata": {},
   "outputs": [
    {
     "data": {
      "text/plain": [
       "0"
      ]
     },
     "execution_count": 43,
     "metadata": {},
     "output_type": "execute_result"
    }
   ],
   "source": [
    "station_df[\"method_of_data_retrieval\"].isnull().sum()"
   ]
  },
  {
   "cell_type": "code",
   "execution_count": 44,
   "id": "07b1fe31",
   "metadata": {},
   "outputs": [
    {
     "data": {
      "text/plain": [
       "440"
      ]
     },
     "execution_count": 44,
     "metadata": {},
     "output_type": "execute_result"
    }
   ],
   "source": [
    "station_df[\"method_of_data_retrieval_name\"].isnull().sum()"
   ]
  },
  {
   "cell_type": "code",
   "execution_count": 45,
   "id": "5a308c84",
   "metadata": {},
   "outputs": [
    {
     "data": {
      "text/plain": [
       "0"
      ]
     },
     "execution_count": 45,
     "metadata": {},
     "output_type": "execute_result"
    }
   ],
   "source": [
    "len(station_df[\"method_of_data_retrieval\"].unique()) - len(station_df[\"method_of_data_retrieval_name\"].unique())"
   ]
  },
  {
   "cell_type": "code",
   "execution_count": 46,
   "id": "55dab0e1",
   "metadata": {},
   "outputs": [
    {
     "name": "stdout",
     "output_type": "stream",
     "text": [
      "2 maps to ['Automated (telemetry)']\n",
      "0 maps to [nan]\n",
      "1 maps to ['Not automated (manual)']\n"
     ]
    }
   ],
   "source": [
    "print_mapped_value(station_df, \"method_of_data_retrieval\", \"method_of_data_retrieval_name\")"
   ]
  },
  {
   "cell_type": "markdown",
   "id": "5fb65228",
   "metadata": {},
   "source": [
    "There is a perfect map, in the interest of verbosity, we will keep method_of_data_retrieval_name"
   ]
  },
  {
   "cell_type": "code",
   "execution_count": 47,
   "id": "2ff23893",
   "metadata": {},
   "outputs": [],
   "source": [
    "station_df.drop(\"method_of_data_retrieval_name\", inplace=True, axis=1)"
   ]
  },
  {
   "cell_type": "markdown",
   "id": "b6a9b1a7",
   "metadata": {},
   "source": [
    "### method_of_traffic_volume_counting & method_of_traffic_volume_counting_name"
   ]
  },
  {
   "cell_type": "code",
   "execution_count": 48,
   "id": "3b6e4fdc",
   "metadata": {},
   "outputs": [
    {
     "data": {
      "text/plain": [
       "0"
      ]
     },
     "execution_count": 48,
     "metadata": {},
     "output_type": "execute_result"
    }
   ],
   "source": [
    "station_df[\"method_of_traffic_volume_counting\"].isnull().sum()"
   ]
  },
  {
   "cell_type": "code",
   "execution_count": 49,
   "id": "f57c7571",
   "metadata": {},
   "outputs": [
    {
     "data": {
      "text/plain": [
       "880"
      ]
     },
     "execution_count": 49,
     "metadata": {},
     "output_type": "execute_result"
    }
   ],
   "source": [
    "station_df[\"method_of_traffic_volume_counting_name\"].isnull().sum()"
   ]
  },
  {
   "cell_type": "code",
   "execution_count": 50,
   "id": "f4888676",
   "metadata": {},
   "outputs": [
    {
     "data": {
      "text/plain": [
       "1"
      ]
     },
     "execution_count": 50,
     "metadata": {},
     "output_type": "execute_result"
    }
   ],
   "source": [
    "len(station_df[\"method_of_traffic_volume_counting\"].unique()) - len(station_df[\"method_of_traffic_volume_counting_name\"].unique())"
   ]
  },
  {
   "cell_type": "code",
   "execution_count": 51,
   "id": "5528fcc5",
   "metadata": {},
   "outputs": [
    {
     "name": "stdout",
     "output_type": "stream",
     "text": [
      "3 maps to ['Permanent automatic traffic recorder (ATR)']\n",
      "2 maps to ['Portable traffic recording device']\n",
      "0 maps to [nan]\n",
      "1 maps to ['Human observation (manual)']\n",
      "4 maps to [nan]\n"
     ]
    }
   ],
   "source": [
    "print_mapped_value(station_df, \"method_of_traffic_volume_counting\", \"method_of_traffic_volume_counting_name\")"
   ]
  },
  {
   "cell_type": "markdown",
   "id": "73164610",
   "metadata": {},
   "source": [
    "We shall keep the method_of_traffic_volume_counting as it seems to have more cardinality and hence more information for our predictive model to work with"
   ]
  },
  {
   "cell_type": "code",
   "execution_count": 52,
   "id": "c3dc92a8",
   "metadata": {},
   "outputs": [],
   "source": [
    "station_df.drop(\"method_of_traffic_volume_counting_name\", inplace=True, axis=1)"
   ]
  },
  {
   "cell_type": "markdown",
   "id": "06869c7b",
   "metadata": {},
   "source": [
    "### method_of_truck_weighing & method_of_truck_weighing_name"
   ]
  },
  {
   "cell_type": "code",
   "execution_count": 53,
   "id": "6056e322",
   "metadata": {},
   "outputs": [
    {
     "data": {
      "text/plain": [
       "0"
      ]
     },
     "execution_count": 53,
     "metadata": {},
     "output_type": "execute_result"
    }
   ],
   "source": [
    "station_df[\"method_of_truck_weighing\"].isnull().sum()"
   ]
  },
  {
   "cell_type": "code",
   "execution_count": 54,
   "id": "ab4ed8b4",
   "metadata": {},
   "outputs": [
    {
     "data": {
      "text/plain": [
       "22580"
      ]
     },
     "execution_count": 54,
     "metadata": {},
     "output_type": "execute_result"
    }
   ],
   "source": [
    "station_df[\"method_of_truck_weighing_name\"].isnull().sum()"
   ]
  },
  {
   "cell_type": "code",
   "execution_count": 55,
   "id": "fd900983",
   "metadata": {},
   "outputs": [
    {
     "data": {
      "text/plain": [
       "0"
      ]
     },
     "execution_count": 55,
     "metadata": {},
     "output_type": "execute_result"
    }
   ],
   "source": [
    "len(station_df[\"method_of_truck_weighing\"].unique()) - len(station_df[\"method_of_truck_weighing_name\"].unique())"
   ]
  },
  {
   "cell_type": "code",
   "execution_count": 56,
   "id": "2cb36011",
   "metadata": {},
   "outputs": [
    {
     "name": "stdout",
     "output_type": "stream",
     "text": [
      "0 maps to [nan]\n",
      "4 maps to ['Portable weigh-in-motion system']\n",
      "5 maps to ['Permanent weigh-in-motion system']\n",
      "1 maps to ['Portable static scale']\n",
      "2 maps to ['Chassis-mounted towed static scale']\n"
     ]
    }
   ],
   "source": [
    "print_mapped_value(station_df, \"method_of_truck_weighing\", \"method_of_truck_weighing_name\")"
   ]
  },
  {
   "cell_type": "markdown",
   "id": "373e4ccc",
   "metadata": {},
   "source": [
    "It would be preferably to keep the name of the method as it will be more informative to do EDA without the actual name, however we would have to fill in the value nan with 0 as indicated from our mapping table. We will then drop the method_of_truck_weighing column"
   ]
  },
  {
   "cell_type": "code",
   "execution_count": 57,
   "id": "ed39164f",
   "metadata": {},
   "outputs": [],
   "source": [
    "station_df[\"method_of_truck_weighing_name\"] = station_df[\"method_of_truck_weighing_name\"].fillna(\"0\")"
   ]
  },
  {
   "cell_type": "code",
   "execution_count": 58,
   "id": "83fe82b4",
   "metadata": {},
   "outputs": [],
   "source": [
    "station_df.drop(\"method_of_truck_weighing\", axis=1, inplace=True)"
   ]
  },
  {
   "cell_type": "markdown",
   "id": "dffbdeda",
   "metadata": {},
   "source": [
    "### method_of_vehicle_classification & method_of_vehicle_classification_name"
   ]
  },
  {
   "cell_type": "code",
   "execution_count": 59,
   "id": "8dc3e9d8",
   "metadata": {},
   "outputs": [
    {
     "data": {
      "text/plain": [
       "0"
      ]
     },
     "execution_count": 59,
     "metadata": {},
     "output_type": "execute_result"
    }
   ],
   "source": [
    "station_df[\"method_of_vehicle_classification\"].isnull().sum()"
   ]
  },
  {
   "cell_type": "code",
   "execution_count": 60,
   "id": "5369b9eb",
   "metadata": {},
   "outputs": [
    {
     "data": {
      "text/plain": [
       "11180"
      ]
     },
     "execution_count": 60,
     "metadata": {},
     "output_type": "execute_result"
    }
   ],
   "source": [
    "station_df[\"method_of_vehicle_classification_name\"].isnull().sum()"
   ]
  },
  {
   "cell_type": "code",
   "execution_count": 61,
   "id": "83528ebc",
   "metadata": {},
   "outputs": [
    {
     "data": {
      "text/plain": [
       "1"
      ]
     },
     "execution_count": 61,
     "metadata": {},
     "output_type": "execute_result"
    }
   ],
   "source": [
    "len(station_df[\"method_of_vehicle_classification\"].unique()) - len(station_df[\"method_of_vehicle_classification_name\"].unique())"
   ]
  },
  {
   "cell_type": "code",
   "execution_count": 62,
   "id": "b0a8aa36",
   "metadata": {},
   "outputs": [
    {
     "name": "stdout",
     "output_type": "stream",
     "text": [
      "0 maps to [nan]\n",
      "3 maps to ['Permanent vehicle classification device']\n",
      "2 maps to ['Portable vehicle classification device']\n",
      "1 maps to ['Human observation (manual) vehicle classification']\n",
      "4 maps to [nan]\n"
     ]
    }
   ],
   "source": [
    "print_mapped_value(station_df, \"method_of_vehicle_classification\", \"method_of_vehicle_classification_name\")"
   ]
  },
  {
   "cell_type": "markdown",
   "id": "044b1407",
   "metadata": {},
   "source": [
    "Although we would prefer to keep the method_of_vehicle_classification_name, it seems like we will be losing information by doing so, hence we will be keeping mthe method_of_vehicle_classification instead."
   ]
  },
  {
   "cell_type": "code",
   "execution_count": 63,
   "id": "7d302089",
   "metadata": {},
   "outputs": [],
   "source": [
    "station_df.drop(\"method_of_vehicle_classification_name\", inplace=True, axis=1)"
   ]
  },
  {
   "cell_type": "markdown",
   "id": "c19c6554",
   "metadata": {},
   "source": [
    "### primary_purpose & primary_purpose_name"
   ]
  },
  {
   "cell_type": "code",
   "execution_count": 64,
   "id": "7e368b84",
   "metadata": {},
   "outputs": [
    {
     "data": {
      "text/plain": [
       "210"
      ]
     },
     "execution_count": 64,
     "metadata": {},
     "output_type": "execute_result"
    }
   ],
   "source": [
    "station_df[\"primary_purpose\"].isnull().sum()"
   ]
  },
  {
   "cell_type": "code",
   "execution_count": 65,
   "id": "cb1fbdf7",
   "metadata": {},
   "outputs": [
    {
     "data": {
      "text/plain": [
       "648"
      ]
     },
     "execution_count": 65,
     "metadata": {},
     "output_type": "execute_result"
    }
   ],
   "source": [
    "station_df[\"primary_purpose_name\"].isnull().sum()"
   ]
  },
  {
   "cell_type": "code",
   "execution_count": 66,
   "id": "135511f7",
   "metadata": {
    "scrolled": true
   },
   "outputs": [
    {
     "data": {
      "text/plain": [
       "2"
      ]
     },
     "execution_count": 66,
     "metadata": {},
     "output_type": "execute_result"
    }
   ],
   "source": [
    "len(station_df[\"primary_purpose\"].unique()) - len(station_df[\"primary_purpose_name\"].unique())"
   ]
  },
  {
   "cell_type": "code",
   "execution_count": 67,
   "id": "9b4691be",
   "metadata": {},
   "outputs": [
    {
     "name": "stdout",
     "output_type": "stream",
     "text": [
      "P maps to ['Planning or traffic statistics purposes']\n",
      "R maps to ['Research purposes (e.g. LTPP)']\n",
      "L maps to ['Load data for pavement design or pavement management purposes']\n",
      "O maps to ['Operations purposes but not ITS']\n",
      "0 maps to [nan]\n",
      "nan maps to []\n",
      "I maps to ['Operations purposes in support of ITS initiatives']\n",
      "4 maps to [nan]\n",
      "E maps to ['Enforcement purposes (e.g. speed or weight enforcement)']\n"
     ]
    }
   ],
   "source": [
    "print_mapped_value(station_df, \"primary_purpose\", \"primary_purpose_name\")"
   ]
  },
  {
   "cell_type": "markdown",
   "id": "a11f9671",
   "metadata": {},
   "source": [
    "Since the primary_purpose column have more information than the primary_purpose_name column, we will keep that particular column instead."
   ]
  },
  {
   "cell_type": "code",
   "execution_count": 68,
   "id": "6359ec8c",
   "metadata": {},
   "outputs": [],
   "source": [
    "station_df.drop(\"primary_purpose_name\", axis=1, inplace=True)"
   ]
  },
  {
   "cell_type": "markdown",
   "id": "497d4ccb",
   "metadata": {},
   "source": [
    "### sample_type_for_traffic_volume & sample_type_for_traffic_volume_name"
   ]
  },
  {
   "cell_type": "code",
   "execution_count": 69,
   "id": "d43cf4fb",
   "metadata": {},
   "outputs": [
    {
     "data": {
      "text/plain": [
       "812"
      ]
     },
     "execution_count": 69,
     "metadata": {},
     "output_type": "execute_result"
    }
   ],
   "source": [
    "station_df[\"sample_type_for_traffic_volume\"].isnull().sum()"
   ]
  },
  {
   "cell_type": "code",
   "execution_count": 70,
   "id": "922b7ecd",
   "metadata": {},
   "outputs": [
    {
     "data": {
      "text/plain": [
       "1050"
      ]
     },
     "execution_count": 70,
     "metadata": {},
     "output_type": "execute_result"
    }
   ],
   "source": [
    "station_df[\"sample_type_for_traffic_volume_name\"].isnull().sum()"
   ]
  },
  {
   "cell_type": "code",
   "execution_count": 71,
   "id": "df0915c8",
   "metadata": {
    "scrolled": true
   },
   "outputs": [
    {
     "data": {
      "text/plain": [
       "2"
      ]
     },
     "execution_count": 71,
     "metadata": {},
     "output_type": "execute_result"
    }
   ],
   "source": [
    "len(station_df[\"sample_type_for_traffic_volume\"].unique()) - len(station_df[\"sample_type_for_traffic_volume_name\"].unique())"
   ]
  },
  {
   "cell_type": "code",
   "execution_count": 72,
   "id": "f780d785",
   "metadata": {
    "scrolled": true
   },
   "outputs": [
    {
     "name": "stdout",
     "output_type": "stream",
     "text": [
      "T maps to ['Station used for Traffic Volume Trends']\n",
      "nan maps to []\n",
      "N maps to ['Station not used for Traffic Volume Trends']\n",
      "Y maps to [nan]\n",
      "t maps to [nan]\n"
     ]
    }
   ],
   "source": [
    "print_mapped_value(station_df, \"sample_type_for_traffic_volume\", \"sample_type_for_traffic_volume_name\")"
   ]
  },
  {
   "cell_type": "markdown",
   "id": "c9d43cde",
   "metadata": {},
   "source": [
    "Whether a station is used for traffic volume trends seems to be binary in nature, we can try mapping nans to the value 'Station not used for Traffic Volume Trends' while mapping the values \"Y\", \"t\" and \"T\" to 'Station used for Traffic Volume Trends', ie. 1\n",
    "\n",
    "This is what will be done however one caveat is that we are assuming this column is binary in nature. With this in mind,we can just modify the sample_type_for_traffic_volume column and consolidate all under a uniform value of \"T\" and fillna to N"
   ]
  },
  {
   "cell_type": "code",
   "execution_count": 73,
   "id": "e6794257",
   "metadata": {},
   "outputs": [],
   "source": [
    "station_df[\"sample_type_for_traffic_volume\"].replace(\"N\", \"0\", inplace=True)\n",
    "station_df[\"sample_type_for_traffic_volume\"].replace([\"t\", \"Y\", \"T\"], \"1\", inplace=True)\n",
    "station_df[\"sample_type_for_traffic_volume\"].fillna(\"0\", inplace=True)"
   ]
  },
  {
   "cell_type": "code",
   "execution_count": 74,
   "id": "a6915c1a",
   "metadata": {},
   "outputs": [],
   "source": [
    "station_df[\"sample_type_for_traffic_volume\"] = pd.to_numeric(station_df[\"sample_type_for_traffic_volume\"])"
   ]
  },
  {
   "cell_type": "code",
   "execution_count": 75,
   "id": "8d61fc66",
   "metadata": {},
   "outputs": [],
   "source": [
    "station_df.drop(\"sample_type_for_traffic_volume_name\", axis=1, inplace=True)"
   ]
  },
  {
   "cell_type": "markdown",
   "id": "c6c395a2",
   "metadata": {},
   "source": [
    "### sample_type_for_truck_weight & sample_type_for_truck_weight_name"
   ]
  },
  {
   "cell_type": "code",
   "execution_count": 76,
   "id": "11621aca",
   "metadata": {},
   "outputs": [
    {
     "data": {
      "text/plain": [
       "12062"
      ]
     },
     "execution_count": 76,
     "metadata": {},
     "output_type": "execute_result"
    }
   ],
   "source": [
    "station_df[\"sample_type_for_truck_weight\"].isnull().sum()"
   ]
  },
  {
   "cell_type": "code",
   "execution_count": 77,
   "id": "7a273b7a",
   "metadata": {},
   "outputs": [
    {
     "data": {
      "text/plain": [
       "12812"
      ]
     },
     "execution_count": 77,
     "metadata": {},
     "output_type": "execute_result"
    }
   ],
   "source": [
    "station_df[\"sample_type_for_truck_weight_name\"].isnull().sum()"
   ]
  },
  {
   "cell_type": "code",
   "execution_count": 78,
   "id": "2b1a4aa3",
   "metadata": {
    "scrolled": true
   },
   "outputs": [
    {
     "data": {
      "text/plain": [
       "3"
      ]
     },
     "execution_count": 78,
     "metadata": {},
     "output_type": "execute_result"
    }
   ],
   "source": [
    "len(station_df[\"sample_type_for_truck_weight\"].unique()) - len(station_df[\"sample_type_for_truck_weight_name\"].unique())"
   ]
  },
  {
   "cell_type": "code",
   "execution_count": 79,
   "id": "c3b22baf",
   "metadata": {},
   "outputs": [
    {
     "name": "stdout",
     "output_type": "stream",
     "text": [
      "nan maps to []\n",
      "B maps to ['Station used for TMG sample and Strategic Highway Research Program (SHRP) Long Term Pavement Performance (LTPP) sample']\n",
      "N maps to ['Station not used for any of the above']\n",
      "T maps to ['Station used for TMG sample (but not SHRP/LTPP sample)']\n",
      "0 maps to [nan]\n",
      "5 maps to [nan]\n",
      "L maps to ['Station used for SHRP/LTPP sample (but not TMG sample)']\n",
      "1 maps to [nan]\n"
     ]
    }
   ],
   "source": [
    "print_mapped_value(station_df, \"sample_type_for_truck_weight\", \"sample_type_for_truck_weight_name\")"
   ]
  },
  {
   "cell_type": "markdown",
   "id": "e3d072eb",
   "metadata": {},
   "source": [
    "With this mapping table in mind, we will keep the sample_type_for_truck_weigh as it retains the most possible information."
   ]
  },
  {
   "cell_type": "code",
   "execution_count": 80,
   "id": "6b12244f",
   "metadata": {},
   "outputs": [],
   "source": [
    "station_df.drop(\"sample_type_for_truck_weight_name\", axis=1, inplace=True)"
   ]
  },
  {
   "cell_type": "markdown",
   "id": "141bd3f8",
   "metadata": {},
   "source": [
    "### sample_type_for_vehicle_classification & sample_type_for_vehicle_classification_name"
   ]
  },
  {
   "cell_type": "code",
   "execution_count": 81,
   "id": "3a75860b",
   "metadata": {},
   "outputs": [
    {
     "data": {
      "text/plain": [
       "3487"
      ]
     },
     "execution_count": 81,
     "metadata": {},
     "output_type": "execute_result"
    }
   ],
   "source": [
    "station_df[\"sample_type_for_vehicle_classification\"].isnull().sum()"
   ]
  },
  {
   "cell_type": "code",
   "execution_count": 82,
   "id": "f21dc46d",
   "metadata": {},
   "outputs": [
    {
     "data": {
      "text/plain": [
       "4414"
      ]
     },
     "execution_count": 82,
     "metadata": {},
     "output_type": "execute_result"
    }
   ],
   "source": [
    "station_df[\"sample_type_for_vehicle_classification_name\"].isnull().sum()"
   ]
  },
  {
   "cell_type": "code",
   "execution_count": 83,
   "id": "5c7abc8d",
   "metadata": {},
   "outputs": [
    {
     "data": {
      "text/plain": [
       "4"
      ]
     },
     "execution_count": 83,
     "metadata": {},
     "output_type": "execute_result"
    }
   ],
   "source": [
    "len(station_df[\"sample_type_for_vehicle_classification\"].unique()) - len(station_df[\"sample_type_for_vehicle_classification_name\"].unique())"
   ]
  },
  {
   "cell_type": "code",
   "execution_count": 84,
   "id": "b646cf75",
   "metadata": {},
   "outputs": [
    {
     "name": "stdout",
     "output_type": "stream",
     "text": [
      "N maps to ['Station not used for Heavy Vehicle Travel Information System']\n",
      "H maps to ['Station used for Heavy Vehicle Travel Information System']\n",
      "0 maps to [nan]\n",
      "nan maps to []\n",
      "Y maps to [nan]\n",
      "2 maps to [nan]\n",
      "T maps to [nan]\n"
     ]
    }
   ],
   "source": [
    "print_mapped_value(station_df, \"sample_type_for_vehicle_classification\", \"sample_type_for_vehicle_classification_name\")"
   ]
  },
  {
   "cell_type": "markdown",
   "id": "7e5e1e54",
   "metadata": {},
   "source": [
    "Similar to the sample_type_for_traffic_volume, we will assume that this column is binary in nature, ie. a station will only either be used for Heavy Vehicle Travel Information System or it will not be used.\n",
    "\n",
    "We will map N and nans to 0 and Y, 2, T, H to 1."
   ]
  },
  {
   "cell_type": "code",
   "execution_count": 85,
   "id": "47d8832b",
   "metadata": {},
   "outputs": [],
   "source": [
    "station_df[\"sample_type_for_vehicle_classification\"].replace([\"H\", \"Y\", \"2\", \"T\"], \"1\",inplace=True)\n",
    "station_df[\"sample_type_for_vehicle_classification\"].replace(\"N\", \"0\",inplace=True)\n",
    "station_df[\"sample_type_for_vehicle_classification\"].fillna(\"0\", inplace=True)"
   ]
  },
  {
   "cell_type": "code",
   "execution_count": 86,
   "id": "2fd4f07f",
   "metadata": {},
   "outputs": [],
   "source": [
    "station_df[\"sample_type_for_vehicle_classification\"] = pd.to_numeric(station_df[\"sample_type_for_vehicle_classification\"])"
   ]
  },
  {
   "cell_type": "code",
   "execution_count": 87,
   "id": "8255c79b",
   "metadata": {},
   "outputs": [],
   "source": [
    "station_df.drop(\"sample_type_for_vehicle_classification_name\", axis=1, inplace=True)"
   ]
  },
  {
   "cell_type": "markdown",
   "id": "bf7599c9",
   "metadata": {},
   "source": [
    "### type_of_sensor & type_of_sensor_name"
   ]
  },
  {
   "cell_type": "code",
   "execution_count": 88,
   "id": "fb796711",
   "metadata": {},
   "outputs": [
    {
     "data": {
      "text/plain": [
       "352"
      ]
     },
     "execution_count": 88,
     "metadata": {},
     "output_type": "execute_result"
    }
   ],
   "source": [
    "station_df[\"type_of_sensor\"].isnull().sum()"
   ]
  },
  {
   "cell_type": "code",
   "execution_count": 89,
   "id": "e26b4200",
   "metadata": {},
   "outputs": [
    {
     "data": {
      "text/plain": [
       "352"
      ]
     },
     "execution_count": 89,
     "metadata": {},
     "output_type": "execute_result"
    }
   ],
   "source": [
    "station_df[\"type_of_sensor_name\"].isnull().sum()"
   ]
  },
  {
   "cell_type": "code",
   "execution_count": 90,
   "id": "2c6a90ea",
   "metadata": {},
   "outputs": [
    {
     "data": {
      "text/plain": [
       "0"
      ]
     },
     "execution_count": 90,
     "metadata": {},
     "output_type": "execute_result"
    }
   ],
   "source": [
    "len(station_df[\"type_of_sensor\"].unique()) - len(station_df[\"type_of_sensor_name\"].unique())"
   ]
  },
  {
   "cell_type": "code",
   "execution_count": 91,
   "id": "22c96307",
   "metadata": {},
   "outputs": [
    {
     "name": "stdout",
     "output_type": "stream",
     "text": [
      "L maps to ['Inductance loop']\n",
      "P maps to ['Piezoelectric']\n",
      "X maps to ['Radio wave']\n",
      "Q maps to ['Quartz piezoelectric - NEW']\n",
      "W maps to ['Microwave']\n",
      "nan maps to []\n",
      "R maps to ['Road tube']\n",
      "H maps to ['Human observation (manual)']\n",
      "B maps to ['Bending plate']\n",
      "U maps to ['Ultrasonic']\n",
      "Z maps to ['Other']\n",
      "S maps to ['Sonic/acoustic']\n",
      "I maps to ['Infrared']\n",
      "G maps to ['Strain gauge on bridge beam']\n",
      "V maps to ['Video image']\n",
      "E maps to ['Hydraulic load cells']\n",
      "A maps to ['Automatic vehicle identification (AVI)']\n",
      "K maps to ['Laser/lidar']\n",
      "M maps to ['Magnetometer']\n",
      "F maps to ['Fiber optic - NEW']\n"
     ]
    }
   ],
   "source": [
    "print_mapped_value(station_df, \"type_of_sensor\", \"type_of_sensor_name\")"
   ]
  },
  {
   "cell_type": "markdown",
   "id": "860369fe",
   "metadata": {},
   "source": [
    "Since there is perfect mapping, we can keep the more verbose column ie. type_of_sensor_name"
   ]
  },
  {
   "cell_type": "code",
   "execution_count": 92,
   "id": "a66d6921",
   "metadata": {},
   "outputs": [],
   "source": [
    "station_df.drop(\"type_of_sensor\", inplace=True, axis=1)"
   ]
  },
  {
   "cell_type": "markdown",
   "id": "46d37f9e",
   "metadata": {},
   "source": [
    "We are now done with the station data (for now), moving on to the traffic data"
   ]
  },
  {
   "cell_type": "markdown",
   "id": "1ae82dc7",
   "metadata": {},
   "source": [
    "## Traffic Data"
   ]
  },
  {
   "cell_type": "code",
   "execution_count": 93,
   "id": "81efe380",
   "metadata": {},
   "outputs": [
    {
     "data": {
      "text/plain": [
       "date                                               0\n",
       "day_of_data                                        0\n",
       "day_of_week                                        0\n",
       "direction_of_travel                                0\n",
       "direction_of_travel_name                           0\n",
       "fips_state_code                                    0\n",
       "functional_classification                          0\n",
       "functional_classification_name                     0\n",
       "lane_of_travel                                     0\n",
       "month_of_data                                      0\n",
       "record_type                                        0\n",
       "restrictions                                 7140391\n",
       "station_id                                         0\n",
       "traffic_volume_counted_after_0000_to_0100          0\n",
       "traffic_volume_counted_after_0100_to_0200          0\n",
       "traffic_volume_counted_after_0200_to_0300          0\n",
       "traffic_volume_counted_after_0300_to_0400          0\n",
       "traffic_volume_counted_after_0400_to_0500          0\n",
       "traffic_volume_counted_after_0500_to_0600          0\n",
       "traffic_volume_counted_after_0600_to_0700          0\n",
       "traffic_volume_counted_after_0700_to_0800          0\n",
       "traffic_volume_counted_after_0800_to_0900          0\n",
       "traffic_volume_counted_after_0900_to_1000          0\n",
       "traffic_volume_counted_after_1000_to_1100          0\n",
       "traffic_volume_counted_after_1100_to_1200          0\n",
       "traffic_volume_counted_after_1200_to_1300          0\n",
       "traffic_volume_counted_after_1300_to_1400          0\n",
       "traffic_volume_counted_after_1400_to_1500          0\n",
       "traffic_volume_counted_after_1500_to_1600          0\n",
       "traffic_volume_counted_after_1600_to_1700          0\n",
       "traffic_volume_counted_after_1700_to_1800          0\n",
       "traffic_volume_counted_after_1800_to_1900          0\n",
       "traffic_volume_counted_after_1900_to_2000          0\n",
       "traffic_volume_counted_after_2000_to_2100          0\n",
       "traffic_volume_counted_after_2100_to_2200          0\n",
       "traffic_volume_counted_after_2200_to_2300          0\n",
       "traffic_volume_counted_after_2300_to_2400          0\n",
       "year_of_data                                       0\n",
       "dtype: int64"
      ]
     },
     "execution_count": 93,
     "metadata": {},
     "output_type": "execute_result"
    }
   ],
   "source": [
    "traffic_df.isnull().sum()"
   ]
  },
  {
   "cell_type": "markdown",
   "id": "99e333cf",
   "metadata": {},
   "source": [
    "Most of the data in the traffic_df dataframe is filled up, only the restriction column seems to be missing a huge chunk of data. We will further investigate this particular column.\n",
    "\n",
    "We will also dropped the functional_classification column and direction_of_travel column since we also dropped them in the station_df from our prior analysis"
   ]
  },
  {
   "cell_type": "code",
   "execution_count": 94,
   "id": "e9122b95",
   "metadata": {},
   "outputs": [],
   "source": [
    "traffic_df.drop([\"functional_classification\", \"direction_of_travel\"], axis=1, inplace=True)"
   ]
  },
  {
   "cell_type": "markdown",
   "id": "0f1f5ce4",
   "metadata": {},
   "source": [
    "### Restrictions"
   ]
  },
  {
   "cell_type": "code",
   "execution_count": 95,
   "id": "cf6b82ef",
   "metadata": {},
   "outputs": [
    {
     "data": {
      "text/plain": [
       "array([nan])"
      ]
     },
     "execution_count": 95,
     "metadata": {},
     "output_type": "execute_result"
    }
   ],
   "source": [
    "traffic_df[\"restrictions\"].unique()"
   ]
  },
  {
   "cell_type": "markdown",
   "id": "65272250",
   "metadata": {},
   "source": [
    "The entire column are just NaN values, we will proceed to drop this column"
   ]
  },
  {
   "cell_type": "code",
   "execution_count": 96,
   "id": "a643e235",
   "metadata": {},
   "outputs": [],
   "source": [
    "traffic_df.drop(\"restrictions\", axis=1, inplace=True)"
   ]
  },
  {
   "cell_type": "code",
   "execution_count": 97,
   "id": "2e722d0f",
   "metadata": {},
   "outputs": [],
   "source": [
    "traffic_df.to_csv(\"../data/interim/dot_traffic_2015.csv\", index=False)\n",
    "station_df.to_csv(\"../data/interim/dot_traffic_stations_2015.csv\", index=False)"
   ]
  },
  {
   "cell_type": "markdown",
   "id": "fb10486e",
   "metadata": {},
   "source": [
    "We will be combing the data with all these intersecting columns, it will be good to check if they agree with each other also after combining them"
   ]
  },
  {
   "cell_type": "markdown",
   "id": "126f5ad3",
   "metadata": {},
   "source": [
    "# Summary\n",
    "\n",
    "These are the columns that were dropped from the station_df based on the analysis that we have done in the notebook:\n",
    "1. algorithm_of_classification_name\n",
    "2. calibration_of_weighing_system_name\n",
    "3. direction_of_travel\n",
    "4. functional_classification\n",
    "5. lane_of_travel_name\n",
    "6. method_of_data_retrieval_name\n",
    "7. method_of_traffic_volume_counting_name\n",
    "8. method_of_truck_weighing\n",
    "9. method_of_vehicle_classification_name\n",
    "10. sample_type_for_traffic_volume_name\n",
    "11. sample_type_for_truck_weight_name\n",
    "12. sample_type_for_vehicle_classification_name\n",
    "13. type_of_sensor\n",
    "\n",
    "These are the columns that were dropped frm the traffic_df based on the analysis that was done:\n",
    "\n",
    "1. restrictions\n",
    "\n",
    "We will move on to the EDA portion, data cleaning is by no means finished, we might change the way we clean the data based on the EDA that we will be doing."
   ]
  }
 ],
 "metadata": {
  "kernelspec": {
   "display_name": "Python 3 (ipykernel)",
   "language": "python",
   "name": "python3"
  },
  "language_info": {
   "codemirror_mode": {
    "name": "ipython",
    "version": 3
   },
   "file_extension": ".py",
   "mimetype": "text/x-python",
   "name": "python",
   "nbconvert_exporter": "python",
   "pygments_lexer": "ipython3",
   "version": "3.8.11"
  }
 },
 "nbformat": 4,
 "nbformat_minor": 5
}
