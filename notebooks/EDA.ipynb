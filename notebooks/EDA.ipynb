{
 "cells": [
  {
   "cell_type": "code",
   "execution_count": 44,
   "id": "d5f7ec94",
   "metadata": {},
   "outputs": [],
   "source": [
    "import pandas as pd\n",
    "import datetime as datetime\n",
    "import seaborn as sns\n",
    "import matplotlib.pyplot as plt\n",
    "from dateutil.relativedelta import relativedelta\n",
    "\n",
    "pd.set_option('display.max_rows', 500)\n",
    "pd.set_option('display.max_columns', 500)\n",
    "pd.set_option('display.width', 1000)\n",
    "\n",
    "sns.set()"
   ]
  },
  {
   "cell_type": "code",
   "execution_count": 2,
   "id": "94bc5e59",
   "metadata": {},
   "outputs": [],
   "source": [
    "station_path = \"../data/interim/dot_traffic_stations_2015.csv\"\n",
    "traffic_path = \"../data/interim/dot_traffic_2015.csv\""
   ]
  },
  {
   "cell_type": "code",
   "execution_count": 3,
   "id": "698d78e1",
   "metadata": {},
   "outputs": [],
   "source": [
    "traffic_df = pd.read_csv(traffic_path)\n",
    "station_df = pd.read_csv(station_path)"
   ]
  },
  {
   "cell_type": "markdown",
   "id": "f46c1254",
   "metadata": {},
   "source": [
    "# EDA"
   ]
  },
  {
   "cell_type": "markdown",
   "id": "e3a44dd8",
   "metadata": {},
   "source": [
    "Creating some helper functions to clean the data and for feature engineering."
   ]
  },
  {
   "cell_type": "code",
   "execution_count": 4,
   "id": "3ea790e1",
   "metadata": {},
   "outputs": [],
   "source": [
    "def create_max_volume_column(df: pd.DataFrame) -> pd.DataFrame:\n",
    "    \"\"\"\n",
    "    Create a daily max volume column for EDA purpose by summing up all the traffic_volume columns\n",
    "    \n",
    "    Args:\n",
    "        df (pd.DataFrame): Dataframe to modify\n",
    "        \n",
    "    Returns:\n",
    "        modified_df (pd.DataFrame): DataFrame with new total_volume column\n",
    "    \"\"\"\n",
    "    volume_columns = [column for column in df.columns if column.startswith(\"traffic_volume\")]\n",
    "    df[\"total_volume\"] = df[volume_columns].sum(axis=1)\n",
    "    \n",
    "    return df\n",
    "\n",
    "\n",
    "def convert_established_year_to_int(df: pd.DataFrame) -> pd.DataFrame:\n",
    "    \"\"\"\n",
    "    Convert the year_station_established to int by adding a 2000 to any number between 0 and 15, while adding a\n",
    "    1900 to any number between 16 and 99. Assumption is based on the dataset being from 2015 ie. it is not possible to have 2016\n",
    "    \n",
    "    Args:\n",
    "        df (pd.DataFrame): Dataframe to modify\n",
    "        \n",
    "    Returns:\n",
    "        modified_df (pd.DataFrame): DataFrame with modified established_year column\n",
    "    \"\"\"\n",
    "    df[\"year_station_established\"] = df[\"year_station_established\"].apply(lambda x: 2000 + x if x <= 15 else 1900 + x)\n",
    "    \n",
    "    return df\n",
    "\n",
    "def create_years_of_operation_column(df: pd.DataFrame) -> pd.DataFrame:\n",
    "    \"\"\"\n",
    "    Create a year of operation column that computes the number of years that the observation station has been in service\n",
    "    \n",
    "    Args:\n",
    "        df (pd.DataFrame): Dataframe to create the year of operation column\n",
    "        \n",
    "    Returns:\n",
    "        new_df (pd.DataFrame): DataFrame with a new year_of_operation column\n",
    "    \"\"\"\n",
    "    df[\"year_of_data\"] = df[\"year_of_data\"] + 2000\n",
    "    df[\"year_of_service\"] = df[\"year_of_data\"] - df[\"year_station_established\"]\n",
    "    \n",
    "    return df"
   ]
  },
  {
   "cell_type": "markdown",
   "id": "b711625c",
   "metadata": {},
   "source": [
    "Since we will be doing traffic volume prediction for New York specifically, we can drop the irrelevant stations that are not situated in New York. Based on https://www.nrcs.usda.gov/wps/portal/nrcs/detail/?cid=nrcs143_013696, the state code for New York is 36\n",
    "\n",
    "Lets do some EDA on the respective df to see if we can generate any informative insights from them. Since we are trying to predict traffic volume for the New York's rush hour"
   ]
  },
  {
   "cell_type": "code",
   "execution_count": 5,
   "id": "c93057cd",
   "metadata": {},
   "outputs": [],
   "source": [
    "NEW_YORK_CODE = 36"
   ]
  },
  {
   "cell_type": "code",
   "execution_count": 6,
   "id": "1bffaaf8",
   "metadata": {},
   "outputs": [],
   "source": [
    "station_df = station_df[station_df[\"fips_state_code\"] == NEW_YORK_CODE]\n",
    "traffic_df = traffic_df[traffic_df[\"fips_state_code\"] == NEW_YORK_CODE]"
   ]
  },
  {
   "cell_type": "markdown",
   "id": "0cc3d782",
   "metadata": {},
   "source": [
    "Since all the fips_state_code will be of only one value, we can safely drop this column also"
   ]
  },
  {
   "cell_type": "code",
   "execution_count": 7,
   "id": "efc996e2",
   "metadata": {},
   "outputs": [],
   "source": [
    "station_df.drop(\"fips_state_code\", inplace=True, axis=1)\n",
    "traffic_df.drop(\"fips_state_code\", inplace=True, axis=1)"
   ]
  },
  {
   "cell_type": "markdown",
   "id": "d21eddf6",
   "metadata": {},
   "source": [
    "After dropping selectively dropping the irrelevant stations, let's combine the two dataframe into one combined dataframe for the EDA"
   ]
  },
  {
   "cell_type": "code",
   "execution_count": 8,
   "id": "4a6f164f",
   "metadata": {},
   "outputs": [],
   "source": [
    "combined_df = traffic_df.merge(station_df,\n",
    "                               on=[\"station_id\", \"direction_of_travel_name\",\n",
    "                                   \"functional_classification_name\", \"lane_of_travel\",\n",
    "                                   \"year_of_data\"])"
   ]
  },
  {
   "cell_type": "code",
   "execution_count": 45,
   "id": "b8d03536",
   "metadata": {},
   "outputs": [
    {
     "data": {
      "text/html": [
       "<div>\n",
       "<style scoped>\n",
       "    .dataframe tbody tr th:only-of-type {\n",
       "        vertical-align: middle;\n",
       "    }\n",
       "\n",
       "    .dataframe tbody tr th {\n",
       "        vertical-align: top;\n",
       "    }\n",
       "\n",
       "    .dataframe thead th {\n",
       "        text-align: right;\n",
       "    }\n",
       "</style>\n",
       "<table border=\"1\" class=\"dataframe\">\n",
       "  <thead>\n",
       "    <tr style=\"text-align: right;\">\n",
       "      <th></th>\n",
       "      <th>day_of_data</th>\n",
       "      <th>day_of_week</th>\n",
       "      <th>month_of_data</th>\n",
       "      <th>record_type_x</th>\n",
       "      <th>traffic_volume_counted_after_0000_to_0100</th>\n",
       "      <th>traffic_volume_counted_after_0100_to_0200</th>\n",
       "      <th>traffic_volume_counted_after_0200_to_0300</th>\n",
       "      <th>traffic_volume_counted_after_0300_to_0400</th>\n",
       "      <th>traffic_volume_counted_after_0400_to_0500</th>\n",
       "      <th>traffic_volume_counted_after_0500_to_0600</th>\n",
       "      <th>traffic_volume_counted_after_0600_to_0700</th>\n",
       "      <th>traffic_volume_counted_after_0700_to_0800</th>\n",
       "      <th>traffic_volume_counted_after_0800_to_0900</th>\n",
       "      <th>traffic_volume_counted_after_0900_to_1000</th>\n",
       "      <th>traffic_volume_counted_after_1000_to_1100</th>\n",
       "      <th>traffic_volume_counted_after_1100_to_1200</th>\n",
       "      <th>traffic_volume_counted_after_1200_to_1300</th>\n",
       "      <th>traffic_volume_counted_after_1300_to_1400</th>\n",
       "      <th>traffic_volume_counted_after_1400_to_1500</th>\n",
       "      <th>traffic_volume_counted_after_1500_to_1600</th>\n",
       "      <th>traffic_volume_counted_after_1600_to_1700</th>\n",
       "      <th>traffic_volume_counted_after_1700_to_1800</th>\n",
       "      <th>traffic_volume_counted_after_1800_to_1900</th>\n",
       "      <th>traffic_volume_counted_after_1900_to_2000</th>\n",
       "      <th>traffic_volume_counted_after_2000_to_2100</th>\n",
       "      <th>traffic_volume_counted_after_2100_to_2200</th>\n",
       "      <th>traffic_volume_counted_after_2200_to_2300</th>\n",
       "      <th>traffic_volume_counted_after_2300_to_2400</th>\n",
       "      <th>classification_system_for_vehicle_classification</th>\n",
       "      <th>concurrent_route_signing</th>\n",
       "      <th>fips_county_code</th>\n",
       "      <th>latitude</th>\n",
       "      <th>longitude</th>\n",
       "      <th>lrs_location_point</th>\n",
       "      <th>method_of_data_retrieval</th>\n",
       "      <th>method_of_traffic_volume_counting</th>\n",
       "      <th>method_of_vehicle_classification</th>\n",
       "      <th>number_of_lanes_in_direction_indicated</th>\n",
       "      <th>number_of_lanes_monitored_for_traffic_volume</th>\n",
       "      <th>number_of_lanes_monitored_for_truck_weight</th>\n",
       "      <th>number_of_lanes_monitored_for_vehicle_class</th>\n",
       "      <th>posted_route_signing</th>\n",
       "      <th>sample_type_for_traffic_volume</th>\n",
       "      <th>sample_type_for_vehicle_classification</th>\n",
       "      <th>year_station_established</th>\n",
       "      <th>total_volume</th>\n",
       "      <th>year_of_service</th>\n",
       "    </tr>\n",
       "  </thead>\n",
       "  <tbody>\n",
       "    <tr>\n",
       "      <th>count</th>\n",
       "      <td>247120.000000</td>\n",
       "      <td>247120.000000</td>\n",
       "      <td>247120.000000</td>\n",
       "      <td>247120.0</td>\n",
       "      <td>247120.000000</td>\n",
       "      <td>247120.000000</td>\n",
       "      <td>247120.000000</td>\n",
       "      <td>247120.000000</td>\n",
       "      <td>247120.000000</td>\n",
       "      <td>247120.000000</td>\n",
       "      <td>247120.000000</td>\n",
       "      <td>247120.000000</td>\n",
       "      <td>247120.000000</td>\n",
       "      <td>247120.000000</td>\n",
       "      <td>247120.000000</td>\n",
       "      <td>247120.000000</td>\n",
       "      <td>247120.000000</td>\n",
       "      <td>247120.000000</td>\n",
       "      <td>247120.000000</td>\n",
       "      <td>247120.000000</td>\n",
       "      <td>247120.000000</td>\n",
       "      <td>247120.000000</td>\n",
       "      <td>247120.000000</td>\n",
       "      <td>247120.000000</td>\n",
       "      <td>247120.000000</td>\n",
       "      <td>247120.000000</td>\n",
       "      <td>247120.000000</td>\n",
       "      <td>247120.000000</td>\n",
       "      <td>247120.000000</td>\n",
       "      <td>247120.000000</td>\n",
       "      <td>247120.000000</td>\n",
       "      <td>247120.000000</td>\n",
       "      <td>247120.000000</td>\n",
       "      <td>247120.000000</td>\n",
       "      <td>247120.0</td>\n",
       "      <td>247120.0</td>\n",
       "      <td>247120.000000</td>\n",
       "      <td>247120.000000</td>\n",
       "      <td>247120.000000</td>\n",
       "      <td>247120.000000</td>\n",
       "      <td>247120.000000</td>\n",
       "      <td>247120.000000</td>\n",
       "      <td>247120.0</td>\n",
       "      <td>247120.000000</td>\n",
       "      <td>247120.000000</td>\n",
       "      <td>2.471200e+05</td>\n",
       "      <td>247120.000000</td>\n",
       "    </tr>\n",
       "    <tr>\n",
       "      <th>mean</th>\n",
       "      <td>15.736492</td>\n",
       "      <td>4.025320</td>\n",
       "      <td>6.273689</td>\n",
       "      <td>3.0</td>\n",
       "      <td>95.959635</td>\n",
       "      <td>68.198106</td>\n",
       "      <td>55.443792</td>\n",
       "      <td>57.844784</td>\n",
       "      <td>81.623074</td>\n",
       "      <td>153.649907</td>\n",
       "      <td>279.197418</td>\n",
       "      <td>375.904726</td>\n",
       "      <td>377.207531</td>\n",
       "      <td>359.621131</td>\n",
       "      <td>370.340175</td>\n",
       "      <td>396.185926</td>\n",
       "      <td>417.040855</td>\n",
       "      <td>423.651530</td>\n",
       "      <td>449.952197</td>\n",
       "      <td>488.763831</td>\n",
       "      <td>509.104172</td>\n",
       "      <td>492.004601</td>\n",
       "      <td>408.740126</td>\n",
       "      <td>331.145557</td>\n",
       "      <td>276.395112</td>\n",
       "      <td>232.251602</td>\n",
       "      <td>186.333263</td>\n",
       "      <td>141.674332</td>\n",
       "      <td>13.210416</td>\n",
       "      <td>0.285177</td>\n",
       "      <td>60.697212</td>\n",
       "      <td>42.318690</td>\n",
       "      <td>75.313826</td>\n",
       "      <td>21029.347422</td>\n",
       "      <td>2.0</td>\n",
       "      <td>3.0</td>\n",
       "      <td>1.751963</td>\n",
       "      <td>2.192473</td>\n",
       "      <td>2.192473</td>\n",
       "      <td>0.394262</td>\n",
       "      <td>1.225336</td>\n",
       "      <td>2.517303</td>\n",
       "      <td>1.0</td>\n",
       "      <td>0.583988</td>\n",
       "      <td>1993.834732</td>\n",
       "      <td>7.028233e+03</td>\n",
       "      <td>21.165268</td>\n",
       "    </tr>\n",
       "    <tr>\n",
       "      <th>std</th>\n",
       "      <td>8.800760</td>\n",
       "      <td>1.998778</td>\n",
       "      <td>3.359880</td>\n",
       "      <td>0.0</td>\n",
       "      <td>716.281337</td>\n",
       "      <td>729.663125</td>\n",
       "      <td>689.431330</td>\n",
       "      <td>757.305878</td>\n",
       "      <td>744.685426</td>\n",
       "      <td>715.339658</td>\n",
       "      <td>747.289996</td>\n",
       "      <td>665.858965</td>\n",
       "      <td>613.582845</td>\n",
       "      <td>579.375130</td>\n",
       "      <td>543.890345</td>\n",
       "      <td>517.450102</td>\n",
       "      <td>542.603639</td>\n",
       "      <td>619.957995</td>\n",
       "      <td>632.069093</td>\n",
       "      <td>658.738313</td>\n",
       "      <td>685.606553</td>\n",
       "      <td>783.048879</td>\n",
       "      <td>763.558676</td>\n",
       "      <td>745.119509</td>\n",
       "      <td>720.088445</td>\n",
       "      <td>733.671261</td>\n",
       "      <td>719.118930</td>\n",
       "      <td>691.307991</td>\n",
       "      <td>0.613644</td>\n",
       "      <td>0.855264</td>\n",
       "      <td>34.033523</td>\n",
       "      <td>1.154043</td>\n",
       "      <td>1.828178</td>\n",
       "      <td>21626.098901</td>\n",
       "      <td>0.0</td>\n",
       "      <td>0.0</td>\n",
       "      <td>1.478690</td>\n",
       "      <td>0.925752</td>\n",
       "      <td>0.925752</td>\n",
       "      <td>0.907341</td>\n",
       "      <td>1.237709</td>\n",
       "      <td>1.634108</td>\n",
       "      <td>0.0</td>\n",
       "      <td>0.492897</td>\n",
       "      <td>15.569824</td>\n",
       "      <td>1.309632e+04</td>\n",
       "      <td>15.569824</td>\n",
       "    </tr>\n",
       "    <tr>\n",
       "      <th>min</th>\n",
       "      <td>1.000000</td>\n",
       "      <td>1.000000</td>\n",
       "      <td>1.000000</td>\n",
       "      <td>3.0</td>\n",
       "      <td>0.000000</td>\n",
       "      <td>0.000000</td>\n",
       "      <td>0.000000</td>\n",
       "      <td>0.000000</td>\n",
       "      <td>0.000000</td>\n",
       "      <td>0.000000</td>\n",
       "      <td>0.000000</td>\n",
       "      <td>0.000000</td>\n",
       "      <td>0.000000</td>\n",
       "      <td>0.000000</td>\n",
       "      <td>0.000000</td>\n",
       "      <td>0.000000</td>\n",
       "      <td>0.000000</td>\n",
       "      <td>0.000000</td>\n",
       "      <td>0.000000</td>\n",
       "      <td>0.000000</td>\n",
       "      <td>0.000000</td>\n",
       "      <td>0.000000</td>\n",
       "      <td>0.000000</td>\n",
       "      <td>0.000000</td>\n",
       "      <td>0.000000</td>\n",
       "      <td>0.000000</td>\n",
       "      <td>0.000000</td>\n",
       "      <td>0.000000</td>\n",
       "      <td>13.000000</td>\n",
       "      <td>0.000000</td>\n",
       "      <td>1.000000</td>\n",
       "      <td>40.526135</td>\n",
       "      <td>72.203335</td>\n",
       "      <td>108.000000</td>\n",
       "      <td>2.0</td>\n",
       "      <td>3.0</td>\n",
       "      <td>0.000000</td>\n",
       "      <td>1.000000</td>\n",
       "      <td>1.000000</td>\n",
       "      <td>0.000000</td>\n",
       "      <td>0.000000</td>\n",
       "      <td>0.000000</td>\n",
       "      <td>1.0</td>\n",
       "      <td>0.000000</td>\n",
       "      <td>1960.000000</td>\n",
       "      <td>0.000000e+00</td>\n",
       "      <td>0.000000</td>\n",
       "    </tr>\n",
       "    <tr>\n",
       "      <th>25%</th>\n",
       "      <td>8.000000</td>\n",
       "      <td>2.000000</td>\n",
       "      <td>3.000000</td>\n",
       "      <td>3.0</td>\n",
       "      <td>9.000000</td>\n",
       "      <td>5.000000</td>\n",
       "      <td>4.000000</td>\n",
       "      <td>4.000000</td>\n",
       "      <td>8.000000</td>\n",
       "      <td>19.000000</td>\n",
       "      <td>44.000000</td>\n",
       "      <td>75.000000</td>\n",
       "      <td>90.000000</td>\n",
       "      <td>103.000000</td>\n",
       "      <td>114.000000</td>\n",
       "      <td>125.000000</td>\n",
       "      <td>132.000000</td>\n",
       "      <td>134.000000</td>\n",
       "      <td>145.000000</td>\n",
       "      <td>159.000000</td>\n",
       "      <td>161.000000</td>\n",
       "      <td>144.000000</td>\n",
       "      <td>106.000000</td>\n",
       "      <td>77.000000</td>\n",
       "      <td>59.000000</td>\n",
       "      <td>43.000000</td>\n",
       "      <td>28.000000</td>\n",
       "      <td>17.000000</td>\n",
       "      <td>13.000000</td>\n",
       "      <td>0.000000</td>\n",
       "      <td>29.000000</td>\n",
       "      <td>41.347144</td>\n",
       "      <td>73.789859</td>\n",
       "      <td>3577.000000</td>\n",
       "      <td>2.0</td>\n",
       "      <td>3.0</td>\n",
       "      <td>0.000000</td>\n",
       "      <td>2.000000</td>\n",
       "      <td>2.000000</td>\n",
       "      <td>0.000000</td>\n",
       "      <td>0.000000</td>\n",
       "      <td>1.000000</td>\n",
       "      <td>1.0</td>\n",
       "      <td>0.000000</td>\n",
       "      <td>1995.000000</td>\n",
       "      <td>2.018000e+03</td>\n",
       "      <td>13.000000</td>\n",
       "    </tr>\n",
       "    <tr>\n",
       "      <th>50%</th>\n",
       "      <td>16.000000</td>\n",
       "      <td>4.000000</td>\n",
       "      <td>6.000000</td>\n",
       "      <td>3.0</td>\n",
       "      <td>27.000000</td>\n",
       "      <td>15.000000</td>\n",
       "      <td>12.000000</td>\n",
       "      <td>12.000000</td>\n",
       "      <td>21.000000</td>\n",
       "      <td>52.000000</td>\n",
       "      <td>123.000000</td>\n",
       "      <td>204.000000</td>\n",
       "      <td>219.000000</td>\n",
       "      <td>230.000000</td>\n",
       "      <td>249.000000</td>\n",
       "      <td>276.000000</td>\n",
       "      <td>296.000000</td>\n",
       "      <td>296.000000</td>\n",
       "      <td>315.000000</td>\n",
       "      <td>349.000000</td>\n",
       "      <td>358.000000</td>\n",
       "      <td>334.000000</td>\n",
       "      <td>256.000000</td>\n",
       "      <td>193.000000</td>\n",
       "      <td>151.000000</td>\n",
       "      <td>115.000000</td>\n",
       "      <td>80.000000</td>\n",
       "      <td>51.000000</td>\n",
       "      <td>13.000000</td>\n",
       "      <td>0.000000</td>\n",
       "      <td>65.000000</td>\n",
       "      <td>42.447170</td>\n",
       "      <td>74.416180</td>\n",
       "      <td>13818.000000</td>\n",
       "      <td>2.0</td>\n",
       "      <td>3.0</td>\n",
       "      <td>3.000000</td>\n",
       "      <td>2.000000</td>\n",
       "      <td>2.000000</td>\n",
       "      <td>0.000000</td>\n",
       "      <td>1.000000</td>\n",
       "      <td>3.000000</td>\n",
       "      <td>1.0</td>\n",
       "      <td>1.000000</td>\n",
       "      <td>2001.000000</td>\n",
       "      <td>4.502000e+03</td>\n",
       "      <td>14.000000</td>\n",
       "    </tr>\n",
       "    <tr>\n",
       "      <th>75%</th>\n",
       "      <td>23.000000</td>\n",
       "      <td>6.000000</td>\n",
       "      <td>9.000000</td>\n",
       "      <td>3.0</td>\n",
       "      <td>81.000000</td>\n",
       "      <td>49.000000</td>\n",
       "      <td>37.000000</td>\n",
       "      <td>38.000000</td>\n",
       "      <td>63.000000</td>\n",
       "      <td>147.000000</td>\n",
       "      <td>323.000000</td>\n",
       "      <td>499.000000</td>\n",
       "      <td>511.000000</td>\n",
       "      <td>484.000000</td>\n",
       "      <td>500.000000</td>\n",
       "      <td>539.000000</td>\n",
       "      <td>571.000000</td>\n",
       "      <td>579.000000</td>\n",
       "      <td>616.000000</td>\n",
       "      <td>665.000000</td>\n",
       "      <td>684.000000</td>\n",
       "      <td>664.000000</td>\n",
       "      <td>547.000000</td>\n",
       "      <td>420.000000</td>\n",
       "      <td>335.000000</td>\n",
       "      <td>266.000000</td>\n",
       "      <td>198.000000</td>\n",
       "      <td>139.000000</td>\n",
       "      <td>13.000000</td>\n",
       "      <td>0.000000</td>\n",
       "      <td>89.000000</td>\n",
       "      <td>43.098199</td>\n",
       "      <td>76.832615</td>\n",
       "      <td>32804.000000</td>\n",
       "      <td>2.0</td>\n",
       "      <td>3.0</td>\n",
       "      <td>3.000000</td>\n",
       "      <td>3.000000</td>\n",
       "      <td>3.000000</td>\n",
       "      <td>0.000000</td>\n",
       "      <td>2.000000</td>\n",
       "      <td>3.000000</td>\n",
       "      <td>1.0</td>\n",
       "      <td>1.000000</td>\n",
       "      <td>2002.000000</td>\n",
       "      <td>9.433000e+03</td>\n",
       "      <td>20.000000</td>\n",
       "    </tr>\n",
       "    <tr>\n",
       "      <th>max</th>\n",
       "      <td>31.000000</td>\n",
       "      <td>7.000000</td>\n",
       "      <td>12.000000</td>\n",
       "      <td>3.0</td>\n",
       "      <td>74468.000000</td>\n",
       "      <td>80741.000000</td>\n",
       "      <td>77671.000000</td>\n",
       "      <td>78618.000000</td>\n",
       "      <td>70560.000000</td>\n",
       "      <td>78159.000000</td>\n",
       "      <td>76051.000000</td>\n",
       "      <td>75116.000000</td>\n",
       "      <td>71991.000000</td>\n",
       "      <td>74492.000000</td>\n",
       "      <td>74381.000000</td>\n",
       "      <td>63782.000000</td>\n",
       "      <td>75915.000000</td>\n",
       "      <td>72863.000000</td>\n",
       "      <td>75087.000000</td>\n",
       "      <td>76570.000000</td>\n",
       "      <td>74776.000000</td>\n",
       "      <td>76979.000000</td>\n",
       "      <td>76133.000000</td>\n",
       "      <td>78086.000000</td>\n",
       "      <td>69801.000000</td>\n",
       "      <td>77331.000000</td>\n",
       "      <td>78278.000000</td>\n",
       "      <td>66162.000000</td>\n",
       "      <td>15.000000</td>\n",
       "      <td>3.000000</td>\n",
       "      <td>123.000000</td>\n",
       "      <td>44.999666</td>\n",
       "      <td>79.758432</td>\n",
       "      <td>118068.000000</td>\n",
       "      <td>2.0</td>\n",
       "      <td>3.0</td>\n",
       "      <td>3.000000</td>\n",
       "      <td>5.000000</td>\n",
       "      <td>5.000000</td>\n",
       "      <td>4.000000</td>\n",
       "      <td>4.000000</td>\n",
       "      <td>9.000000</td>\n",
       "      <td>1.0</td>\n",
       "      <td>1.000000</td>\n",
       "      <td>2015.000000</td>\n",
       "      <td>1.522379e+06</td>\n",
       "      <td>55.000000</td>\n",
       "    </tr>\n",
       "  </tbody>\n",
       "</table>\n",
       "</div>"
      ],
      "text/plain": [
       "         day_of_data    day_of_week  month_of_data  record_type_x  traffic_volume_counted_after_0000_to_0100  traffic_volume_counted_after_0100_to_0200  traffic_volume_counted_after_0200_to_0300  traffic_volume_counted_after_0300_to_0400  traffic_volume_counted_after_0400_to_0500  traffic_volume_counted_after_0500_to_0600  traffic_volume_counted_after_0600_to_0700  traffic_volume_counted_after_0700_to_0800  traffic_volume_counted_after_0800_to_0900  traffic_volume_counted_after_0900_to_1000  traffic_volume_counted_after_1000_to_1100  traffic_volume_counted_after_1100_to_1200  traffic_volume_counted_after_1200_to_1300  traffic_volume_counted_after_1300_to_1400  traffic_volume_counted_after_1400_to_1500  traffic_volume_counted_after_1500_to_1600  traffic_volume_counted_after_1600_to_1700  traffic_volume_counted_after_1700_to_1800  traffic_volume_counted_after_1800_to_1900  traffic_volume_counted_after_1900_to_2000  traffic_volume_counted_after_2000_to_2100  \\\n",
       "count  247120.000000  247120.000000  247120.000000       247120.0                              247120.000000                              247120.000000                              247120.000000                              247120.000000                              247120.000000                              247120.000000                              247120.000000                              247120.000000                              247120.000000                              247120.000000                              247120.000000                              247120.000000                              247120.000000                              247120.000000                              247120.000000                              247120.000000                              247120.000000                              247120.000000                              247120.000000                              247120.000000                              247120.000000   \n",
       "mean       15.736492       4.025320       6.273689            3.0                                  95.959635                                  68.198106                                  55.443792                                  57.844784                                  81.623074                                 153.649907                                 279.197418                                 375.904726                                 377.207531                                 359.621131                                 370.340175                                 396.185926                                 417.040855                                 423.651530                                 449.952197                                 488.763831                                 509.104172                                 492.004601                                 408.740126                                 331.145557                                 276.395112   \n",
       "std         8.800760       1.998778       3.359880            0.0                                 716.281337                                 729.663125                                 689.431330                                 757.305878                                 744.685426                                 715.339658                                 747.289996                                 665.858965                                 613.582845                                 579.375130                                 543.890345                                 517.450102                                 542.603639                                 619.957995                                 632.069093                                 658.738313                                 685.606553                                 783.048879                                 763.558676                                 745.119509                                 720.088445   \n",
       "min         1.000000       1.000000       1.000000            3.0                                   0.000000                                   0.000000                                   0.000000                                   0.000000                                   0.000000                                   0.000000                                   0.000000                                   0.000000                                   0.000000                                   0.000000                                   0.000000                                   0.000000                                   0.000000                                   0.000000                                   0.000000                                   0.000000                                   0.000000                                   0.000000                                   0.000000                                   0.000000                                   0.000000   \n",
       "25%         8.000000       2.000000       3.000000            3.0                                   9.000000                                   5.000000                                   4.000000                                   4.000000                                   8.000000                                  19.000000                                  44.000000                                  75.000000                                  90.000000                                 103.000000                                 114.000000                                 125.000000                                 132.000000                                 134.000000                                 145.000000                                 159.000000                                 161.000000                                 144.000000                                 106.000000                                  77.000000                                  59.000000   \n",
       "50%        16.000000       4.000000       6.000000            3.0                                  27.000000                                  15.000000                                  12.000000                                  12.000000                                  21.000000                                  52.000000                                 123.000000                                 204.000000                                 219.000000                                 230.000000                                 249.000000                                 276.000000                                 296.000000                                 296.000000                                 315.000000                                 349.000000                                 358.000000                                 334.000000                                 256.000000                                 193.000000                                 151.000000   \n",
       "75%        23.000000       6.000000       9.000000            3.0                                  81.000000                                  49.000000                                  37.000000                                  38.000000                                  63.000000                                 147.000000                                 323.000000                                 499.000000                                 511.000000                                 484.000000                                 500.000000                                 539.000000                                 571.000000                                 579.000000                                 616.000000                                 665.000000                                 684.000000                                 664.000000                                 547.000000                                 420.000000                                 335.000000   \n",
       "max        31.000000       7.000000      12.000000            3.0                               74468.000000                               80741.000000                               77671.000000                               78618.000000                               70560.000000                               78159.000000                               76051.000000                               75116.000000                               71991.000000                               74492.000000                               74381.000000                               63782.000000                               75915.000000                               72863.000000                               75087.000000                               76570.000000                               74776.000000                               76979.000000                               76133.000000                               78086.000000                               69801.000000   \n",
       "\n",
       "       traffic_volume_counted_after_2100_to_2200  traffic_volume_counted_after_2200_to_2300  traffic_volume_counted_after_2300_to_2400  classification_system_for_vehicle_classification  concurrent_route_signing  fips_county_code       latitude      longitude  lrs_location_point  method_of_data_retrieval  method_of_traffic_volume_counting  method_of_vehicle_classification  number_of_lanes_in_direction_indicated  number_of_lanes_monitored_for_traffic_volume  number_of_lanes_monitored_for_truck_weight  number_of_lanes_monitored_for_vehicle_class  posted_route_signing  sample_type_for_traffic_volume  sample_type_for_vehicle_classification  year_station_established  total_volume  year_of_service  \n",
       "count                              247120.000000                              247120.000000                              247120.000000                                     247120.000000             247120.000000     247120.000000  247120.000000  247120.000000       247120.000000                  247120.0                           247120.0                     247120.000000                           247120.000000                                 247120.000000                               247120.000000                                247120.000000         247120.000000                        247120.0                           247120.000000             247120.000000  2.471200e+05    247120.000000  \n",
       "mean                                  232.251602                                 186.333263                                 141.674332                                         13.210416                  0.285177         60.697212      42.318690      75.313826        21029.347422                       2.0                                3.0                          1.751963                                2.192473                                      2.192473                                    0.394262                                     1.225336              2.517303                             1.0                                0.583988               1993.834732  7.028233e+03        21.165268  \n",
       "std                                   733.671261                                 719.118930                                 691.307991                                          0.613644                  0.855264         34.033523       1.154043       1.828178        21626.098901                       0.0                                0.0                          1.478690                                0.925752                                      0.925752                                    0.907341                                     1.237709              1.634108                             0.0                                0.492897                 15.569824  1.309632e+04        15.569824  \n",
       "min                                     0.000000                                   0.000000                                   0.000000                                         13.000000                  0.000000          1.000000      40.526135      72.203335          108.000000                       2.0                                3.0                          0.000000                                1.000000                                      1.000000                                    0.000000                                     0.000000              0.000000                             1.0                                0.000000               1960.000000  0.000000e+00         0.000000  \n",
       "25%                                    43.000000                                  28.000000                                  17.000000                                         13.000000                  0.000000         29.000000      41.347144      73.789859         3577.000000                       2.0                                3.0                          0.000000                                2.000000                                      2.000000                                    0.000000                                     0.000000              1.000000                             1.0                                0.000000               1995.000000  2.018000e+03        13.000000  \n",
       "50%                                   115.000000                                  80.000000                                  51.000000                                         13.000000                  0.000000         65.000000      42.447170      74.416180        13818.000000                       2.0                                3.0                          3.000000                                2.000000                                      2.000000                                    0.000000                                     1.000000              3.000000                             1.0                                1.000000               2001.000000  4.502000e+03        14.000000  \n",
       "75%                                   266.000000                                 198.000000                                 139.000000                                         13.000000                  0.000000         89.000000      43.098199      76.832615        32804.000000                       2.0                                3.0                          3.000000                                3.000000                                      3.000000                                    0.000000                                     2.000000              3.000000                             1.0                                1.000000               2002.000000  9.433000e+03        20.000000  \n",
       "max                                 77331.000000                               78278.000000                               66162.000000                                         15.000000                  3.000000        123.000000      44.999666      79.758432       118068.000000                       2.0                                3.0                          3.000000                                5.000000                                      5.000000                                    4.000000                                     4.000000              9.000000                             1.0                                1.000000               2015.000000  1.522379e+06        55.000000  "
      ]
     },
     "execution_count": 45,
     "metadata": {},
     "output_type": "execute_result"
    }
   ],
   "source": [
    "combined_df.describe()"
   ]
  },
  {
   "cell_type": "code",
   "execution_count": 46,
   "id": "8a31689a",
   "metadata": {},
   "outputs": [
    {
     "data": {
      "text/plain": [
       "array([2], dtype=int64)"
      ]
     },
     "execution_count": 46,
     "metadata": {},
     "output_type": "execute_result"
    }
   ],
   "source": [
    "combined_df[\"method_of_data_retrieval\"].unique()"
   ]
  },
  {
   "cell_type": "code",
   "execution_count": 47,
   "id": "c48e5ea7",
   "metadata": {},
   "outputs": [
    {
     "data": {
      "text/plain": [
       "array([3], dtype=int64)"
      ]
     },
     "execution_count": 47,
     "metadata": {},
     "output_type": "execute_result"
    }
   ],
   "source": [
    "combined_df[\"method_of_traffic_volume_counting\"].unique()"
   ]
  },
  {
   "cell_type": "markdown",
   "id": "cd66ed0a",
   "metadata": {},
   "source": [
    "Based on a simple describe function, we can already tell there's some columns that should not be used such as method_of_data_retrieval, method_of_traffic_volume_counting as they only have unique value which will be relatively useless in helping our prediction. Will be removing these features"
   ]
  },
  {
   "cell_type": "code",
   "execution_count": 48,
   "id": "a8f8ed5b",
   "metadata": {},
   "outputs": [],
   "source": [
    "for column in combined_df.columns:\n",
    "    if len(combined_df[column].unique()) == 1:\n",
    "        combined_df.drop(column, inplace=True, axis=1)"
   ]
  },
  {
   "cell_type": "code",
   "execution_count": 49,
   "id": "94722b02",
   "metadata": {},
   "outputs": [
    {
     "data": {
      "text/html": [
       "<div>\n",
       "<style scoped>\n",
       "    .dataframe tbody tr th:only-of-type {\n",
       "        vertical-align: middle;\n",
       "    }\n",
       "\n",
       "    .dataframe tbody tr th {\n",
       "        vertical-align: top;\n",
       "    }\n",
       "\n",
       "    .dataframe thead th {\n",
       "        text-align: right;\n",
       "    }\n",
       "</style>\n",
       "<table border=\"1\" class=\"dataframe\">\n",
       "  <thead>\n",
       "    <tr style=\"text-align: right;\">\n",
       "      <th></th>\n",
       "      <th>day_of_data</th>\n",
       "      <th>day_of_week</th>\n",
       "      <th>month_of_data</th>\n",
       "      <th>traffic_volume_counted_after_0000_to_0100</th>\n",
       "      <th>traffic_volume_counted_after_0100_to_0200</th>\n",
       "      <th>traffic_volume_counted_after_0200_to_0300</th>\n",
       "      <th>traffic_volume_counted_after_0300_to_0400</th>\n",
       "      <th>traffic_volume_counted_after_0400_to_0500</th>\n",
       "      <th>traffic_volume_counted_after_0500_to_0600</th>\n",
       "      <th>traffic_volume_counted_after_0600_to_0700</th>\n",
       "      <th>traffic_volume_counted_after_0700_to_0800</th>\n",
       "      <th>traffic_volume_counted_after_0800_to_0900</th>\n",
       "      <th>traffic_volume_counted_after_0900_to_1000</th>\n",
       "      <th>traffic_volume_counted_after_1000_to_1100</th>\n",
       "      <th>traffic_volume_counted_after_1100_to_1200</th>\n",
       "      <th>traffic_volume_counted_after_1200_to_1300</th>\n",
       "      <th>traffic_volume_counted_after_1300_to_1400</th>\n",
       "      <th>traffic_volume_counted_after_1400_to_1500</th>\n",
       "      <th>traffic_volume_counted_after_1500_to_1600</th>\n",
       "      <th>traffic_volume_counted_after_1600_to_1700</th>\n",
       "      <th>traffic_volume_counted_after_1700_to_1800</th>\n",
       "      <th>traffic_volume_counted_after_1800_to_1900</th>\n",
       "      <th>traffic_volume_counted_after_1900_to_2000</th>\n",
       "      <th>traffic_volume_counted_after_2000_to_2100</th>\n",
       "      <th>traffic_volume_counted_after_2100_to_2200</th>\n",
       "      <th>traffic_volume_counted_after_2200_to_2300</th>\n",
       "      <th>traffic_volume_counted_after_2300_to_2400</th>\n",
       "      <th>classification_system_for_vehicle_classification</th>\n",
       "      <th>concurrent_route_signing</th>\n",
       "      <th>fips_county_code</th>\n",
       "      <th>latitude</th>\n",
       "      <th>longitude</th>\n",
       "      <th>lrs_location_point</th>\n",
       "      <th>method_of_vehicle_classification</th>\n",
       "      <th>number_of_lanes_in_direction_indicated</th>\n",
       "      <th>number_of_lanes_monitored_for_traffic_volume</th>\n",
       "      <th>number_of_lanes_monitored_for_truck_weight</th>\n",
       "      <th>number_of_lanes_monitored_for_vehicle_class</th>\n",
       "      <th>posted_route_signing</th>\n",
       "      <th>sample_type_for_vehicle_classification</th>\n",
       "      <th>year_station_established</th>\n",
       "      <th>total_volume</th>\n",
       "      <th>year_of_service</th>\n",
       "    </tr>\n",
       "  </thead>\n",
       "  <tbody>\n",
       "    <tr>\n",
       "      <th>count</th>\n",
       "      <td>247120.000000</td>\n",
       "      <td>247120.000000</td>\n",
       "      <td>247120.000000</td>\n",
       "      <td>247120.000000</td>\n",
       "      <td>247120.000000</td>\n",
       "      <td>247120.000000</td>\n",
       "      <td>247120.000000</td>\n",
       "      <td>247120.000000</td>\n",
       "      <td>247120.000000</td>\n",
       "      <td>247120.000000</td>\n",
       "      <td>247120.000000</td>\n",
       "      <td>247120.000000</td>\n",
       "      <td>247120.000000</td>\n",
       "      <td>247120.000000</td>\n",
       "      <td>247120.000000</td>\n",
       "      <td>247120.000000</td>\n",
       "      <td>247120.000000</td>\n",
       "      <td>247120.000000</td>\n",
       "      <td>247120.000000</td>\n",
       "      <td>247120.000000</td>\n",
       "      <td>247120.000000</td>\n",
       "      <td>247120.000000</td>\n",
       "      <td>247120.000000</td>\n",
       "      <td>247120.000000</td>\n",
       "      <td>247120.000000</td>\n",
       "      <td>247120.000000</td>\n",
       "      <td>247120.000000</td>\n",
       "      <td>247120.000000</td>\n",
       "      <td>247120.000000</td>\n",
       "      <td>247120.000000</td>\n",
       "      <td>247120.000000</td>\n",
       "      <td>247120.000000</td>\n",
       "      <td>247120.000000</td>\n",
       "      <td>247120.000000</td>\n",
       "      <td>247120.000000</td>\n",
       "      <td>247120.000000</td>\n",
       "      <td>247120.000000</td>\n",
       "      <td>247120.000000</td>\n",
       "      <td>247120.000000</td>\n",
       "      <td>247120.000000</td>\n",
       "      <td>247120.000000</td>\n",
       "      <td>2.471200e+05</td>\n",
       "      <td>247120.000000</td>\n",
       "    </tr>\n",
       "    <tr>\n",
       "      <th>mean</th>\n",
       "      <td>15.736492</td>\n",
       "      <td>4.025320</td>\n",
       "      <td>6.273689</td>\n",
       "      <td>95.959635</td>\n",
       "      <td>68.198106</td>\n",
       "      <td>55.443792</td>\n",
       "      <td>57.844784</td>\n",
       "      <td>81.623074</td>\n",
       "      <td>153.649907</td>\n",
       "      <td>279.197418</td>\n",
       "      <td>375.904726</td>\n",
       "      <td>377.207531</td>\n",
       "      <td>359.621131</td>\n",
       "      <td>370.340175</td>\n",
       "      <td>396.185926</td>\n",
       "      <td>417.040855</td>\n",
       "      <td>423.651530</td>\n",
       "      <td>449.952197</td>\n",
       "      <td>488.763831</td>\n",
       "      <td>509.104172</td>\n",
       "      <td>492.004601</td>\n",
       "      <td>408.740126</td>\n",
       "      <td>331.145557</td>\n",
       "      <td>276.395112</td>\n",
       "      <td>232.251602</td>\n",
       "      <td>186.333263</td>\n",
       "      <td>141.674332</td>\n",
       "      <td>13.210416</td>\n",
       "      <td>0.285177</td>\n",
       "      <td>60.697212</td>\n",
       "      <td>42.318690</td>\n",
       "      <td>75.313826</td>\n",
       "      <td>21029.347422</td>\n",
       "      <td>1.751963</td>\n",
       "      <td>2.192473</td>\n",
       "      <td>2.192473</td>\n",
       "      <td>0.394262</td>\n",
       "      <td>1.225336</td>\n",
       "      <td>2.517303</td>\n",
       "      <td>0.583988</td>\n",
       "      <td>1993.834732</td>\n",
       "      <td>7.028233e+03</td>\n",
       "      <td>21.165268</td>\n",
       "    </tr>\n",
       "    <tr>\n",
       "      <th>std</th>\n",
       "      <td>8.800760</td>\n",
       "      <td>1.998778</td>\n",
       "      <td>3.359880</td>\n",
       "      <td>716.281337</td>\n",
       "      <td>729.663125</td>\n",
       "      <td>689.431330</td>\n",
       "      <td>757.305878</td>\n",
       "      <td>744.685426</td>\n",
       "      <td>715.339658</td>\n",
       "      <td>747.289996</td>\n",
       "      <td>665.858965</td>\n",
       "      <td>613.582845</td>\n",
       "      <td>579.375130</td>\n",
       "      <td>543.890345</td>\n",
       "      <td>517.450102</td>\n",
       "      <td>542.603639</td>\n",
       "      <td>619.957995</td>\n",
       "      <td>632.069093</td>\n",
       "      <td>658.738313</td>\n",
       "      <td>685.606553</td>\n",
       "      <td>783.048879</td>\n",
       "      <td>763.558676</td>\n",
       "      <td>745.119509</td>\n",
       "      <td>720.088445</td>\n",
       "      <td>733.671261</td>\n",
       "      <td>719.118930</td>\n",
       "      <td>691.307991</td>\n",
       "      <td>0.613644</td>\n",
       "      <td>0.855264</td>\n",
       "      <td>34.033523</td>\n",
       "      <td>1.154043</td>\n",
       "      <td>1.828178</td>\n",
       "      <td>21626.098901</td>\n",
       "      <td>1.478690</td>\n",
       "      <td>0.925752</td>\n",
       "      <td>0.925752</td>\n",
       "      <td>0.907341</td>\n",
       "      <td>1.237709</td>\n",
       "      <td>1.634108</td>\n",
       "      <td>0.492897</td>\n",
       "      <td>15.569824</td>\n",
       "      <td>1.309632e+04</td>\n",
       "      <td>15.569824</td>\n",
       "    </tr>\n",
       "    <tr>\n",
       "      <th>min</th>\n",
       "      <td>1.000000</td>\n",
       "      <td>1.000000</td>\n",
       "      <td>1.000000</td>\n",
       "      <td>0.000000</td>\n",
       "      <td>0.000000</td>\n",
       "      <td>0.000000</td>\n",
       "      <td>0.000000</td>\n",
       "      <td>0.000000</td>\n",
       "      <td>0.000000</td>\n",
       "      <td>0.000000</td>\n",
       "      <td>0.000000</td>\n",
       "      <td>0.000000</td>\n",
       "      <td>0.000000</td>\n",
       "      <td>0.000000</td>\n",
       "      <td>0.000000</td>\n",
       "      <td>0.000000</td>\n",
       "      <td>0.000000</td>\n",
       "      <td>0.000000</td>\n",
       "      <td>0.000000</td>\n",
       "      <td>0.000000</td>\n",
       "      <td>0.000000</td>\n",
       "      <td>0.000000</td>\n",
       "      <td>0.000000</td>\n",
       "      <td>0.000000</td>\n",
       "      <td>0.000000</td>\n",
       "      <td>0.000000</td>\n",
       "      <td>0.000000</td>\n",
       "      <td>13.000000</td>\n",
       "      <td>0.000000</td>\n",
       "      <td>1.000000</td>\n",
       "      <td>40.526135</td>\n",
       "      <td>72.203335</td>\n",
       "      <td>108.000000</td>\n",
       "      <td>0.000000</td>\n",
       "      <td>1.000000</td>\n",
       "      <td>1.000000</td>\n",
       "      <td>0.000000</td>\n",
       "      <td>0.000000</td>\n",
       "      <td>0.000000</td>\n",
       "      <td>0.000000</td>\n",
       "      <td>1960.000000</td>\n",
       "      <td>0.000000e+00</td>\n",
       "      <td>0.000000</td>\n",
       "    </tr>\n",
       "    <tr>\n",
       "      <th>25%</th>\n",
       "      <td>8.000000</td>\n",
       "      <td>2.000000</td>\n",
       "      <td>3.000000</td>\n",
       "      <td>9.000000</td>\n",
       "      <td>5.000000</td>\n",
       "      <td>4.000000</td>\n",
       "      <td>4.000000</td>\n",
       "      <td>8.000000</td>\n",
       "      <td>19.000000</td>\n",
       "      <td>44.000000</td>\n",
       "      <td>75.000000</td>\n",
       "      <td>90.000000</td>\n",
       "      <td>103.000000</td>\n",
       "      <td>114.000000</td>\n",
       "      <td>125.000000</td>\n",
       "      <td>132.000000</td>\n",
       "      <td>134.000000</td>\n",
       "      <td>145.000000</td>\n",
       "      <td>159.000000</td>\n",
       "      <td>161.000000</td>\n",
       "      <td>144.000000</td>\n",
       "      <td>106.000000</td>\n",
       "      <td>77.000000</td>\n",
       "      <td>59.000000</td>\n",
       "      <td>43.000000</td>\n",
       "      <td>28.000000</td>\n",
       "      <td>17.000000</td>\n",
       "      <td>13.000000</td>\n",
       "      <td>0.000000</td>\n",
       "      <td>29.000000</td>\n",
       "      <td>41.347144</td>\n",
       "      <td>73.789859</td>\n",
       "      <td>3577.000000</td>\n",
       "      <td>0.000000</td>\n",
       "      <td>2.000000</td>\n",
       "      <td>2.000000</td>\n",
       "      <td>0.000000</td>\n",
       "      <td>0.000000</td>\n",
       "      <td>1.000000</td>\n",
       "      <td>0.000000</td>\n",
       "      <td>1995.000000</td>\n",
       "      <td>2.018000e+03</td>\n",
       "      <td>13.000000</td>\n",
       "    </tr>\n",
       "    <tr>\n",
       "      <th>50%</th>\n",
       "      <td>16.000000</td>\n",
       "      <td>4.000000</td>\n",
       "      <td>6.000000</td>\n",
       "      <td>27.000000</td>\n",
       "      <td>15.000000</td>\n",
       "      <td>12.000000</td>\n",
       "      <td>12.000000</td>\n",
       "      <td>21.000000</td>\n",
       "      <td>52.000000</td>\n",
       "      <td>123.000000</td>\n",
       "      <td>204.000000</td>\n",
       "      <td>219.000000</td>\n",
       "      <td>230.000000</td>\n",
       "      <td>249.000000</td>\n",
       "      <td>276.000000</td>\n",
       "      <td>296.000000</td>\n",
       "      <td>296.000000</td>\n",
       "      <td>315.000000</td>\n",
       "      <td>349.000000</td>\n",
       "      <td>358.000000</td>\n",
       "      <td>334.000000</td>\n",
       "      <td>256.000000</td>\n",
       "      <td>193.000000</td>\n",
       "      <td>151.000000</td>\n",
       "      <td>115.000000</td>\n",
       "      <td>80.000000</td>\n",
       "      <td>51.000000</td>\n",
       "      <td>13.000000</td>\n",
       "      <td>0.000000</td>\n",
       "      <td>65.000000</td>\n",
       "      <td>42.447170</td>\n",
       "      <td>74.416180</td>\n",
       "      <td>13818.000000</td>\n",
       "      <td>3.000000</td>\n",
       "      <td>2.000000</td>\n",
       "      <td>2.000000</td>\n",
       "      <td>0.000000</td>\n",
       "      <td>1.000000</td>\n",
       "      <td>3.000000</td>\n",
       "      <td>1.000000</td>\n",
       "      <td>2001.000000</td>\n",
       "      <td>4.502000e+03</td>\n",
       "      <td>14.000000</td>\n",
       "    </tr>\n",
       "    <tr>\n",
       "      <th>75%</th>\n",
       "      <td>23.000000</td>\n",
       "      <td>6.000000</td>\n",
       "      <td>9.000000</td>\n",
       "      <td>81.000000</td>\n",
       "      <td>49.000000</td>\n",
       "      <td>37.000000</td>\n",
       "      <td>38.000000</td>\n",
       "      <td>63.000000</td>\n",
       "      <td>147.000000</td>\n",
       "      <td>323.000000</td>\n",
       "      <td>499.000000</td>\n",
       "      <td>511.000000</td>\n",
       "      <td>484.000000</td>\n",
       "      <td>500.000000</td>\n",
       "      <td>539.000000</td>\n",
       "      <td>571.000000</td>\n",
       "      <td>579.000000</td>\n",
       "      <td>616.000000</td>\n",
       "      <td>665.000000</td>\n",
       "      <td>684.000000</td>\n",
       "      <td>664.000000</td>\n",
       "      <td>547.000000</td>\n",
       "      <td>420.000000</td>\n",
       "      <td>335.000000</td>\n",
       "      <td>266.000000</td>\n",
       "      <td>198.000000</td>\n",
       "      <td>139.000000</td>\n",
       "      <td>13.000000</td>\n",
       "      <td>0.000000</td>\n",
       "      <td>89.000000</td>\n",
       "      <td>43.098199</td>\n",
       "      <td>76.832615</td>\n",
       "      <td>32804.000000</td>\n",
       "      <td>3.000000</td>\n",
       "      <td>3.000000</td>\n",
       "      <td>3.000000</td>\n",
       "      <td>0.000000</td>\n",
       "      <td>2.000000</td>\n",
       "      <td>3.000000</td>\n",
       "      <td>1.000000</td>\n",
       "      <td>2002.000000</td>\n",
       "      <td>9.433000e+03</td>\n",
       "      <td>20.000000</td>\n",
       "    </tr>\n",
       "    <tr>\n",
       "      <th>max</th>\n",
       "      <td>31.000000</td>\n",
       "      <td>7.000000</td>\n",
       "      <td>12.000000</td>\n",
       "      <td>74468.000000</td>\n",
       "      <td>80741.000000</td>\n",
       "      <td>77671.000000</td>\n",
       "      <td>78618.000000</td>\n",
       "      <td>70560.000000</td>\n",
       "      <td>78159.000000</td>\n",
       "      <td>76051.000000</td>\n",
       "      <td>75116.000000</td>\n",
       "      <td>71991.000000</td>\n",
       "      <td>74492.000000</td>\n",
       "      <td>74381.000000</td>\n",
       "      <td>63782.000000</td>\n",
       "      <td>75915.000000</td>\n",
       "      <td>72863.000000</td>\n",
       "      <td>75087.000000</td>\n",
       "      <td>76570.000000</td>\n",
       "      <td>74776.000000</td>\n",
       "      <td>76979.000000</td>\n",
       "      <td>76133.000000</td>\n",
       "      <td>78086.000000</td>\n",
       "      <td>69801.000000</td>\n",
       "      <td>77331.000000</td>\n",
       "      <td>78278.000000</td>\n",
       "      <td>66162.000000</td>\n",
       "      <td>15.000000</td>\n",
       "      <td>3.000000</td>\n",
       "      <td>123.000000</td>\n",
       "      <td>44.999666</td>\n",
       "      <td>79.758432</td>\n",
       "      <td>118068.000000</td>\n",
       "      <td>3.000000</td>\n",
       "      <td>5.000000</td>\n",
       "      <td>5.000000</td>\n",
       "      <td>4.000000</td>\n",
       "      <td>4.000000</td>\n",
       "      <td>9.000000</td>\n",
       "      <td>1.000000</td>\n",
       "      <td>2015.000000</td>\n",
       "      <td>1.522379e+06</td>\n",
       "      <td>55.000000</td>\n",
       "    </tr>\n",
       "  </tbody>\n",
       "</table>\n",
       "</div>"
      ],
      "text/plain": [
       "         day_of_data    day_of_week  month_of_data  traffic_volume_counted_after_0000_to_0100  traffic_volume_counted_after_0100_to_0200  traffic_volume_counted_after_0200_to_0300  traffic_volume_counted_after_0300_to_0400  traffic_volume_counted_after_0400_to_0500  traffic_volume_counted_after_0500_to_0600  traffic_volume_counted_after_0600_to_0700  traffic_volume_counted_after_0700_to_0800  traffic_volume_counted_after_0800_to_0900  traffic_volume_counted_after_0900_to_1000  traffic_volume_counted_after_1000_to_1100  traffic_volume_counted_after_1100_to_1200  traffic_volume_counted_after_1200_to_1300  traffic_volume_counted_after_1300_to_1400  traffic_volume_counted_after_1400_to_1500  traffic_volume_counted_after_1500_to_1600  traffic_volume_counted_after_1600_to_1700  traffic_volume_counted_after_1700_to_1800  traffic_volume_counted_after_1800_to_1900  traffic_volume_counted_after_1900_to_2000  traffic_volume_counted_after_2000_to_2100  traffic_volume_counted_after_2100_to_2200  \\\n",
       "count  247120.000000  247120.000000  247120.000000                              247120.000000                              247120.000000                              247120.000000                              247120.000000                              247120.000000                              247120.000000                              247120.000000                              247120.000000                              247120.000000                              247120.000000                              247120.000000                              247120.000000                              247120.000000                              247120.000000                              247120.000000                              247120.000000                              247120.000000                              247120.000000                              247120.000000                              247120.000000                              247120.000000                              247120.000000   \n",
       "mean       15.736492       4.025320       6.273689                                  95.959635                                  68.198106                                  55.443792                                  57.844784                                  81.623074                                 153.649907                                 279.197418                                 375.904726                                 377.207531                                 359.621131                                 370.340175                                 396.185926                                 417.040855                                 423.651530                                 449.952197                                 488.763831                                 509.104172                                 492.004601                                 408.740126                                 331.145557                                 276.395112                                 232.251602   \n",
       "std         8.800760       1.998778       3.359880                                 716.281337                                 729.663125                                 689.431330                                 757.305878                                 744.685426                                 715.339658                                 747.289996                                 665.858965                                 613.582845                                 579.375130                                 543.890345                                 517.450102                                 542.603639                                 619.957995                                 632.069093                                 658.738313                                 685.606553                                 783.048879                                 763.558676                                 745.119509                                 720.088445                                 733.671261   \n",
       "min         1.000000       1.000000       1.000000                                   0.000000                                   0.000000                                   0.000000                                   0.000000                                   0.000000                                   0.000000                                   0.000000                                   0.000000                                   0.000000                                   0.000000                                   0.000000                                   0.000000                                   0.000000                                   0.000000                                   0.000000                                   0.000000                                   0.000000                                   0.000000                                   0.000000                                   0.000000                                   0.000000                                   0.000000   \n",
       "25%         8.000000       2.000000       3.000000                                   9.000000                                   5.000000                                   4.000000                                   4.000000                                   8.000000                                  19.000000                                  44.000000                                  75.000000                                  90.000000                                 103.000000                                 114.000000                                 125.000000                                 132.000000                                 134.000000                                 145.000000                                 159.000000                                 161.000000                                 144.000000                                 106.000000                                  77.000000                                  59.000000                                  43.000000   \n",
       "50%        16.000000       4.000000       6.000000                                  27.000000                                  15.000000                                  12.000000                                  12.000000                                  21.000000                                  52.000000                                 123.000000                                 204.000000                                 219.000000                                 230.000000                                 249.000000                                 276.000000                                 296.000000                                 296.000000                                 315.000000                                 349.000000                                 358.000000                                 334.000000                                 256.000000                                 193.000000                                 151.000000                                 115.000000   \n",
       "75%        23.000000       6.000000       9.000000                                  81.000000                                  49.000000                                  37.000000                                  38.000000                                  63.000000                                 147.000000                                 323.000000                                 499.000000                                 511.000000                                 484.000000                                 500.000000                                 539.000000                                 571.000000                                 579.000000                                 616.000000                                 665.000000                                 684.000000                                 664.000000                                 547.000000                                 420.000000                                 335.000000                                 266.000000   \n",
       "max        31.000000       7.000000      12.000000                               74468.000000                               80741.000000                               77671.000000                               78618.000000                               70560.000000                               78159.000000                               76051.000000                               75116.000000                               71991.000000                               74492.000000                               74381.000000                               63782.000000                               75915.000000                               72863.000000                               75087.000000                               76570.000000                               74776.000000                               76979.000000                               76133.000000                               78086.000000                               69801.000000                               77331.000000   \n",
       "\n",
       "       traffic_volume_counted_after_2200_to_2300  traffic_volume_counted_after_2300_to_2400  classification_system_for_vehicle_classification  concurrent_route_signing  fips_county_code       latitude      longitude  lrs_location_point  method_of_vehicle_classification  number_of_lanes_in_direction_indicated  number_of_lanes_monitored_for_traffic_volume  number_of_lanes_monitored_for_truck_weight  number_of_lanes_monitored_for_vehicle_class  posted_route_signing  sample_type_for_vehicle_classification  year_station_established  total_volume  year_of_service  \n",
       "count                              247120.000000                              247120.000000                                     247120.000000             247120.000000     247120.000000  247120.000000  247120.000000       247120.000000                     247120.000000                           247120.000000                                 247120.000000                               247120.000000                                247120.000000         247120.000000                           247120.000000             247120.000000  2.471200e+05    247120.000000  \n",
       "mean                                  186.333263                                 141.674332                                         13.210416                  0.285177         60.697212      42.318690      75.313826        21029.347422                          1.751963                                2.192473                                      2.192473                                    0.394262                                     1.225336              2.517303                                0.583988               1993.834732  7.028233e+03        21.165268  \n",
       "std                                   719.118930                                 691.307991                                          0.613644                  0.855264         34.033523       1.154043       1.828178        21626.098901                          1.478690                                0.925752                                      0.925752                                    0.907341                                     1.237709              1.634108                                0.492897                 15.569824  1.309632e+04        15.569824  \n",
       "min                                     0.000000                                   0.000000                                         13.000000                  0.000000          1.000000      40.526135      72.203335          108.000000                          0.000000                                1.000000                                      1.000000                                    0.000000                                     0.000000              0.000000                                0.000000               1960.000000  0.000000e+00         0.000000  \n",
       "25%                                    28.000000                                  17.000000                                         13.000000                  0.000000         29.000000      41.347144      73.789859         3577.000000                          0.000000                                2.000000                                      2.000000                                    0.000000                                     0.000000              1.000000                                0.000000               1995.000000  2.018000e+03        13.000000  \n",
       "50%                                    80.000000                                  51.000000                                         13.000000                  0.000000         65.000000      42.447170      74.416180        13818.000000                          3.000000                                2.000000                                      2.000000                                    0.000000                                     1.000000              3.000000                                1.000000               2001.000000  4.502000e+03        14.000000  \n",
       "75%                                   198.000000                                 139.000000                                         13.000000                  0.000000         89.000000      43.098199      76.832615        32804.000000                          3.000000                                3.000000                                      3.000000                                    0.000000                                     2.000000              3.000000                                1.000000               2002.000000  9.433000e+03        20.000000  \n",
       "max                                 78278.000000                               66162.000000                                         15.000000                  3.000000        123.000000      44.999666      79.758432       118068.000000                          3.000000                                5.000000                                      5.000000                                    4.000000                                     4.000000              9.000000                                1.000000               2015.000000  1.522379e+06        55.000000  "
      ]
     },
     "execution_count": 49,
     "metadata": {},
     "output_type": "execute_result"
    }
   ],
   "source": [
    "combined_df.describe()"
   ]
  },
  {
   "cell_type": "markdown",
   "id": "683908d2",
   "metadata": {},
   "source": [
    "It will be nice to have a total_volume for a particular day for EDA on a daily level"
   ]
  },
  {
   "cell_type": "code",
   "execution_count": 9,
   "id": "6799030c",
   "metadata": {},
   "outputs": [],
   "source": [
    "combined_df = create_max_volume_column(combined_df)"
   ]
  },
  {
   "cell_type": "code",
   "execution_count": 10,
   "id": "e04cbef6",
   "metadata": {},
   "outputs": [],
   "source": [
    "combined_df.drop(\"shrp_site_identification\", inplace=True, axis=1)"
   ]
  },
  {
   "cell_type": "markdown",
   "id": "04d8740e",
   "metadata": {},
   "source": [
    "Lets check the common columns to make sure they agree with each other as a sanity check"
   ]
  },
  {
   "cell_type": "markdown",
   "id": "c6661585",
   "metadata": {},
   "source": [
    "Based on the basic info here, we will address missing values, and also what columns to keep for modelling before we move on to feature engineering and preprocessing the data to be used for modelling.\n",
    "\n",
    "Based on the information above, we will definitely drop the shrp_site_identification column as it has 0 (!) non-null values and there's literally nothing for us to work with.\n",
    "\n",
    "We will also do some sanity check to ensure we merged correctly ie. the number of rows for traffic_df should be exactly the same as combined_df."
   ]
  },
  {
   "cell_type": "code",
   "execution_count": 11,
   "id": "c4647580",
   "metadata": {},
   "outputs": [
    {
     "data": {
      "text/plain": [
       "True"
      ]
     },
     "execution_count": 11,
     "metadata": {},
     "output_type": "execute_result"
    }
   ],
   "source": [
    "len(combined_df) == len(traffic_df)"
   ]
  },
  {
   "cell_type": "markdown",
   "id": "33b814ac",
   "metadata": {},
   "source": [
    "### year_of_station_established"
   ]
  },
  {
   "cell_type": "markdown",
   "id": "8526887e",
   "metadata": {},
   "source": [
    "For easier sorting of the data, we will change the year_station_established column to int and also convert them to its full form. ie. 98 -> 1998, 0 -> 2001. We will assume that any number greater 15 is from the 1900s and any number between 0 and 15 is from the 2000s since the dataset is from 2015"
   ]
  },
  {
   "cell_type": "code",
   "execution_count": 12,
   "id": "ba82fc9f",
   "metadata": {},
   "outputs": [],
   "source": [
    "combined_df = convert_established_year_to_int(combined_df)"
   ]
  },
  {
   "cell_type": "code",
   "execution_count": 13,
   "id": "9771bfed",
   "metadata": {},
   "outputs": [
    {
     "data": {
      "text/plain": [
       "0         2001\n",
       "1         2001\n",
       "2         2001\n",
       "3         2001\n",
       "4         2001\n",
       "          ... \n",
       "247115    2001\n",
       "247116    2001\n",
       "247117    2001\n",
       "247118    2001\n",
       "247119    2001\n",
       "Name: year_station_established, Length: 247120, dtype: int64"
      ]
     },
     "execution_count": 13,
     "metadata": {},
     "output_type": "execute_result"
    }
   ],
   "source": [
    "combined_df[\"year_station_established\"]"
   ]
  },
  {
   "cell_type": "code",
   "execution_count": 14,
   "id": "69c2eb70",
   "metadata": {},
   "outputs": [
    {
     "name": "stderr",
     "output_type": "stream",
     "text": [
      "d:\\users\\daryl\\anaconda3\\envs\\us_traffic\\lib\\site-packages\\seaborn\\_decorators.py:36: FutureWarning: Pass the following variable as a keyword arg: x. From version 0.12, the only valid positional argument will be `data`, and passing other arguments without an explicit keyword will result in an error or misinterpretation.\n",
      "  warnings.warn(\n"
     ]
    },
    {
     "data": {
      "image/png": "[encoded data removed]",
      "text/plain": [
       "<Figure size 1080x792 with 1 Axes>"
      ]
     },
     "metadata": {},
     "output_type": "display_data"
    }
   ],
   "source": [
    "plot_dims = (15, 11)\n",
    "fig, ax= plt.subplots(figsize=plot_dims)\n",
    "plt.title(\"Count of Year Station is Established\")\n",
    "sns.countplot(station_df[\"year_station_established\"])\n",
    "plt.show()"
   ]
  },
  {
   "cell_type": "markdown",
   "id": "df8b8f71",
   "metadata": {},
   "source": [
    "Most of the observation stations are relatively new where they are constructed some time during the 2000s. However we have an exceeding number of stations that are built during the 1960s also. "
   ]
  },
  {
   "cell_type": "markdown",
   "id": "632b6ea6",
   "metadata": {},
   "source": [
    "Since we will be working in time series, it will be useful to convert the date column to a datetime dtype in pandas"
   ]
  },
  {
   "cell_type": "code",
   "execution_count": 15,
   "id": "11e0d17e",
   "metadata": {},
   "outputs": [],
   "source": [
    "combined_df[\"date\"] = pd.to_datetime(combined_df[\"date\"])"
   ]
  },
  {
   "cell_type": "code",
   "execution_count": 16,
   "id": "4052b9f2",
   "metadata": {},
   "outputs": [
    {
     "name": "stdout",
     "output_type": "stream",
     "text": [
      "<class 'pandas.core.frame.DataFrame'>\n",
      "Int64Index: 247120 entries, 0 to 247119\n",
      "Data columns (total 69 columns):\n",
      " #   Column                                            Non-Null Count   Dtype         \n",
      "---  ------                                            --------------   -----         \n",
      " 0   date                                              247120 non-null  datetime64[ns]\n",
      " 1   day_of_data                                       247120 non-null  int64         \n",
      " 2   day_of_week                                       247120 non-null  int64         \n",
      " 3   direction_of_travel_name                          247120 non-null  object        \n",
      " 4   functional_classification_name                    247120 non-null  object        \n",
      " 5   lane_of_travel                                    247120 non-null  int64         \n",
      " 6   month_of_data                                     247120 non-null  int64         \n",
      " 7   record_type_x                                     247120 non-null  int64         \n",
      " 8   station_id                                        247120 non-null  object        \n",
      " 9   traffic_volume_counted_after_0000_to_0100         247120 non-null  int64         \n",
      " 10  traffic_volume_counted_after_0100_to_0200         247120 non-null  int64         \n",
      " 11  traffic_volume_counted_after_0200_to_0300         247120 non-null  int64         \n",
      " 12  traffic_volume_counted_after_0300_to_0400         247120 non-null  int64         \n",
      " 13  traffic_volume_counted_after_0400_to_0500         247120 non-null  int64         \n",
      " 14  traffic_volume_counted_after_0500_to_0600         247120 non-null  int64         \n",
      " 15  traffic_volume_counted_after_0600_to_0700         247120 non-null  int64         \n",
      " 16  traffic_volume_counted_after_0700_to_0800         247120 non-null  int64         \n",
      " 17  traffic_volume_counted_after_0800_to_0900         247120 non-null  int64         \n",
      " 18  traffic_volume_counted_after_0900_to_1000         247120 non-null  int64         \n",
      " 19  traffic_volume_counted_after_1000_to_1100         247120 non-null  int64         \n",
      " 20  traffic_volume_counted_after_1100_to_1200         247120 non-null  int64         \n",
      " 21  traffic_volume_counted_after_1200_to_1300         247120 non-null  int64         \n",
      " 22  traffic_volume_counted_after_1300_to_1400         247120 non-null  int64         \n",
      " 23  traffic_volume_counted_after_1400_to_1500         247120 non-null  int64         \n",
      " 24  traffic_volume_counted_after_1500_to_1600         247120 non-null  int64         \n",
      " 25  traffic_volume_counted_after_1600_to_1700         247120 non-null  int64         \n",
      " 26  traffic_volume_counted_after_1700_to_1800         247120 non-null  int64         \n",
      " 27  traffic_volume_counted_after_1800_to_1900         247120 non-null  int64         \n",
      " 28  traffic_volume_counted_after_1900_to_2000         247120 non-null  int64         \n",
      " 29  traffic_volume_counted_after_2000_to_2100         247120 non-null  int64         \n",
      " 30  traffic_volume_counted_after_2100_to_2200         247120 non-null  int64         \n",
      " 31  traffic_volume_counted_after_2200_to_2300         247120 non-null  int64         \n",
      " 32  traffic_volume_counted_after_2300_to_2400         247120 non-null  int64         \n",
      " 33  year_of_data                                      247120 non-null  int64         \n",
      " 34  algorithm_of_vehicle_classification               144315 non-null  object        \n",
      " 35  calibration_of_weighing_system                    43340 non-null   object        \n",
      " 36  classification_system_for_vehicle_classification  247120 non-null  int64         \n",
      " 37  concurrent_route_signing                          247120 non-null  int64         \n",
      " 38  concurrent_signed_route_number                    25251 non-null   object        \n",
      " 39  fips_county_code                                  247120 non-null  int64         \n",
      " 40  hpms_sample_identifier                            146274 non-null  object        \n",
      " 41  hpms_sample_type                                  247120 non-null  object        \n",
      " 42  latitude                                          247120 non-null  float64       \n",
      " 43  longitude                                         247120 non-null  float64       \n",
      " 44  lrs_identification                                247120 non-null  object        \n",
      " 45  lrs_location_point                                247120 non-null  float64       \n",
      " 46  method_of_data_retrieval                          247120 non-null  int64         \n",
      " 47  method_of_traffic_volume_counting                 247120 non-null  int64         \n",
      " 48  method_of_truck_weighing_name                     247120 non-null  object        \n",
      " 49  method_of_vehicle_classification                  247120 non-null  int64         \n",
      " 50  national_highway_system                           247120 non-null  object        \n",
      " 51  number_of_lanes_in_direction_indicated            247120 non-null  int64         \n",
      " 52  number_of_lanes_monitored_for_traffic_volume      247120 non-null  int64         \n",
      " 53  number_of_lanes_monitored_for_truck_weight        247120 non-null  int64         \n",
      " 54  number_of_lanes_monitored_for_vehicle_class       247120 non-null  int64         \n",
      " 55  posted_route_signing                              247120 non-null  int64         \n",
      " 56  posted_signed_route_number                        247120 non-null  object        \n",
      " 57  previous_station_id                               3030 non-null    object        \n",
      " 58  primary_purpose                                   247120 non-null  object        \n",
      " 59  record_type_y                                     247120 non-null  object        \n",
      " 60  sample_type_for_traffic_volume                    247120 non-null  int64         \n",
      " 61  sample_type_for_truck_weight                      43340 non-null   object        \n",
      " 62  sample_type_for_vehicle_classification            247120 non-null  int64         \n",
      " 63  second_type_of_sensor                             247120 non-null  object        \n",
      " 64  station_location                                  247120 non-null  object        \n",
      " 65  type_of_sensor_name                               247120 non-null  object        \n",
      " 66  year_station_discontinued                         247120 non-null  int64         \n",
      " 67  year_station_established                          247120 non-null  int64         \n",
      " 68  total_volume                                      247120 non-null  int64         \n",
      "dtypes: datetime64[ns](1), float64(3), int64(46), object(19)\n",
      "memory usage: 132.0+ MB\n"
     ]
    }
   ],
   "source": [
    "combined_df.info()"
   ]
  },
  {
   "cell_type": "markdown",
   "id": "8ba655bd",
   "metadata": {},
   "source": [
    "### Day of Week Seasonality Trend"
   ]
  },
  {
   "cell_type": "code",
   "execution_count": 17,
   "id": "748915a2",
   "metadata": {},
   "outputs": [],
   "source": [
    "day_groupby = combined_df.groupby(\"day_of_week\").sum()[\"total_volume\"]"
   ]
  },
  {
   "cell_type": "code",
   "execution_count": 18,
   "id": "fb0346ca",
   "metadata": {},
   "outputs": [
    {
     "data": {
      "image/png": "[encoded data removed]",
      "text/plain": [
       "<Figure size 1080x792 with 1 Axes>"
      ]
     },
     "metadata": {},
     "output_type": "display_data"
    }
   ],
   "source": [
    "plot_dims = (15, 11)\n",
    "fig, ax= plt.subplots(figsize=plot_dims)\n",
    "plt.title(\"Volume by Weekday\")\n",
    "sns.barplot(x=day_groupby.index, y=day_groupby, ax=ax)\n",
    "plt.show()"
   ]
  },
  {
   "cell_type": "markdown",
   "id": "41f40fe7",
   "metadata": {},
   "source": [
    "We will assume for this dataset that day_7 is Sunday and day_1 is Monday, so on and so forth.\n",
    "\n",
    "Based on the traffic volume, we can see that other than Monday, all the other week days have the highest volume of traffic. This could be due to people commuting to work."
   ]
  },
  {
   "cell_type": "markdown",
   "id": "e4a8f62e",
   "metadata": {},
   "source": [
    "### Month Seasonality Trend"
   ]
  },
  {
   "cell_type": "code",
   "execution_count": 19,
   "id": "1ce48cdd",
   "metadata": {},
   "outputs": [],
   "source": [
    "month_groupby = combined_df.groupby(\"month_of_data\").sum()[\"total_volume\"]"
   ]
  },
  {
   "cell_type": "code",
   "execution_count": 20,
   "id": "33d807b3",
   "metadata": {},
   "outputs": [
    {
     "data": {
      "image/png": "[encoded data removed]",
      "text/plain": [
       "<Figure size 1080x792 with 1 Axes>"
      ]
     },
     "metadata": {},
     "output_type": "display_data"
    }
   ],
   "source": [
    "plot_dims = (15, 11)\n",
    "fig, ax= plt.subplots(figsize=plot_dims)\n",
    "plt.title(\"Volume by Month\")\n",
    "sns.barplot(x=month_groupby.index, y=month_groupby, ax=ax)\n",
    "plt.show()"
   ]
  },
  {
   "cell_type": "markdown",
   "id": "9a7419f4",
   "metadata": {},
   "source": [
    "The volume across months seems to be fairly consistent however there seem to be a giant spike in traffic volume during the month of December. This could be due to Americans typically travelling across the country to visit their relatives during the festive seasons such as Christmas."
   ]
  },
  {
   "cell_type": "markdown",
   "id": "6dffa72a",
   "metadata": {},
   "source": [
    "### Hourly Seasonality Trend"
   ]
  },
  {
   "cell_type": "code",
   "execution_count": 21,
   "id": "99a95ea7",
   "metadata": {},
   "outputs": [],
   "source": [
    "volume_columns = [column for column in combined_df.columns if column.startswith(\"traffic_volume\")]\n",
    "hourly_groupby = combined_df[volume_columns].sum()"
   ]
  },
  {
   "cell_type": "code",
   "execution_count": 22,
   "id": "d977d73e",
   "metadata": {},
   "outputs": [],
   "source": [
    "# rename column for clarity\n",
    "for column in volume_columns:\n",
    "    name = column.split(\"_\")[4]\n",
    "    hourly_groupby = hourly_groupby.rename(index={column: name})\n",
    "    "
   ]
  },
  {
   "cell_type": "code",
   "execution_count": 23,
   "id": "b7e7722e",
   "metadata": {},
   "outputs": [
    {
     "data": {
      "image/png": "[encoded data removed]",
      "text/plain": [
       "<Figure size 1080x792 with 1 Axes>"
      ]
     },
     "metadata": {},
     "output_type": "display_data"
    }
   ],
   "source": [
    "plot_dims = (15, 11)\n",
    "fig, ax= plt.subplots(figsize=plot_dims)\n",
    "plt.title(\"Volume by Hour of the Day\")\n",
    "sns.barplot(x=hourly_groupby.index, y=hourly_groupby, ax=ax)\n",
    "plt.show()"
   ]
  },
  {
   "cell_type": "markdown",
   "id": "09fff530",
   "metadata": {},
   "source": [
    "Not surprisingly, odd hours such as 10pm to 5am have the lowest traffic volume among all the hours of the day. Volume starts to spike at around 6am as people start commuting to their workplace and delivery fleets start their day. Traffic volume increase continuously throughout the day until around 5pm to 6pm when it starts declining as people start to knock off and commute home where they rest and stop travelling on roads.\n",
    "\n",
    "Based on Wikipedia, rush hour is typically between 6am to 10am (morning) and 3pm to 7pm (evening) which seems to agree with this plot where traffic volume is typically at its highest."
   ]
  },
  {
   "cell_type": "markdown",
   "id": "e22953ea",
   "metadata": {},
   "source": [
    "### Lane of Travel"
   ]
  },
  {
   "cell_type": "markdown",
   "id": "72732d68",
   "metadata": {},
   "source": [
    "Lane of travel is in int dtype when it is actually a mapping, converting it back to category for visualisation purposes"
   ]
  },
  {
   "cell_type": "code",
   "execution_count": 24,
   "id": "7dae74a5",
   "metadata": {},
   "outputs": [],
   "source": [
    "combined_df[\"lane_of_travel\"] = combined_df[\"lane_of_travel\"].astype(\"object\")"
   ]
  },
  {
   "cell_type": "code",
   "execution_count": 25,
   "id": "d2ff3b7a",
   "metadata": {},
   "outputs": [],
   "source": [
    "lane_of_travel_groupby = combined_df.groupby(\"lane_of_travel\").sum()\n",
    "lane_of_travel_groupby.reset_index(inplace=True)"
   ]
  },
  {
   "cell_type": "code",
   "execution_count": 26,
   "id": "0c6df209",
   "metadata": {},
   "outputs": [
    {
     "data": {
      "image/png": "[encoded data removed]",
      "text/plain": [
       "<Figure size 1080x792 with 1 Axes>"
      ]
     },
     "metadata": {},
     "output_type": "display_data"
    }
   ],
   "source": [
    "plot_dims = (15, 11)\n",
    "fig, ax= plt.subplots(figsize=plot_dims)\n",
    "plt.title(\"Volume by lane\")\n",
    "sns.barplot(y=\"total_volume\", x=\"lane_of_travel\", data=lane_of_travel_groupby)\n",
    "plt.show()"
   ]
  },
  {
   "cell_type": "markdown",
   "id": "72005dde",
   "metadata": {},
   "source": [
    "Based on the prior mapping, lane_of_travel value of 1 is the right (outer most lane) while lane 2 to 5 are \"Other Lanes\".\n",
    "\n",
    "Intuitively, lane 1 would definitely have the most volume of traffic since all roads would have a minimum of at least 1 lane wheras having 2 to 5 lanes is definitely not a given. Hence this data does make sense as to why the volume of traffic is in chronological order."
   ]
  },
  {
   "cell_type": "code",
   "execution_count": 27,
   "id": "fb9f62fd",
   "metadata": {},
   "outputs": [],
   "source": [
    "direction_of_travel_groupby = combined_df.groupby(\"direction_of_travel_name\").sum()\n",
    "direction_of_travel_groupby.reset_index(inplace=True)"
   ]
  },
  {
   "cell_type": "markdown",
   "id": "68794f80",
   "metadata": {},
   "source": [
    "### Longitude and Latitude"
   ]
  },
  {
   "cell_type": "markdown",
   "id": "4ec4e323",
   "metadata": {},
   "source": [
    "We will be working with station_df data instead since we only need the station specific information. However, based on my external research, I've noticed some discrepency in the longitude data. Finding longitude between 72.20 and 79.75 brought me to India (Using the current latitude).\n",
    "\n",
    "After experimenting, it seems like the longitude data should be negative. Will be cleaning up the data in this manner."
   ]
  },
  {
   "cell_type": "code",
   "execution_count": 55,
   "id": "d9544ba7",
   "metadata": {},
   "outputs": [
    {
     "data": {
      "text/plain": [
       "72.203335"
      ]
     },
     "execution_count": 55,
     "metadata": {},
     "output_type": "execute_result"
    }
   ],
   "source": [
    "station_df[\"longitude\"].min()"
   ]
  },
  {
   "cell_type": "code",
   "execution_count": 51,
   "id": "c052e9a5",
   "metadata": {
    "scrolled": true
   },
   "outputs": [
    {
     "data": {
      "text/plain": [
       "79.758432"
      ]
     },
     "execution_count": 51,
     "metadata": {},
     "output_type": "execute_result"
    }
   ],
   "source": [
    "station_df[\"longitude\"].max()"
   ]
  },
  {
   "cell_type": "code",
   "execution_count": 52,
   "id": "72b1bc88",
   "metadata": {},
   "outputs": [
    {
     "data": {
      "text/plain": [
       "40.526135"
      ]
     },
     "execution_count": 52,
     "metadata": {},
     "output_type": "execute_result"
    }
   ],
   "source": [
    "station_df[\"latitude\"].min()"
   ]
  },
  {
   "cell_type": "code",
   "execution_count": 56,
   "id": "8701bb7e",
   "metadata": {
    "scrolled": true
   },
   "outputs": [
    {
     "data": {
      "text/plain": [
       "44.999666"
      ]
     },
     "execution_count": 56,
     "metadata": {},
     "output_type": "execute_result"
    }
   ],
   "source": [
    "station_df[\"latitude\"].max()"
   ]
  },
  {
   "cell_type": "code",
   "execution_count": 58,
   "id": "ba689ac8",
   "metadata": {},
   "outputs": [],
   "source": [
    "station_df[\"longitude\"] = station_df[\"longitude\"] * -1\n",
    "combined_df[\"longitude\"] = station_df[\"longitude\"] * -1"
   ]
  },
  {
   "cell_type": "markdown",
   "id": "481d87a1",
   "metadata": {},
   "source": [
    "By obtaining the minimum value of both longitude and latitude, we can plot out where each of the station is located in New York City by overlaying a bounding box (similar to object detection in Computer Vision) where we have a matrice of ([min_longitude, max_longitude], [min_latitude, max_latitude]) to encapsulate every single station in our dataset before plotting the stations to ensure we capture all the points."
   ]
  },
  {
   "cell_type": "code",
   "execution_count": 60,
   "id": "dd9c07f4",
   "metadata": {},
   "outputs": [
    {
     "data": {
      "text/plain": [
       "-79.758432"
      ]
     },
     "execution_count": 60,
     "metadata": {},
     "output_type": "execute_result"
    }
   ],
   "source": [
    "station_df[\"longitude\"].min()"
   ]
  },
  {
   "cell_type": "markdown",
   "id": "48d9488c",
   "metadata": {},
   "source": [
    "## Feature Engineering"
   ]
  },
  {
   "cell_type": "markdown",
   "id": "39b64b43",
   "metadata": {},
   "source": [
    "Some interesting features we can engineer from this dataset could be the total traffic volume in a day. This could be useful when we are trying to determine if there's any seasonality based on months.\n",
    "\n",
    "We can also engineer a new feature where we determine the number of years that the station has been in operation. We can do this by subtracting the year 2015 with the year where the station is established. We should probably do a sanity check that the year_station_discontinued is 0 and the year_of_data is all 15"
   ]
  },
  {
   "cell_type": "markdown",
   "id": "a00f2655",
   "metadata": {},
   "source": [
    "### years_of_operation"
   ]
  },
  {
   "cell_type": "code",
   "execution_count": 28,
   "id": "a026cec0",
   "metadata": {},
   "outputs": [
    {
     "data": {
      "text/plain": [
       "array([0], dtype=int64)"
      ]
     },
     "execution_count": 28,
     "metadata": {},
     "output_type": "execute_result"
    }
   ],
   "source": [
    "combined_df[\"year_station_discontinued\"].unique()"
   ]
  },
  {
   "cell_type": "markdown",
   "id": "8717d5d0",
   "metadata": {},
   "source": [
    "All stations should be operational, hence this data makes sense and we can just drop this since it does not offer any new information."
   ]
  },
  {
   "cell_type": "code",
   "execution_count": 29,
   "id": "c59a6678",
   "metadata": {},
   "outputs": [
    {
     "data": {
      "text/plain": [
       "array([15], dtype=int64)"
      ]
     },
     "execution_count": 29,
     "metadata": {},
     "output_type": "execute_result"
    }
   ],
   "source": [
    "combined_df[\"year_of_data\"].unique()"
   ]
  },
  {
   "cell_type": "markdown",
   "id": "c25e4095",
   "metadata": {},
   "source": [
    "The data only comprises of 2015 data which is why the year of data column only have 15 inside."
   ]
  },
  {
   "cell_type": "code",
   "execution_count": 30,
   "id": "2d7e031a",
   "metadata": {},
   "outputs": [],
   "source": [
    "combined_df = create_years_of_operation_column(combined_df)"
   ]
  },
  {
   "cell_type": "markdown",
   "id": "b4b3e44d",
   "metadata": {},
   "source": [
    "Created a new column indicating the number of years that the observation station is being used and then dropping the year of data and year_station_discontinued column as we don't need it anymore (one unique value only)."
   ]
  },
  {
   "cell_type": "code",
   "execution_count": 41,
   "id": "0d4ea5f3",
   "metadata": {},
   "outputs": [
    {
     "ename": "KeyError",
     "evalue": "\"['year_of_data' 'year_station_discontinued' 'year_Station_established'] not found in axis\"",
     "output_type": "error",
     "traceback": [
      "\u001b[1;31m---------------------------------------------------------------------------\u001b[0m",
      "\u001b[1;31mKeyError\u001b[0m                                  Traceback (most recent call last)",
      "\u001b[1;32m~\\AppData\\Local\\Temp/ipykernel_9748/1702588006.py\u001b[0m in \u001b[0;36m<module>\u001b[1;34m\u001b[0m\n\u001b[1;32m----> 1\u001b[1;33m \u001b[0mcombined_df\u001b[0m\u001b[1;33m.\u001b[0m\u001b[0mdrop\u001b[0m\u001b[1;33m(\u001b[0m\u001b[1;33m[\u001b[0m\u001b[1;34m\"year_of_data\"\u001b[0m\u001b[1;33m,\u001b[0m \u001b[1;34m\"year_station_discontinued\"\u001b[0m\u001b[1;33m,\u001b[0m \u001b[1;34m\"year_Station_established\"\u001b[0m\u001b[1;33m]\u001b[0m\u001b[1;33m,\u001b[0m \u001b[0minplace\u001b[0m\u001b[1;33m=\u001b[0m\u001b[1;32mTrue\u001b[0m\u001b[1;33m,\u001b[0m \u001b[0maxis\u001b[0m\u001b[1;33m=\u001b[0m\u001b[1;36m1\u001b[0m\u001b[1;33m)\u001b[0m\u001b[1;33m\u001b[0m\u001b[1;33m\u001b[0m\u001b[0m\n\u001b[0m",
      "\u001b[1;32md:\\users\\daryl\\anaconda3\\envs\\us_traffic\\lib\\site-packages\\pandas\\util\\_decorators.py\u001b[0m in \u001b[0;36mwrapper\u001b[1;34m(*args, **kwargs)\u001b[0m\n\u001b[0;32m    309\u001b[0m                     \u001b[0mstacklevel\u001b[0m\u001b[1;33m=\u001b[0m\u001b[0mstacklevel\u001b[0m\u001b[1;33m,\u001b[0m\u001b[1;33m\u001b[0m\u001b[1;33m\u001b[0m\u001b[0m\n\u001b[0;32m    310\u001b[0m                 )\n\u001b[1;32m--> 311\u001b[1;33m             \u001b[1;32mreturn\u001b[0m \u001b[0mfunc\u001b[0m\u001b[1;33m(\u001b[0m\u001b[1;33m*\u001b[0m\u001b[0margs\u001b[0m\u001b[1;33m,\u001b[0m \u001b[1;33m**\u001b[0m\u001b[0mkwargs\u001b[0m\u001b[1;33m)\u001b[0m\u001b[1;33m\u001b[0m\u001b[1;33m\u001b[0m\u001b[0m\n\u001b[0m\u001b[0;32m    312\u001b[0m \u001b[1;33m\u001b[0m\u001b[0m\n\u001b[0;32m    313\u001b[0m         \u001b[1;32mreturn\u001b[0m \u001b[0mwrapper\u001b[0m\u001b[1;33m\u001b[0m\u001b[1;33m\u001b[0m\u001b[0m\n",
      "\u001b[1;32md:\\users\\daryl\\anaconda3\\envs\\us_traffic\\lib\\site-packages\\pandas\\core\\frame.py\u001b[0m in \u001b[0;36mdrop\u001b[1;34m(self, labels, axis, index, columns, level, inplace, errors)\u001b[0m\n\u001b[0;32m   4899\u001b[0m                 \u001b[0mweight\u001b[0m  \u001b[1;36m1.0\u001b[0m     \u001b[1;36m0.8\u001b[0m\u001b[1;33m\u001b[0m\u001b[1;33m\u001b[0m\u001b[0m\n\u001b[0;32m   4900\u001b[0m         \"\"\"\n\u001b[1;32m-> 4901\u001b[1;33m         return super().drop(\n\u001b[0m\u001b[0;32m   4902\u001b[0m             \u001b[0mlabels\u001b[0m\u001b[1;33m=\u001b[0m\u001b[0mlabels\u001b[0m\u001b[1;33m,\u001b[0m\u001b[1;33m\u001b[0m\u001b[1;33m\u001b[0m\u001b[0m\n\u001b[0;32m   4903\u001b[0m             \u001b[0maxis\u001b[0m\u001b[1;33m=\u001b[0m\u001b[0maxis\u001b[0m\u001b[1;33m,\u001b[0m\u001b[1;33m\u001b[0m\u001b[1;33m\u001b[0m\u001b[0m\n",
      "\u001b[1;32md:\\users\\daryl\\anaconda3\\envs\\us_traffic\\lib\\site-packages\\pandas\\core\\generic.py\u001b[0m in \u001b[0;36mdrop\u001b[1;34m(self, labels, axis, index, columns, level, inplace, errors)\u001b[0m\n\u001b[0;32m   4148\u001b[0m         \u001b[1;32mfor\u001b[0m \u001b[0maxis\u001b[0m\u001b[1;33m,\u001b[0m \u001b[0mlabels\u001b[0m \u001b[1;32min\u001b[0m \u001b[0maxes\u001b[0m\u001b[1;33m.\u001b[0m\u001b[0mitems\u001b[0m\u001b[1;33m(\u001b[0m\u001b[1;33m)\u001b[0m\u001b[1;33m:\u001b[0m\u001b[1;33m\u001b[0m\u001b[1;33m\u001b[0m\u001b[0m\n\u001b[0;32m   4149\u001b[0m             \u001b[1;32mif\u001b[0m \u001b[0mlabels\u001b[0m \u001b[1;32mis\u001b[0m \u001b[1;32mnot\u001b[0m \u001b[1;32mNone\u001b[0m\u001b[1;33m:\u001b[0m\u001b[1;33m\u001b[0m\u001b[1;33m\u001b[0m\u001b[0m\n\u001b[1;32m-> 4150\u001b[1;33m                 \u001b[0mobj\u001b[0m \u001b[1;33m=\u001b[0m \u001b[0mobj\u001b[0m\u001b[1;33m.\u001b[0m\u001b[0m_drop_axis\u001b[0m\u001b[1;33m(\u001b[0m\u001b[0mlabels\u001b[0m\u001b[1;33m,\u001b[0m \u001b[0maxis\u001b[0m\u001b[1;33m,\u001b[0m \u001b[0mlevel\u001b[0m\u001b[1;33m=\u001b[0m\u001b[0mlevel\u001b[0m\u001b[1;33m,\u001b[0m \u001b[0merrors\u001b[0m\u001b[1;33m=\u001b[0m\u001b[0merrors\u001b[0m\u001b[1;33m)\u001b[0m\u001b[1;33m\u001b[0m\u001b[1;33m\u001b[0m\u001b[0m\n\u001b[0m\u001b[0;32m   4151\u001b[0m \u001b[1;33m\u001b[0m\u001b[0m\n\u001b[0;32m   4152\u001b[0m         \u001b[1;32mif\u001b[0m \u001b[0minplace\u001b[0m\u001b[1;33m:\u001b[0m\u001b[1;33m\u001b[0m\u001b[1;33m\u001b[0m\u001b[0m\n",
      "\u001b[1;32md:\\users\\daryl\\anaconda3\\envs\\us_traffic\\lib\\site-packages\\pandas\\core\\generic.py\u001b[0m in \u001b[0;36m_drop_axis\u001b[1;34m(self, labels, axis, level, errors)\u001b[0m\n\u001b[0;32m   4183\u001b[0m                 \u001b[0mnew_axis\u001b[0m \u001b[1;33m=\u001b[0m \u001b[0maxis\u001b[0m\u001b[1;33m.\u001b[0m\u001b[0mdrop\u001b[0m\u001b[1;33m(\u001b[0m\u001b[0mlabels\u001b[0m\u001b[1;33m,\u001b[0m \u001b[0mlevel\u001b[0m\u001b[1;33m=\u001b[0m\u001b[0mlevel\u001b[0m\u001b[1;33m,\u001b[0m \u001b[0merrors\u001b[0m\u001b[1;33m=\u001b[0m\u001b[0merrors\u001b[0m\u001b[1;33m)\u001b[0m\u001b[1;33m\u001b[0m\u001b[1;33m\u001b[0m\u001b[0m\n\u001b[0;32m   4184\u001b[0m             \u001b[1;32melse\u001b[0m\u001b[1;33m:\u001b[0m\u001b[1;33m\u001b[0m\u001b[1;33m\u001b[0m\u001b[0m\n\u001b[1;32m-> 4185\u001b[1;33m                 \u001b[0mnew_axis\u001b[0m \u001b[1;33m=\u001b[0m \u001b[0maxis\u001b[0m\u001b[1;33m.\u001b[0m\u001b[0mdrop\u001b[0m\u001b[1;33m(\u001b[0m\u001b[0mlabels\u001b[0m\u001b[1;33m,\u001b[0m \u001b[0merrors\u001b[0m\u001b[1;33m=\u001b[0m\u001b[0merrors\u001b[0m\u001b[1;33m)\u001b[0m\u001b[1;33m\u001b[0m\u001b[1;33m\u001b[0m\u001b[0m\n\u001b[0m\u001b[0;32m   4186\u001b[0m             \u001b[0mresult\u001b[0m \u001b[1;33m=\u001b[0m \u001b[0mself\u001b[0m\u001b[1;33m.\u001b[0m\u001b[0mreindex\u001b[0m\u001b[1;33m(\u001b[0m\u001b[1;33m**\u001b[0m\u001b[1;33m{\u001b[0m\u001b[0maxis_name\u001b[0m\u001b[1;33m:\u001b[0m \u001b[0mnew_axis\u001b[0m\u001b[1;33m}\u001b[0m\u001b[1;33m)\u001b[0m\u001b[1;33m\u001b[0m\u001b[1;33m\u001b[0m\u001b[0m\n\u001b[0;32m   4187\u001b[0m \u001b[1;33m\u001b[0m\u001b[0m\n",
      "\u001b[1;32md:\\users\\daryl\\anaconda3\\envs\\us_traffic\\lib\\site-packages\\pandas\\core\\indexes\\base.py\u001b[0m in \u001b[0;36mdrop\u001b[1;34m(self, labels, errors)\u001b[0m\n\u001b[0;32m   6016\u001b[0m         \u001b[1;32mif\u001b[0m \u001b[0mmask\u001b[0m\u001b[1;33m.\u001b[0m\u001b[0many\u001b[0m\u001b[1;33m(\u001b[0m\u001b[1;33m)\u001b[0m\u001b[1;33m:\u001b[0m\u001b[1;33m\u001b[0m\u001b[1;33m\u001b[0m\u001b[0m\n\u001b[0;32m   6017\u001b[0m             \u001b[1;32mif\u001b[0m \u001b[0merrors\u001b[0m \u001b[1;33m!=\u001b[0m \u001b[1;34m\"ignore\"\u001b[0m\u001b[1;33m:\u001b[0m\u001b[1;33m\u001b[0m\u001b[1;33m\u001b[0m\u001b[0m\n\u001b[1;32m-> 6018\u001b[1;33m                 \u001b[1;32mraise\u001b[0m \u001b[0mKeyError\u001b[0m\u001b[1;33m(\u001b[0m\u001b[1;34mf\"{labels[mask]} not found in axis\"\u001b[0m\u001b[1;33m)\u001b[0m\u001b[1;33m\u001b[0m\u001b[1;33m\u001b[0m\u001b[0m\n\u001b[0m\u001b[0;32m   6019\u001b[0m             \u001b[0mindexer\u001b[0m \u001b[1;33m=\u001b[0m \u001b[0mindexer\u001b[0m\u001b[1;33m[\u001b[0m\u001b[1;33m~\u001b[0m\u001b[0mmask\u001b[0m\u001b[1;33m]\u001b[0m\u001b[1;33m\u001b[0m\u001b[1;33m\u001b[0m\u001b[0m\n\u001b[0;32m   6020\u001b[0m         \u001b[1;32mreturn\u001b[0m \u001b[0mself\u001b[0m\u001b[1;33m.\u001b[0m\u001b[0mdelete\u001b[0m\u001b[1;33m(\u001b[0m\u001b[0mindexer\u001b[0m\u001b[1;33m)\u001b[0m\u001b[1;33m\u001b[0m\u001b[1;33m\u001b[0m\u001b[0m\n",
      "\u001b[1;31mKeyError\u001b[0m: \"['year_of_data' 'year_station_discontinued' 'year_Station_established'] not found in axis\""
     ]
    }
   ],
   "source": [
    "combined_df.drop([\"year_of_data\", \"year_station_discontinued\", \"year_Station_established\"], inplace=True, axis=1)"
   ]
  },
  {
   "cell_type": "code",
   "execution_count": 42,
   "id": "940ec07b",
   "metadata": {},
   "outputs": [
    {
     "name": "stdout",
     "output_type": "stream",
     "text": [
      "<class 'pandas.core.frame.DataFrame'>\n",
      "Int64Index: 247120 entries, 0 to 247119\n",
      "Data columns (total 68 columns):\n",
      " #   Column                                            Non-Null Count   Dtype         \n",
      "---  ------                                            --------------   -----         \n",
      " 0   date                                              247120 non-null  datetime64[ns]\n",
      " 1   day_of_data                                       247120 non-null  int64         \n",
      " 2   day_of_week                                       247120 non-null  int64         \n",
      " 3   direction_of_travel_name                          247120 non-null  object        \n",
      " 4   functional_classification_name                    247120 non-null  object        \n",
      " 5   lane_of_travel                                    247120 non-null  object        \n",
      " 6   month_of_data                                     247120 non-null  int64         \n",
      " 7   record_type_x                                     247120 non-null  int64         \n",
      " 8   station_id                                        247120 non-null  object        \n",
      " 9   traffic_volume_counted_after_0000_to_0100         247120 non-null  int64         \n",
      " 10  traffic_volume_counted_after_0100_to_0200         247120 non-null  int64         \n",
      " 11  traffic_volume_counted_after_0200_to_0300         247120 non-null  int64         \n",
      " 12  traffic_volume_counted_after_0300_to_0400         247120 non-null  int64         \n",
      " 13  traffic_volume_counted_after_0400_to_0500         247120 non-null  int64         \n",
      " 14  traffic_volume_counted_after_0500_to_0600         247120 non-null  int64         \n",
      " 15  traffic_volume_counted_after_0600_to_0700         247120 non-null  int64         \n",
      " 16  traffic_volume_counted_after_0700_to_0800         247120 non-null  int64         \n",
      " 17  traffic_volume_counted_after_0800_to_0900         247120 non-null  int64         \n",
      " 18  traffic_volume_counted_after_0900_to_1000         247120 non-null  int64         \n",
      " 19  traffic_volume_counted_after_1000_to_1100         247120 non-null  int64         \n",
      " 20  traffic_volume_counted_after_1100_to_1200         247120 non-null  int64         \n",
      " 21  traffic_volume_counted_after_1200_to_1300         247120 non-null  int64         \n",
      " 22  traffic_volume_counted_after_1300_to_1400         247120 non-null  int64         \n",
      " 23  traffic_volume_counted_after_1400_to_1500         247120 non-null  int64         \n",
      " 24  traffic_volume_counted_after_1500_to_1600         247120 non-null  int64         \n",
      " 25  traffic_volume_counted_after_1600_to_1700         247120 non-null  int64         \n",
      " 26  traffic_volume_counted_after_1700_to_1800         247120 non-null  int64         \n",
      " 27  traffic_volume_counted_after_1800_to_1900         247120 non-null  int64         \n",
      " 28  traffic_volume_counted_after_1900_to_2000         247120 non-null  int64         \n",
      " 29  traffic_volume_counted_after_2000_to_2100         247120 non-null  int64         \n",
      " 30  traffic_volume_counted_after_2100_to_2200         247120 non-null  int64         \n",
      " 31  traffic_volume_counted_after_2200_to_2300         247120 non-null  int64         \n",
      " 32  traffic_volume_counted_after_2300_to_2400         247120 non-null  int64         \n",
      " 33  algorithm_of_vehicle_classification               144315 non-null  object        \n",
      " 34  calibration_of_weighing_system                    43340 non-null   object        \n",
      " 35  classification_system_for_vehicle_classification  247120 non-null  int64         \n",
      " 36  concurrent_route_signing                          247120 non-null  int64         \n",
      " 37  concurrent_signed_route_number                    25251 non-null   object        \n",
      " 38  fips_county_code                                  247120 non-null  int64         \n",
      " 39  hpms_sample_identifier                            146274 non-null  object        \n",
      " 40  hpms_sample_type                                  247120 non-null  object        \n",
      " 41  latitude                                          247120 non-null  float64       \n",
      " 42  longitude                                         247120 non-null  float64       \n",
      " 43  lrs_identification                                247120 non-null  object        \n",
      " 44  lrs_location_point                                247120 non-null  float64       \n",
      " 45  method_of_data_retrieval                          247120 non-null  int64         \n",
      " 46  method_of_traffic_volume_counting                 247120 non-null  int64         \n",
      " 47  method_of_truck_weighing_name                     247120 non-null  object        \n",
      " 48  method_of_vehicle_classification                  247120 non-null  int64         \n",
      " 49  national_highway_system                           247120 non-null  object        \n",
      " 50  number_of_lanes_in_direction_indicated            247120 non-null  int64         \n",
      " 51  number_of_lanes_monitored_for_traffic_volume      247120 non-null  int64         \n",
      " 52  number_of_lanes_monitored_for_truck_weight        247120 non-null  int64         \n",
      " 53  number_of_lanes_monitored_for_vehicle_class       247120 non-null  int64         \n",
      " 54  posted_route_signing                              247120 non-null  int64         \n",
      " 55  posted_signed_route_number                        247120 non-null  object        \n",
      " 56  previous_station_id                               3030 non-null    object        \n",
      " 57  primary_purpose                                   247120 non-null  object        \n",
      " 58  record_type_y                                     247120 non-null  object        \n",
      " 59  sample_type_for_traffic_volume                    247120 non-null  int64         \n",
      " 60  sample_type_for_truck_weight                      43340 non-null   object        \n",
      " 61  sample_type_for_vehicle_classification            247120 non-null  int64         \n",
      " 62  second_type_of_sensor                             247120 non-null  object        \n",
      " 63  station_location                                  247120 non-null  object        \n",
      " 64  type_of_sensor_name                               247120 non-null  object        \n",
      " 65  year_station_established                          247120 non-null  int64         \n",
      " 66  total_volume                                      247120 non-null  int64         \n",
      " 67  year_of_service                                   247120 non-null  int64         \n",
      "dtypes: datetime64[ns](1), float64(3), int64(44), object(20)\n",
      "memory usage: 130.1+ MB\n"
     ]
    }
   ],
   "source": [
    "combined_df.info()"
   ]
  },
  {
   "cell_type": "markdown",
   "id": "a03f583a",
   "metadata": {},
   "source": [
    "## Summary\n",
    "\n",
    "Based on the EDA, some of the interesting insights that we can derive are:\n",
    "\n",
    "1)"
   ]
  }
 ],
 "metadata": {
  "kernelspec": {
   "display_name": "Python 3 (ipykernel)",
   "language": "python",
   "name": "python3"
  },
  "language_info": {
   "codemirror_mode": {
    "name": "ipython",
    "version": 3
   },
   "file_extension": ".py",
   "mimetype": "text/x-python",
   "name": "python",
   "nbconvert_exporter": "python",
   "pygments_lexer": "ipython3",
   "version": "3.8.11"
  }
 },
 "nbformat": 4,
 "nbformat_minor": 5
}
